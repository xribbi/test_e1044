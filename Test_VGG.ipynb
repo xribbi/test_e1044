{
 "cells": [
  {
   "cell_type": "code",
   "execution_count": 1,
   "metadata": {},
   "outputs": [],
   "source": [
    "from tensorflow.keras.applications import vgg16\n",
    "from tensorflow.keras.preprocessing.image import load_img, img_to_array"
   ]
  },
  {
   "cell_type": "code",
   "execution_count": 2,
   "metadata": {},
   "outputs": [
    {
     "name": "stdout",
     "output_type": "stream",
     "text": [
      "Downloading data from https://storage.googleapis.com/tensorflow/keras-applications/vgg16/vgg16_weights_tf_dim_ordering_tf_kernels.h5\n",
      "\u001b[1m553467096/553467096\u001b[0m \u001b[32m━━━━━━━━━━━━━━━━━━━━\u001b[0m\u001b[37m\u001b[0m \u001b[1m14s\u001b[0m 0us/step\n"
     ]
    }
   ],
   "source": [
    "modelVgg = vgg16.VGG16()"
   ]
  },
  {
   "cell_type": "code",
   "execution_count": null,
   "metadata": {},
   "outputs": [
    {
     "data": {
      "text/html": [
       "<pre style=\"white-space:pre;overflow-x:auto;line-height:normal;font-family:Menlo,'DejaVu Sans Mono',consolas,'Courier New',monospace\"><span style=\"font-weight: bold\">Model: \"vgg16\"</span>\n",
       "</pre>\n"
      ],
      "text/plain": [
       "\u001b[1mModel: \"vgg16\"\u001b[0m\n"
      ]
     },
     "metadata": {},
     "output_type": "display_data"
    },
    {
     "data": {
      "text/html": [
       "<pre style=\"white-space:pre;overflow-x:auto;line-height:normal;font-family:Menlo,'DejaVu Sans Mono',consolas,'Courier New',monospace\">┏━━━━━━━━━━━━━━━━━━━━━━━━━━━━━━━━━┳━━━━━━━━━━━━━━━━━━━━━━━━┳━━━━━━━━━━━━━━━┓\n",
       "┃<span style=\"font-weight: bold\"> Layer (type)                    </span>┃<span style=\"font-weight: bold\"> Output Shape           </span>┃<span style=\"font-weight: bold\">       Param # </span>┃\n",
       "┡━━━━━━━━━━━━━━━━━━━━━━━━━━━━━━━━━╇━━━━━━━━━━━━━━━━━━━━━━━━╇━━━━━━━━━━━━━━━┩\n",
       "│ input_layer (<span style=\"color: #0087ff; text-decoration-color: #0087ff\">InputLayer</span>)        │ (<span style=\"color: #00d7ff; text-decoration-color: #00d7ff\">None</span>, <span style=\"color: #00af00; text-decoration-color: #00af00\">224</span>, <span style=\"color: #00af00; text-decoration-color: #00af00\">224</span>, <span style=\"color: #00af00; text-decoration-color: #00af00\">3</span>)    │             <span style=\"color: #00af00; text-decoration-color: #00af00\">0</span> │\n",
       "├─────────────────────────────────┼────────────────────────┼───────────────┤\n",
       "│ block1_conv1 (<span style=\"color: #0087ff; text-decoration-color: #0087ff\">Conv2D</span>)           │ (<span style=\"color: #00d7ff; text-decoration-color: #00d7ff\">None</span>, <span style=\"color: #00af00; text-decoration-color: #00af00\">224</span>, <span style=\"color: #00af00; text-decoration-color: #00af00\">224</span>, <span style=\"color: #00af00; text-decoration-color: #00af00\">64</span>)   │         <span style=\"color: #00af00; text-decoration-color: #00af00\">1,792</span> │\n",
       "├─────────────────────────────────┼────────────────────────┼───────────────┤\n",
       "│ block1_conv2 (<span style=\"color: #0087ff; text-decoration-color: #0087ff\">Conv2D</span>)           │ (<span style=\"color: #00d7ff; text-decoration-color: #00d7ff\">None</span>, <span style=\"color: #00af00; text-decoration-color: #00af00\">224</span>, <span style=\"color: #00af00; text-decoration-color: #00af00\">224</span>, <span style=\"color: #00af00; text-decoration-color: #00af00\">64</span>)   │        <span style=\"color: #00af00; text-decoration-color: #00af00\">36,928</span> │\n",
       "├─────────────────────────────────┼────────────────────────┼───────────────┤\n",
       "│ block1_pool (<span style=\"color: #0087ff; text-decoration-color: #0087ff\">MaxPooling2D</span>)      │ (<span style=\"color: #00d7ff; text-decoration-color: #00d7ff\">None</span>, <span style=\"color: #00af00; text-decoration-color: #00af00\">112</span>, <span style=\"color: #00af00; text-decoration-color: #00af00\">112</span>, <span style=\"color: #00af00; text-decoration-color: #00af00\">64</span>)   │             <span style=\"color: #00af00; text-decoration-color: #00af00\">0</span> │\n",
       "├─────────────────────────────────┼────────────────────────┼───────────────┤\n",
       "│ block2_conv1 (<span style=\"color: #0087ff; text-decoration-color: #0087ff\">Conv2D</span>)           │ (<span style=\"color: #00d7ff; text-decoration-color: #00d7ff\">None</span>, <span style=\"color: #00af00; text-decoration-color: #00af00\">112</span>, <span style=\"color: #00af00; text-decoration-color: #00af00\">112</span>, <span style=\"color: #00af00; text-decoration-color: #00af00\">128</span>)  │        <span style=\"color: #00af00; text-decoration-color: #00af00\">73,856</span> │\n",
       "├─────────────────────────────────┼────────────────────────┼───────────────┤\n",
       "│ block2_conv2 (<span style=\"color: #0087ff; text-decoration-color: #0087ff\">Conv2D</span>)           │ (<span style=\"color: #00d7ff; text-decoration-color: #00d7ff\">None</span>, <span style=\"color: #00af00; text-decoration-color: #00af00\">112</span>, <span style=\"color: #00af00; text-decoration-color: #00af00\">112</span>, <span style=\"color: #00af00; text-decoration-color: #00af00\">128</span>)  │       <span style=\"color: #00af00; text-decoration-color: #00af00\">147,584</span> │\n",
       "├─────────────────────────────────┼────────────────────────┼───────────────┤\n",
       "│ block2_pool (<span style=\"color: #0087ff; text-decoration-color: #0087ff\">MaxPooling2D</span>)      │ (<span style=\"color: #00d7ff; text-decoration-color: #00d7ff\">None</span>, <span style=\"color: #00af00; text-decoration-color: #00af00\">56</span>, <span style=\"color: #00af00; text-decoration-color: #00af00\">56</span>, <span style=\"color: #00af00; text-decoration-color: #00af00\">128</span>)    │             <span style=\"color: #00af00; text-decoration-color: #00af00\">0</span> │\n",
       "├─────────────────────────────────┼────────────────────────┼───────────────┤\n",
       "│ block3_conv1 (<span style=\"color: #0087ff; text-decoration-color: #0087ff\">Conv2D</span>)           │ (<span style=\"color: #00d7ff; text-decoration-color: #00d7ff\">None</span>, <span style=\"color: #00af00; text-decoration-color: #00af00\">56</span>, <span style=\"color: #00af00; text-decoration-color: #00af00\">56</span>, <span style=\"color: #00af00; text-decoration-color: #00af00\">256</span>)    │       <span style=\"color: #00af00; text-decoration-color: #00af00\">295,168</span> │\n",
       "├─────────────────────────────────┼────────────────────────┼───────────────┤\n",
       "│ block3_conv2 (<span style=\"color: #0087ff; text-decoration-color: #0087ff\">Conv2D</span>)           │ (<span style=\"color: #00d7ff; text-decoration-color: #00d7ff\">None</span>, <span style=\"color: #00af00; text-decoration-color: #00af00\">56</span>, <span style=\"color: #00af00; text-decoration-color: #00af00\">56</span>, <span style=\"color: #00af00; text-decoration-color: #00af00\">256</span>)    │       <span style=\"color: #00af00; text-decoration-color: #00af00\">590,080</span> │\n",
       "├─────────────────────────────────┼────────────────────────┼───────────────┤\n",
       "│ block3_conv3 (<span style=\"color: #0087ff; text-decoration-color: #0087ff\">Conv2D</span>)           │ (<span style=\"color: #00d7ff; text-decoration-color: #00d7ff\">None</span>, <span style=\"color: #00af00; text-decoration-color: #00af00\">56</span>, <span style=\"color: #00af00; text-decoration-color: #00af00\">56</span>, <span style=\"color: #00af00; text-decoration-color: #00af00\">256</span>)    │       <span style=\"color: #00af00; text-decoration-color: #00af00\">590,080</span> │\n",
       "├─────────────────────────────────┼────────────────────────┼───────────────┤\n",
       "│ block3_pool (<span style=\"color: #0087ff; text-decoration-color: #0087ff\">MaxPooling2D</span>)      │ (<span style=\"color: #00d7ff; text-decoration-color: #00d7ff\">None</span>, <span style=\"color: #00af00; text-decoration-color: #00af00\">28</span>, <span style=\"color: #00af00; text-decoration-color: #00af00\">28</span>, <span style=\"color: #00af00; text-decoration-color: #00af00\">256</span>)    │             <span style=\"color: #00af00; text-decoration-color: #00af00\">0</span> │\n",
       "├─────────────────────────────────┼────────────────────────┼───────────────┤\n",
       "│ block4_conv1 (<span style=\"color: #0087ff; text-decoration-color: #0087ff\">Conv2D</span>)           │ (<span style=\"color: #00d7ff; text-decoration-color: #00d7ff\">None</span>, <span style=\"color: #00af00; text-decoration-color: #00af00\">28</span>, <span style=\"color: #00af00; text-decoration-color: #00af00\">28</span>, <span style=\"color: #00af00; text-decoration-color: #00af00\">512</span>)    │     <span style=\"color: #00af00; text-decoration-color: #00af00\">1,180,160</span> │\n",
       "├─────────────────────────────────┼────────────────────────┼───────────────┤\n",
       "│ block4_conv2 (<span style=\"color: #0087ff; text-decoration-color: #0087ff\">Conv2D</span>)           │ (<span style=\"color: #00d7ff; text-decoration-color: #00d7ff\">None</span>, <span style=\"color: #00af00; text-decoration-color: #00af00\">28</span>, <span style=\"color: #00af00; text-decoration-color: #00af00\">28</span>, <span style=\"color: #00af00; text-decoration-color: #00af00\">512</span>)    │     <span style=\"color: #00af00; text-decoration-color: #00af00\">2,359,808</span> │\n",
       "├─────────────────────────────────┼────────────────────────┼───────────────┤\n",
       "│ block4_conv3 (<span style=\"color: #0087ff; text-decoration-color: #0087ff\">Conv2D</span>)           │ (<span style=\"color: #00d7ff; text-decoration-color: #00d7ff\">None</span>, <span style=\"color: #00af00; text-decoration-color: #00af00\">28</span>, <span style=\"color: #00af00; text-decoration-color: #00af00\">28</span>, <span style=\"color: #00af00; text-decoration-color: #00af00\">512</span>)    │     <span style=\"color: #00af00; text-decoration-color: #00af00\">2,359,808</span> │\n",
       "├─────────────────────────────────┼────────────────────────┼───────────────┤\n",
       "│ block4_pool (<span style=\"color: #0087ff; text-decoration-color: #0087ff\">MaxPooling2D</span>)      │ (<span style=\"color: #00d7ff; text-decoration-color: #00d7ff\">None</span>, <span style=\"color: #00af00; text-decoration-color: #00af00\">14</span>, <span style=\"color: #00af00; text-decoration-color: #00af00\">14</span>, <span style=\"color: #00af00; text-decoration-color: #00af00\">512</span>)    │             <span style=\"color: #00af00; text-decoration-color: #00af00\">0</span> │\n",
       "├─────────────────────────────────┼────────────────────────┼───────────────┤\n",
       "│ block5_conv1 (<span style=\"color: #0087ff; text-decoration-color: #0087ff\">Conv2D</span>)           │ (<span style=\"color: #00d7ff; text-decoration-color: #00d7ff\">None</span>, <span style=\"color: #00af00; text-decoration-color: #00af00\">14</span>, <span style=\"color: #00af00; text-decoration-color: #00af00\">14</span>, <span style=\"color: #00af00; text-decoration-color: #00af00\">512</span>)    │     <span style=\"color: #00af00; text-decoration-color: #00af00\">2,359,808</span> │\n",
       "├─────────────────────────────────┼────────────────────────┼───────────────┤\n",
       "│ block5_conv2 (<span style=\"color: #0087ff; text-decoration-color: #0087ff\">Conv2D</span>)           │ (<span style=\"color: #00d7ff; text-decoration-color: #00d7ff\">None</span>, <span style=\"color: #00af00; text-decoration-color: #00af00\">14</span>, <span style=\"color: #00af00; text-decoration-color: #00af00\">14</span>, <span style=\"color: #00af00; text-decoration-color: #00af00\">512</span>)    │     <span style=\"color: #00af00; text-decoration-color: #00af00\">2,359,808</span> │\n",
       "├─────────────────────────────────┼────────────────────────┼───────────────┤\n",
       "│ block5_conv3 (<span style=\"color: #0087ff; text-decoration-color: #0087ff\">Conv2D</span>)           │ (<span style=\"color: #00d7ff; text-decoration-color: #00d7ff\">None</span>, <span style=\"color: #00af00; text-decoration-color: #00af00\">14</span>, <span style=\"color: #00af00; text-decoration-color: #00af00\">14</span>, <span style=\"color: #00af00; text-decoration-color: #00af00\">512</span>)    │     <span style=\"color: #00af00; text-decoration-color: #00af00\">2,359,808</span> │\n",
       "├─────────────────────────────────┼────────────────────────┼───────────────┤\n",
       "│ block5_pool (<span style=\"color: #0087ff; text-decoration-color: #0087ff\">MaxPooling2D</span>)      │ (<span style=\"color: #00d7ff; text-decoration-color: #00d7ff\">None</span>, <span style=\"color: #00af00; text-decoration-color: #00af00\">7</span>, <span style=\"color: #00af00; text-decoration-color: #00af00\">7</span>, <span style=\"color: #00af00; text-decoration-color: #00af00\">512</span>)      │             <span style=\"color: #00af00; text-decoration-color: #00af00\">0</span> │\n",
       "├─────────────────────────────────┼────────────────────────┼───────────────┤\n",
       "│ flatten (<span style=\"color: #0087ff; text-decoration-color: #0087ff\">Flatten</span>)               │ (<span style=\"color: #00d7ff; text-decoration-color: #00d7ff\">None</span>, <span style=\"color: #00af00; text-decoration-color: #00af00\">25088</span>)          │             <span style=\"color: #00af00; text-decoration-color: #00af00\">0</span> │\n",
       "├─────────────────────────────────┼────────────────────────┼───────────────┤\n",
       "│ fc1 (<span style=\"color: #0087ff; text-decoration-color: #0087ff\">Dense</span>)                     │ (<span style=\"color: #00d7ff; text-decoration-color: #00d7ff\">None</span>, <span style=\"color: #00af00; text-decoration-color: #00af00\">4096</span>)           │   <span style=\"color: #00af00; text-decoration-color: #00af00\">102,764,544</span> │\n",
       "├─────────────────────────────────┼────────────────────────┼───────────────┤\n",
       "│ fc2 (<span style=\"color: #0087ff; text-decoration-color: #0087ff\">Dense</span>)                     │ (<span style=\"color: #00d7ff; text-decoration-color: #00d7ff\">None</span>, <span style=\"color: #00af00; text-decoration-color: #00af00\">4096</span>)           │    <span style=\"color: #00af00; text-decoration-color: #00af00\">16,781,312</span> │\n",
       "├─────────────────────────────────┼────────────────────────┼───────────────┤\n",
       "│ predictions (<span style=\"color: #0087ff; text-decoration-color: #0087ff\">Dense</span>)             │ (<span style=\"color: #00d7ff; text-decoration-color: #00d7ff\">None</span>, <span style=\"color: #00af00; text-decoration-color: #00af00\">1000</span>)           │     <span style=\"color: #00af00; text-decoration-color: #00af00\">4,097,000</span> │\n",
       "└─────────────────────────────────┴────────────────────────┴───────────────┘\n",
       "</pre>\n"
      ],
      "text/plain": [
       "┏━━━━━━━━━━━━━━━━━━━━━━━━━━━━━━━━━┳━━━━━━━━━━━━━━━━━━━━━━━━┳━━━━━━━━━━━━━━━┓\n",
       "┃\u001b[1m \u001b[0m\u001b[1mLayer (type)                   \u001b[0m\u001b[1m \u001b[0m┃\u001b[1m \u001b[0m\u001b[1mOutput Shape          \u001b[0m\u001b[1m \u001b[0m┃\u001b[1m \u001b[0m\u001b[1m      Param #\u001b[0m\u001b[1m \u001b[0m┃\n",
       "┡━━━━━━━━━━━━━━━━━━━━━━━━━━━━━━━━━╇━━━━━━━━━━━━━━━━━━━━━━━━╇━━━━━━━━━━━━━━━┩\n",
       "│ input_layer (\u001b[38;5;33mInputLayer\u001b[0m)        │ (\u001b[38;5;45mNone\u001b[0m, \u001b[38;5;34m224\u001b[0m, \u001b[38;5;34m224\u001b[0m, \u001b[38;5;34m3\u001b[0m)    │             \u001b[38;5;34m0\u001b[0m │\n",
       "├─────────────────────────────────┼────────────────────────┼───────────────┤\n",
       "│ block1_conv1 (\u001b[38;5;33mConv2D\u001b[0m)           │ (\u001b[38;5;45mNone\u001b[0m, \u001b[38;5;34m224\u001b[0m, \u001b[38;5;34m224\u001b[0m, \u001b[38;5;34m64\u001b[0m)   │         \u001b[38;5;34m1,792\u001b[0m │\n",
       "├─────────────────────────────────┼────────────────────────┼───────────────┤\n",
       "│ block1_conv2 (\u001b[38;5;33mConv2D\u001b[0m)           │ (\u001b[38;5;45mNone\u001b[0m, \u001b[38;5;34m224\u001b[0m, \u001b[38;5;34m224\u001b[0m, \u001b[38;5;34m64\u001b[0m)   │        \u001b[38;5;34m36,928\u001b[0m │\n",
       "├─────────────────────────────────┼────────────────────────┼───────────────┤\n",
       "│ block1_pool (\u001b[38;5;33mMaxPooling2D\u001b[0m)      │ (\u001b[38;5;45mNone\u001b[0m, \u001b[38;5;34m112\u001b[0m, \u001b[38;5;34m112\u001b[0m, \u001b[38;5;34m64\u001b[0m)   │             \u001b[38;5;34m0\u001b[0m │\n",
       "├─────────────────────────────────┼────────────────────────┼───────────────┤\n",
       "│ block2_conv1 (\u001b[38;5;33mConv2D\u001b[0m)           │ (\u001b[38;5;45mNone\u001b[0m, \u001b[38;5;34m112\u001b[0m, \u001b[38;5;34m112\u001b[0m, \u001b[38;5;34m128\u001b[0m)  │        \u001b[38;5;34m73,856\u001b[0m │\n",
       "├─────────────────────────────────┼────────────────────────┼───────────────┤\n",
       "│ block2_conv2 (\u001b[38;5;33mConv2D\u001b[0m)           │ (\u001b[38;5;45mNone\u001b[0m, \u001b[38;5;34m112\u001b[0m, \u001b[38;5;34m112\u001b[0m, \u001b[38;5;34m128\u001b[0m)  │       \u001b[38;5;34m147,584\u001b[0m │\n",
       "├─────────────────────────────────┼────────────────────────┼───────────────┤\n",
       "│ block2_pool (\u001b[38;5;33mMaxPooling2D\u001b[0m)      │ (\u001b[38;5;45mNone\u001b[0m, \u001b[38;5;34m56\u001b[0m, \u001b[38;5;34m56\u001b[0m, \u001b[38;5;34m128\u001b[0m)    │             \u001b[38;5;34m0\u001b[0m │\n",
       "├─────────────────────────────────┼────────────────────────┼───────────────┤\n",
       "│ block3_conv1 (\u001b[38;5;33mConv2D\u001b[0m)           │ (\u001b[38;5;45mNone\u001b[0m, \u001b[38;5;34m56\u001b[0m, \u001b[38;5;34m56\u001b[0m, \u001b[38;5;34m256\u001b[0m)    │       \u001b[38;5;34m295,168\u001b[0m │\n",
       "├─────────────────────────────────┼────────────────────────┼───────────────┤\n",
       "│ block3_conv2 (\u001b[38;5;33mConv2D\u001b[0m)           │ (\u001b[38;5;45mNone\u001b[0m, \u001b[38;5;34m56\u001b[0m, \u001b[38;5;34m56\u001b[0m, \u001b[38;5;34m256\u001b[0m)    │       \u001b[38;5;34m590,080\u001b[0m │\n",
       "├─────────────────────────────────┼────────────────────────┼───────────────┤\n",
       "│ block3_conv3 (\u001b[38;5;33mConv2D\u001b[0m)           │ (\u001b[38;5;45mNone\u001b[0m, \u001b[38;5;34m56\u001b[0m, \u001b[38;5;34m56\u001b[0m, \u001b[38;5;34m256\u001b[0m)    │       \u001b[38;5;34m590,080\u001b[0m │\n",
       "├─────────────────────────────────┼────────────────────────┼───────────────┤\n",
       "│ block3_pool (\u001b[38;5;33mMaxPooling2D\u001b[0m)      │ (\u001b[38;5;45mNone\u001b[0m, \u001b[38;5;34m28\u001b[0m, \u001b[38;5;34m28\u001b[0m, \u001b[38;5;34m256\u001b[0m)    │             \u001b[38;5;34m0\u001b[0m │\n",
       "├─────────────────────────────────┼────────────────────────┼───────────────┤\n",
       "│ block4_conv1 (\u001b[38;5;33mConv2D\u001b[0m)           │ (\u001b[38;5;45mNone\u001b[0m, \u001b[38;5;34m28\u001b[0m, \u001b[38;5;34m28\u001b[0m, \u001b[38;5;34m512\u001b[0m)    │     \u001b[38;5;34m1,180,160\u001b[0m │\n",
       "├─────────────────────────────────┼────────────────────────┼───────────────┤\n",
       "│ block4_conv2 (\u001b[38;5;33mConv2D\u001b[0m)           │ (\u001b[38;5;45mNone\u001b[0m, \u001b[38;5;34m28\u001b[0m, \u001b[38;5;34m28\u001b[0m, \u001b[38;5;34m512\u001b[0m)    │     \u001b[38;5;34m2,359,808\u001b[0m │\n",
       "├─────────────────────────────────┼────────────────────────┼───────────────┤\n",
       "│ block4_conv3 (\u001b[38;5;33mConv2D\u001b[0m)           │ (\u001b[38;5;45mNone\u001b[0m, \u001b[38;5;34m28\u001b[0m, \u001b[38;5;34m28\u001b[0m, \u001b[38;5;34m512\u001b[0m)    │     \u001b[38;5;34m2,359,808\u001b[0m │\n",
       "├─────────────────────────────────┼────────────────────────┼───────────────┤\n",
       "│ block4_pool (\u001b[38;5;33mMaxPooling2D\u001b[0m)      │ (\u001b[38;5;45mNone\u001b[0m, \u001b[38;5;34m14\u001b[0m, \u001b[38;5;34m14\u001b[0m, \u001b[38;5;34m512\u001b[0m)    │             \u001b[38;5;34m0\u001b[0m │\n",
       "├─────────────────────────────────┼────────────────────────┼───────────────┤\n",
       "│ block5_conv1 (\u001b[38;5;33mConv2D\u001b[0m)           │ (\u001b[38;5;45mNone\u001b[0m, \u001b[38;5;34m14\u001b[0m, \u001b[38;5;34m14\u001b[0m, \u001b[38;5;34m512\u001b[0m)    │     \u001b[38;5;34m2,359,808\u001b[0m │\n",
       "├─────────────────────────────────┼────────────────────────┼───────────────┤\n",
       "│ block5_conv2 (\u001b[38;5;33mConv2D\u001b[0m)           │ (\u001b[38;5;45mNone\u001b[0m, \u001b[38;5;34m14\u001b[0m, \u001b[38;5;34m14\u001b[0m, \u001b[38;5;34m512\u001b[0m)    │     \u001b[38;5;34m2,359,808\u001b[0m │\n",
       "├─────────────────────────────────┼────────────────────────┼───────────────┤\n",
       "│ block5_conv3 (\u001b[38;5;33mConv2D\u001b[0m)           │ (\u001b[38;5;45mNone\u001b[0m, \u001b[38;5;34m14\u001b[0m, \u001b[38;5;34m14\u001b[0m, \u001b[38;5;34m512\u001b[0m)    │     \u001b[38;5;34m2,359,808\u001b[0m │\n",
       "├─────────────────────────────────┼────────────────────────┼───────────────┤\n",
       "│ block5_pool (\u001b[38;5;33mMaxPooling2D\u001b[0m)      │ (\u001b[38;5;45mNone\u001b[0m, \u001b[38;5;34m7\u001b[0m, \u001b[38;5;34m7\u001b[0m, \u001b[38;5;34m512\u001b[0m)      │             \u001b[38;5;34m0\u001b[0m │\n",
       "├─────────────────────────────────┼────────────────────────┼───────────────┤\n",
       "│ flatten (\u001b[38;5;33mFlatten\u001b[0m)               │ (\u001b[38;5;45mNone\u001b[0m, \u001b[38;5;34m25088\u001b[0m)          │             \u001b[38;5;34m0\u001b[0m │\n",
       "├─────────────────────────────────┼────────────────────────┼───────────────┤\n",
       "│ fc1 (\u001b[38;5;33mDense\u001b[0m)                     │ (\u001b[38;5;45mNone\u001b[0m, \u001b[38;5;34m4096\u001b[0m)           │   \u001b[38;5;34m102,764,544\u001b[0m │\n",
       "├─────────────────────────────────┼────────────────────────┼───────────────┤\n",
       "│ fc2 (\u001b[38;5;33mDense\u001b[0m)                     │ (\u001b[38;5;45mNone\u001b[0m, \u001b[38;5;34m4096\u001b[0m)           │    \u001b[38;5;34m16,781,312\u001b[0m │\n",
       "├─────────────────────────────────┼────────────────────────┼───────────────┤\n",
       "│ predictions (\u001b[38;5;33mDense\u001b[0m)             │ (\u001b[38;5;45mNone\u001b[0m, \u001b[38;5;34m1000\u001b[0m)           │     \u001b[38;5;34m4,097,000\u001b[0m │\n",
       "└─────────────────────────────────┴────────────────────────┴───────────────┘\n"
      ]
     },
     "metadata": {},
     "output_type": "display_data"
    },
    {
     "data": {
      "text/html": [
       "<pre style=\"white-space:pre;overflow-x:auto;line-height:normal;font-family:Menlo,'DejaVu Sans Mono',consolas,'Courier New',monospace\"><span style=\"font-weight: bold\"> Total params: </span><span style=\"color: #00af00; text-decoration-color: #00af00\">138,357,544</span> (527.79 MB)\n",
       "</pre>\n"
      ],
      "text/plain": [
       "\u001b[1m Total params: \u001b[0m\u001b[38;5;34m138,357,544\u001b[0m (527.79 MB)\n"
      ]
     },
     "metadata": {},
     "output_type": "display_data"
    },
    {
     "data": {
      "text/html": [
       "<pre style=\"white-space:pre;overflow-x:auto;line-height:normal;font-family:Menlo,'DejaVu Sans Mono',consolas,'Courier New',monospace\"><span style=\"font-weight: bold\"> Trainable params: </span><span style=\"color: #00af00; text-decoration-color: #00af00\">138,357,544</span> (527.79 MB)\n",
       "</pre>\n"
      ],
      "text/plain": [
       "\u001b[1m Trainable params: \u001b[0m\u001b[38;5;34m138,357,544\u001b[0m (527.79 MB)\n"
      ]
     },
     "metadata": {},
     "output_type": "display_data"
    },
    {
     "data": {
      "text/html": [
       "<pre style=\"white-space:pre;overflow-x:auto;line-height:normal;font-family:Menlo,'DejaVu Sans Mono',consolas,'Courier New',monospace\"><span style=\"font-weight: bold\"> Non-trainable params: </span><span style=\"color: #00af00; text-decoration-color: #00af00\">0</span> (0.00 B)\n",
       "</pre>\n"
      ],
      "text/plain": [
       "\u001b[1m Non-trainable params: \u001b[0m\u001b[38;5;34m0\u001b[0m (0.00 B)\n"
      ]
     },
     "metadata": {},
     "output_type": "display_data"
    },
    {
     "ename": "NameError",
     "evalue": "name 'pwd' is not defined",
     "output_type": "error",
     "traceback": [
      "\u001b[1;31m---------------------------------------------------------------------------\u001b[0m",
      "\u001b[1;31mNameError\u001b[0m                                 Traceback (most recent call last)",
      "Cell \u001b[1;32mIn[8], line 2\u001b[0m\n\u001b[0;32m      1\u001b[0m modelVgg\u001b[38;5;241m.\u001b[39msummary()\n\u001b[1;32m----> 2\u001b[0m \u001b[43mpwd\u001b[49m\n",
      "\u001b[1;31mNameError\u001b[0m: name 'pwd' is not defined"
     ]
    }
   ],
   "source": [
    "modelVgg.summary()"
   ]
  },
  {
   "cell_type": "code",
   "execution_count": 7,
   "metadata": {},
   "outputs": [
    {
     "ename": "FileNotFoundError",
     "evalue": "[Errno 2] No such file or directory: '.\\\\2024-02\\\\cat.jpg'",
     "output_type": "error",
     "traceback": [
      "\u001b[1;31m---------------------------------------------------------------------------\u001b[0m",
      "\u001b[1;31mFileNotFoundError\u001b[0m                         Traceback (most recent call last)",
      "Cell \u001b[1;32mIn[7], line 1\u001b[0m\n\u001b[1;32m----> 1\u001b[0m testImg \u001b[38;5;241m=\u001b[39m \u001b[43mload_img\u001b[49m\u001b[43m(\u001b[49m\u001b[43m \u001b[49m\u001b[38;5;124;43m'\u001b[39;49m\u001b[38;5;124;43m.\u001b[39;49m\u001b[38;5;130;43;01m\\\\\u001b[39;49;00m\u001b[38;5;124;43m2024-02\u001b[39;49m\u001b[38;5;130;43;01m\\\\\u001b[39;49;00m\u001b[38;5;124;43mcat.jpg\u001b[39;49m\u001b[38;5;124;43m'\u001b[39;49m\u001b[43m,\u001b[49m\u001b[43m \u001b[49m\u001b[43mtarget_size\u001b[49m\u001b[38;5;241;43m=\u001b[39;49m\u001b[43m(\u001b[49m\u001b[38;5;241;43m224\u001b[39;49m\u001b[43m,\u001b[49m\u001b[38;5;241;43m224\u001b[39;49m\u001b[43m)\u001b[49m\u001b[43m)\u001b[49m\n\u001b[0;32m      2\u001b[0m testImg\n",
      "File \u001b[1;32mc:\\Python310\\lib\\site-packages\\keras\\src\\utils\\image_utils.py:235\u001b[0m, in \u001b[0;36mload_img\u001b[1;34m(path, color_mode, target_size, interpolation, keep_aspect_ratio)\u001b[0m\n\u001b[0;32m    233\u001b[0m     \u001b[38;5;28;01mif\u001b[39;00m \u001b[38;5;28misinstance\u001b[39m(path, pathlib\u001b[38;5;241m.\u001b[39mPath):\n\u001b[0;32m    234\u001b[0m         path \u001b[38;5;241m=\u001b[39m \u001b[38;5;28mstr\u001b[39m(path\u001b[38;5;241m.\u001b[39mresolve())\n\u001b[1;32m--> 235\u001b[0m     \u001b[38;5;28;01mwith\u001b[39;00m \u001b[38;5;28;43mopen\u001b[39;49m\u001b[43m(\u001b[49m\u001b[43mpath\u001b[49m\u001b[43m,\u001b[49m\u001b[43m \u001b[49m\u001b[38;5;124;43m\"\u001b[39;49m\u001b[38;5;124;43mrb\u001b[39;49m\u001b[38;5;124;43m\"\u001b[39;49m\u001b[43m)\u001b[49m \u001b[38;5;28;01mas\u001b[39;00m f:\n\u001b[0;32m    236\u001b[0m         img \u001b[38;5;241m=\u001b[39m pil_image\u001b[38;5;241m.\u001b[39mopen(io\u001b[38;5;241m.\u001b[39mBytesIO(f\u001b[38;5;241m.\u001b[39mread()))\n\u001b[0;32m    237\u001b[0m \u001b[38;5;28;01melse\u001b[39;00m:\n",
      "\u001b[1;31mFileNotFoundError\u001b[0m: [Errno 2] No such file or directory: '.\\\\2024-02\\\\cat.jpg'"
     ]
    }
   ],
   "source": [
    "testImg = load_img( '.\\\\2024-02\\\\cat.jpg', target_size=(224,224))\n",
    "testImg"
   ]
  },
  {
   "cell_type": "code",
   "execution_count": 11,
   "metadata": {},
   "outputs": [
    {
     "data": {
      "text/plain": [
       "(1, 224, 224, 3)"
      ]
     },
     "execution_count": 11,
     "metadata": {},
     "output_type": "execute_result"
    }
   ],
   "source": [
    "imgArr = img_to_array( testImg).reshape(1,224,224,3)\n",
    "imgArr.shape"
   ]
  },
  {
   "cell_type": "code",
   "execution_count": 12,
   "metadata": {},
   "outputs": [
    {
     "name": "stdout",
     "output_type": "stream",
     "text": [
      "\u001b[1m1/1\u001b[0m \u001b[32m━━━━━━━━━━━━━━━━━━━━\u001b[0m\u001b[37m\u001b[0m \u001b[1m0s\u001b[0m 335ms/step\n"
     ]
    },
    {
     "data": {
      "text/plain": [
       "array([[1.26526247e-05, 1.35767186e-05, 1.33116078e-03, 4.43834542e-05,\n",
       "        8.41635701e-05, 1.78234957e-04, 1.65682461e-04, 8.92258176e-05,\n",
       "        4.21574980e-04, 4.00917791e-03, 7.97944153e-07, 1.16168594e-05,\n",
       "        3.10871292e-05, 6.61639933e-05, 1.29582759e-06, 8.73242152e-06,\n",
       "        3.04322225e-06, 1.65837628e-05, 1.12524258e-05, 3.28138158e-05,\n",
       "        9.66994435e-07, 1.88353733e-04, 2.29858488e-04, 8.40753317e-03,\n",
       "        1.20472330e-04, 2.88634595e-07, 1.27709181e-05, 1.13397118e-06,\n",
       "        4.54642390e-07, 1.01189238e-04, 6.64257641e-07, 3.20168760e-06,\n",
       "        9.98234327e-07, 1.72633081e-05, 1.28750107e-05, 3.28510214e-06,\n",
       "        2.27445544e-05, 2.50030644e-06, 5.76814418e-05, 9.01589283e-06,\n",
       "        4.50007519e-06, 3.01606883e-06, 8.08056120e-06, 2.20412359e-04,\n",
       "        4.64723562e-05, 2.82944916e-06, 8.04104093e-06, 2.98167015e-06,\n",
       "        1.84094424e-05, 1.61010325e-06, 7.54236362e-06, 2.39644919e-06,\n",
       "        1.39393873e-04, 1.25173747e-05, 5.43264541e-05, 4.32008483e-06,\n",
       "        5.31418027e-06, 1.13688666e-05, 4.05220417e-05, 2.53756934e-06,\n",
       "        7.83126525e-05, 7.92276114e-05, 1.88537579e-05, 5.28087148e-05,\n",
       "        6.50085622e-06, 4.05619267e-06, 1.42434719e-05, 3.54707345e-06,\n",
       "        3.23355766e-06, 2.99437056e-06, 1.96522778e-05, 2.74633112e-05,\n",
       "        5.89039264e-05, 1.50778855e-04, 3.72556824e-05, 2.38614623e-04,\n",
       "        1.58123870e-03, 3.01507971e-04, 7.89787853e-04, 7.86619785e-05,\n",
       "        1.18872583e-06, 9.98853466e-07, 6.36603545e-06, 3.05577632e-05,\n",
       "        1.27835126e-04, 7.48841603e-06, 1.61844982e-05, 1.11702422e-04,\n",
       "        1.13887900e-05, 1.17312638e-05, 8.76315141e-07, 8.24932522e-06,\n",
       "        4.80891458e-07, 7.63151093e-06, 4.50663765e-06, 1.09814800e-06,\n",
       "        1.05191366e-05, 1.27686171e-05, 1.87960336e-06, 8.69401556e-05,\n",
       "        1.59334868e-05, 1.19868409e-05, 5.51890771e-05, 1.07813430e-05,\n",
       "        5.19717520e-04, 6.12980104e-04, 6.45535591e-04, 1.64916637e-04,\n",
       "        8.02956947e-06, 2.16576336e-06, 3.10057658e-05, 5.86334245e-05,\n",
       "        1.37099487e-04, 1.08589311e-05, 8.05175387e-06, 2.54256679e-06,\n",
       "        3.70050361e-06, 1.21646954e-05, 5.56081432e-05, 2.54868951e-06,\n",
       "        2.92166624e-06, 1.71358158e-06, 1.46289153e-06, 1.09334519e-06,\n",
       "        1.44146279e-05, 1.68313672e-05, 1.57493305e-05, 7.06124501e-06,\n",
       "        1.29540922e-05, 1.29096530e-04, 1.28106722e-05, 1.98863218e-05,\n",
       "        2.51996826e-04, 2.69662269e-05, 5.36507177e-05, 2.44474040e-06,\n",
       "        6.91775995e-07, 5.76207140e-06, 9.05955822e-05, 3.73080923e-07,\n",
       "        1.57081752e-06, 5.92736399e-07, 3.97496080e-07, 1.06959067e-06,\n",
       "        5.07262535e-04, 8.91511809e-05, 2.57282984e-04, 1.96969821e-04,\n",
       "        8.92821699e-05, 1.42439203e-05, 1.62777898e-04, 9.64505889e-04,\n",
       "        1.76885654e-03, 1.75386856e-04, 8.35795479e-04, 2.05914330e-04,\n",
       "        4.11583530e-03, 9.04380437e-03, 3.51702583e-05, 3.70370958e-06,\n",
       "        6.81483827e-04, 1.12936832e-04, 1.20266166e-04, 1.30734607e-05,\n",
       "        1.73672579e-05, 3.72429872e-06, 8.96531492e-05, 1.03993116e-05,\n",
       "        2.26607108e-06, 1.61628716e-03, 5.78902509e-05, 1.50339707e-04,\n",
       "        7.77456153e-05, 3.59749864e-03, 6.90074448e-05, 2.00970335e-05,\n",
       "        1.94062231e-04, 2.27190510e-04, 3.62024963e-04, 1.36323915e-05,\n",
       "        1.16053059e-04, 5.62477035e-05, 5.88394414e-06, 4.12431982e-05,\n",
       "        2.06367185e-05, 2.35593106e-05, 3.80201127e-05, 1.01614787e-04,\n",
       "        2.62692029e-05, 8.75299975e-06, 5.36717744e-05, 1.36470253e-05,\n",
       "        2.83542013e-05, 1.32894865e-03, 2.70435794e-06, 1.75286108e-03,\n",
       "        9.07614012e-05, 4.57988208e-05, 2.65957169e-05, 3.42378917e-05,\n",
       "        9.73879942e-05, 1.83906144e-04, 4.85112541e-05, 1.93305474e-04,\n",
       "        1.32895701e-04, 2.03727221e-04, 1.45077865e-05, 4.18902091e-05,\n",
       "        5.20865360e-05, 3.33974385e-05, 2.68981876e-05, 2.52808732e-05,\n",
       "        5.42535633e-03, 2.08990721e-04, 5.07755176e-05, 3.54997371e-03,\n",
       "        6.02880260e-04, 2.33382061e-02, 1.52398576e-03, 4.16883675e-04,\n",
       "        5.71688171e-04, 1.29318039e-04, 1.57094721e-04, 2.65349197e-04,\n",
       "        5.23285242e-04, 1.39411222e-05, 5.62163012e-04, 3.29628558e-04,\n",
       "        1.60467298e-05, 4.18135850e-03, 5.62654063e-03, 7.92439096e-03,\n",
       "        2.67771678e-03, 1.26045779e-04, 1.07306705e-05, 4.49800282e-05,\n",
       "        2.97292645e-05, 8.57888881e-05, 3.24456545e-04, 7.95918459e-04,\n",
       "        1.88622202e-04, 3.20934596e-05, 3.17839353e-04, 3.88538001e-06,\n",
       "        2.55039031e-05, 1.45542101e-04, 6.74467374e-05, 1.79900322e-04,\n",
       "        4.23910189e-03, 4.52455250e-04, 3.26836063e-03, 6.20202511e-04,\n",
       "        1.68884304e-04, 8.56114129e-05, 2.86869290e-05, 6.34905291e-06,\n",
       "        1.24040511e-04, 1.49220065e-03, 3.93092120e-03, 1.91886723e-03,\n",
       "        8.85611807e-05, 1.29167835e-04, 3.66508698e-06, 6.45044274e-05,\n",
       "        5.84056434e-05, 4.87891011e-05, 1.84083892e-05, 3.37077727e-05,\n",
       "        3.82498547e-05, 6.35125762e-05, 3.84111336e-04, 1.81302548e-05,\n",
       "        4.89958893e-06, 3.31325873e-06, 6.58437102e-06, 3.74837941e-06,\n",
       "        2.37880122e-05, 9.29240559e-06, 4.00451927e-06, 9.74776747e-04,\n",
       "        5.84400150e-05, 4.38822107e-03, 2.14523100e-03, 5.43198772e-02,\n",
       "        1.51158115e-02, 4.44706529e-03, 5.13234372e-05, 7.37563474e-04,\n",
       "        3.04700261e-05, 7.82107672e-05, 4.69672932e-06, 3.68041219e-05,\n",
       "        9.17082507e-05, 4.76047080e-06, 1.76963222e-05, 3.33336247e-05,\n",
       "        5.01177783e-05, 6.42759260e-04, 3.04456509e-04, 1.90850711e-04,\n",
       "        4.40134556e-07, 1.56692986e-05, 6.40875442e-06, 1.05108338e-05,\n",
       "        5.30703630e-07, 1.70911377e-07, 6.12949516e-05, 1.43957448e-06,\n",
       "        7.56203281e-06, 7.19254012e-06, 2.51561014e-05, 2.08261445e-05,\n",
       "        1.14724444e-05, 7.96172026e-05, 6.55371259e-05, 1.30561370e-04,\n",
       "        7.19384698e-05, 4.02098231e-05, 6.91536889e-06, 6.22669677e-06,\n",
       "        1.01082912e-06, 2.36992510e-05, 1.91293220e-05, 1.25382655e-06,\n",
       "        8.82610948e-06, 3.16838992e-07, 6.84220197e-07, 4.69335791e-05,\n",
       "        8.36539584e-06, 3.26230202e-06, 2.38528475e-03, 2.34515779e-03,\n",
       "        4.59291227e-02, 4.89183478e-02, 6.20379671e-03, 4.94571123e-03,\n",
       "        1.70353480e-04, 1.47546513e-03, 9.19424295e-02, 9.15533688e-04,\n",
       "        6.01290958e-05, 3.03902011e-03, 1.43445170e-04, 1.58308409e-04,\n",
       "        1.41419924e-03, 1.62035469e-02, 8.85172776e-05, 3.27035486e-05,\n",
       "        3.61541938e-03, 8.24294693e-06, 1.49666157e-05, 1.29825385e-05,\n",
       "        1.21185649e-05, 9.15025594e-05, 2.29120924e-04, 2.37167068e-02,\n",
       "        6.48124292e-02, 2.57860608e-02, 2.15320997e-02, 4.93846759e-02,\n",
       "        6.63390616e-04, 8.13074224e-03, 2.17720191e-03, 1.81142517e-04,\n",
       "        1.66226513e-04, 1.39638223e-02, 9.56875811e-05, 1.14080273e-02,\n",
       "        1.14097947e-03, 5.56492363e-04, 2.42743623e-02, 8.97245295e-03,\n",
       "        9.60417092e-03, 3.89506319e-03, 1.73512679e-02, 9.86710098e-03,\n",
       "        4.58803297e-05, 3.56251895e-02, 1.09439844e-03, 1.25956431e-04,\n",
       "        8.64341762e-03, 2.91718403e-03, 1.45653880e-03, 2.30095015e-04,\n",
       "        9.50204703e-05, 3.70687398e-04, 8.51343520e-06, 1.71281543e-04,\n",
       "        9.18533842e-05, 2.55005962e-05, 4.03783270e-05, 4.06046107e-04,\n",
       "        1.62162064e-06, 8.86171506e-07, 1.28362954e-04, 1.41980185e-04,\n",
       "        2.21973778e-06, 6.63116880e-05, 7.76799152e-06, 1.12358903e-05,\n",
       "        3.53055998e-06, 4.42620149e-05, 1.83691245e-05, 1.27413750e-06,\n",
       "        2.27010287e-06, 2.46290460e-06, 7.50501704e-06, 1.45556749e-06,\n",
       "        3.30267685e-05, 1.06156422e-05, 3.25855581e-05, 4.58560271e-06,\n",
       "        2.90177995e-04, 5.55094584e-06, 5.17884382e-06, 7.84033364e-06,\n",
       "        1.69281957e-05, 3.09218103e-06, 3.09871284e-05, 1.90619874e-04,\n",
       "        1.18245269e-04, 4.79159389e-05, 4.29528427e-06, 1.08694267e-05,\n",
       "        1.04166473e-04, 4.79118671e-06, 1.23167911e-05, 3.04572695e-05,\n",
       "        3.71888629e-04, 1.35897635e-05, 1.95862026e-06, 1.15813629e-04,\n",
       "        1.76364629e-04, 2.29323314e-06, 2.51032831e-03, 3.94659257e-03,\n",
       "        2.59692638e-06, 1.98213115e-06, 1.50377775e-04, 1.22122028e-05,\n",
       "        1.98415964e-05, 7.52933265e-05, 2.83244572e-06, 1.51427972e-04,\n",
       "        9.83887276e-07, 3.86855463e-05, 3.27045447e-04, 1.06524189e-04,\n",
       "        7.01650060e-05, 8.93510332e-07, 5.52507991e-05, 1.23904538e-04,\n",
       "        2.95852282e-04, 7.29965041e-06, 4.06793406e-05, 3.13792407e-05,\n",
       "        3.98414733e-04, 2.77906714e-04, 3.22458909e-05, 2.72575144e-05,\n",
       "        3.07845366e-05, 5.17621753e-04, 2.60926463e-04, 1.32142589e-03,\n",
       "        1.33945607e-03, 3.80930800e-07, 7.30175270e-06, 2.20362330e-04,\n",
       "        9.38918129e-06, 2.32104998e-04, 1.11886715e-04, 9.37781715e-06,\n",
       "        2.74875606e-06, 7.29461826e-05, 2.53325590e-04, 4.41155955e-03,\n",
       "        1.83078446e-04, 8.02825980e-06, 2.73826852e-04, 7.54942357e-06,\n",
       "        1.15376415e-05, 2.90318334e-04, 6.38903202e-06, 6.57195926e-07,\n",
       "        2.22045455e-05, 2.93919993e-06, 1.94682925e-05, 5.18216169e-04,\n",
       "        1.60675176e-04, 5.68175106e-04, 3.67094442e-04, 4.40572767e-05,\n",
       "        1.94581138e-04, 5.37472772e-07, 1.45228205e-05, 1.23041991e-06,\n",
       "        6.56951670e-05, 7.57373255e-06, 5.26483491e-05, 4.96156863e-04,\n",
       "        1.02244121e-06, 9.21409403e-04, 9.23870721e-06, 1.19695535e-04,\n",
       "        8.97727150e-05, 1.69098003e-05, 1.45484937e-05, 7.08493171e-05,\n",
       "        1.45825179e-04, 6.10152892e-06, 5.99166415e-05, 7.04449667e-06,\n",
       "        1.97615645e-05, 6.12640943e-05, 4.57284659e-05, 8.36184627e-05,\n",
       "        7.38932358e-05, 1.49204470e-06, 1.17884047e-05, 8.07701363e-05,\n",
       "        1.38940304e-05, 3.69439999e-06, 9.34566742e-06, 5.46825140e-05,\n",
       "        3.32126292e-05, 9.85715538e-04, 1.27693295e-06, 8.88588875e-06,\n",
       "        1.02156046e-05, 8.16235843e-06, 2.09074665e-06, 4.02076739e-06,\n",
       "        2.13280873e-06, 1.08144857e-04, 6.78295037e-05, 3.14015983e-06,\n",
       "        1.25328561e-05, 8.40242319e-06, 1.25750398e-06, 2.44422816e-04,\n",
       "        1.60093782e-06, 2.55422638e-05, 1.53607019e-04, 2.17569486e-05,\n",
       "        1.07977814e-06, 2.21377602e-04, 5.23828094e-05, 9.45827253e-07,\n",
       "        1.96317001e-06, 1.12637636e-05, 3.92330037e-07, 3.31233859e-05,\n",
       "        3.06900998e-04, 2.14271586e-05, 4.20729542e-04, 1.43115931e-05,\n",
       "        9.07975482e-04, 9.03044383e-06, 3.09764728e-04, 1.22602687e-05,\n",
       "        8.04173851e-06, 1.74197903e-05, 2.03598361e-03, 3.97187250e-05,\n",
       "        1.03490629e-05, 2.03784457e-05, 4.33374735e-05, 3.70946727e-05,\n",
       "        2.47460254e-03, 9.56954391e-05, 6.33717573e-05, 5.94495723e-05,\n",
       "        4.67811769e-05, 7.76192701e-06, 4.89815966e-06, 1.81886335e-05,\n",
       "        3.21135735e-06, 1.71106785e-05, 1.07904722e-04, 1.26073110e-05,\n",
       "        2.09913869e-05, 4.24679529e-05, 6.88823138e-06, 3.65923333e-04,\n",
       "        1.52071612e-03, 7.30584841e-04, 1.55661564e-05, 7.87777390e-05,\n",
       "        5.17423556e-04, 3.63976229e-04, 2.57056963e-05, 3.51210838e-05,\n",
       "        1.48036670e-05, 4.29332198e-04, 9.54064354e-03, 8.80978769e-06,\n",
       "        1.97033980e-04, 1.28301137e-04, 6.86386375e-06, 1.46748953e-05,\n",
       "        3.19389789e-03, 2.63625898e-05, 8.82119548e-06, 3.16577425e-05,\n",
       "        6.64373783e-06, 1.60584954e-04, 3.08781709e-05, 1.80765187e-06,\n",
       "        3.39352293e-04, 1.55247944e-05, 4.44222178e-06, 7.10574270e-04,\n",
       "        6.15772535e-07, 3.23670793e-06, 6.80431767e-05, 4.82399582e-06,\n",
       "        1.11077374e-04, 2.09730075e-04, 4.74379558e-05, 6.91601963e-05,\n",
       "        1.46429855e-04, 6.71989301e-06, 4.40034637e-05, 1.62341203e-05,\n",
       "        1.10698948e-05, 1.25744700e-05, 2.79325061e-03, 8.36005256e-06,\n",
       "        2.98920822e-05, 1.03984137e-04, 1.28538170e-06, 2.89881245e-05,\n",
       "        2.10518519e-05, 8.14904997e-05, 1.27852491e-05, 1.16781234e-06,\n",
       "        4.08137916e-04, 2.14752945e-05, 2.55033174e-05, 1.07302922e-05,\n",
       "        2.86169870e-06, 1.55509838e-06, 9.74000159e-06, 6.02516637e-04,\n",
       "        8.57811974e-05, 1.02308491e-06, 1.14307604e-05, 2.77639938e-05,\n",
       "        3.72818431e-05, 8.98083726e-06, 1.12360947e-04, 4.27722262e-05,\n",
       "        5.23682047e-07, 3.24174653e-05, 6.90222441e-06, 1.35136934e-05,\n",
       "        4.71340309e-06, 2.80830973e-05, 5.04733653e-05, 3.15463658e-05,\n",
       "        6.22610241e-06, 1.24893058e-05, 1.39693493e-05, 4.55580903e-06,\n",
       "        2.44458381e-04, 1.33783715e-05, 2.66921370e-06, 6.92073008e-05,\n",
       "        1.84596286e-06, 2.93135084e-03, 4.15490649e-06, 3.44845580e-06,\n",
       "        6.94555752e-07, 6.35620527e-05, 1.11706858e-03, 5.22190157e-06,\n",
       "        8.28613760e-04, 3.71271657e-04, 2.44642342e-05, 4.16241128e-05,\n",
       "        6.16932375e-05, 4.04749808e-05, 5.60199112e-07, 1.92824991e-05,\n",
       "        3.42355379e-05, 1.07429219e-06, 2.61487785e-05, 2.79897176e-06,\n",
       "        2.18622354e-05, 3.70416965e-05, 7.86560122e-06, 1.25263803e-04,\n",
       "        7.95546148e-05, 3.46619117e-06, 2.01968469e-05, 5.31437527e-03,\n",
       "        4.65578691e-04, 3.91668364e-05, 8.63306866e-07, 2.42861628e-04,\n",
       "        3.70434864e-04, 1.18781882e-05, 1.25432107e-05, 1.13962720e-04,\n",
       "        5.21373513e-05, 2.46955597e-06, 2.44383136e-06, 9.19752638e-05,\n",
       "        2.40947475e-06, 1.30665881e-04, 5.39079738e-05, 1.44163656e-04,\n",
       "        2.78455609e-05, 3.62041897e-06, 7.79027778e-06, 1.74812078e-06,\n",
       "        2.12358675e-04, 1.91383187e-05, 4.17927840e-05, 8.58290787e-06,\n",
       "        3.98371594e-05, 3.01801883e-05, 1.48208146e-05, 3.74088313e-06,\n",
       "        3.80932511e-06, 6.34688913e-05, 5.92122569e-06, 6.84925544e-06,\n",
       "        1.51132443e-03, 1.31981060e-05, 1.53484052e-05, 2.91048273e-05,\n",
       "        4.50386688e-05, 2.92164681e-04, 1.88723035e-07, 2.46273237e-04,\n",
       "        5.48284379e-06, 1.13607712e-05, 1.17607360e-05, 2.75009870e-06,\n",
       "        3.98263510e-05, 1.77544389e-05, 5.01929426e-05, 1.07916509e-04,\n",
       "        3.62758292e-05, 2.02008923e-05, 3.51676545e-06, 2.85344031e-05,\n",
       "        1.49393501e-03, 3.87124855e-05, 6.60637943e-06, 3.81305726e-05,\n",
       "        2.71956142e-05, 3.65366857e-03, 2.51030651e-05, 4.36919163e-06,\n",
       "        2.10607352e-04, 8.00749240e-06, 4.06661748e-05, 7.49324754e-05,\n",
       "        5.21941656e-05, 1.71743784e-04, 1.09479561e-06, 3.05419126e-05,\n",
       "        2.97880415e-05, 2.83649133e-05, 5.10204045e-05, 3.08922936e-05,\n",
       "        1.59188983e-06, 7.66304074e-05, 5.51323956e-06, 1.65506626e-05,\n",
       "        5.46465721e-03, 6.35532895e-04, 1.20137520e-06, 8.35231458e-06,\n",
       "        5.22075607e-05, 6.49604190e-05, 2.77601303e-05, 5.54554344e-06,\n",
       "        3.57204954e-05, 2.27359888e-05, 3.19234474e-04, 4.38872288e-04,\n",
       "        1.36408140e-04, 3.07978509e-04, 6.91048481e-05, 6.00683416e-05,\n",
       "        2.27012015e-06, 1.04618011e-05, 4.61203163e-05, 9.33278861e-05,\n",
       "        2.16622793e-04, 2.50129524e-04, 3.33357081e-02, 8.96913753e-06,\n",
       "        2.03467702e-04, 1.72325163e-05, 3.98739503e-05, 5.94732737e-05,\n",
       "        2.02442197e-06, 5.30736543e-05, 8.83680229e-07, 5.71520577e-05,\n",
       "        3.84960113e-05, 5.53686641e-06, 3.68044384e-05, 3.32518015e-04,\n",
       "        1.23629461e-05, 2.63865968e-06, 3.06080728e-05, 1.53590553e-03,\n",
       "        4.93217412e-05, 6.54152973e-05, 1.21587700e-05, 2.62472837e-04,\n",
       "        2.55483435e-04, 8.23988194e-06, 6.43406893e-05, 3.37089623e-05,\n",
       "        1.22496212e-05, 1.35597747e-06, 2.28215576e-05, 1.80246701e-04,\n",
       "        9.13406620e-05, 3.53781473e-07, 5.79124162e-06, 6.81037682e-06,\n",
       "        4.05852770e-04, 1.55883354e-05, 4.88308524e-06, 3.77591573e-06,\n",
       "        9.79365211e-08, 1.77823575e-04, 2.24371015e-05, 4.50289144e-06,\n",
       "        1.50563821e-04, 2.63558963e-04, 4.54410270e-04, 1.33534004e-05,\n",
       "        8.36810796e-05, 2.21375831e-05, 1.92065727e-05, 2.96727667e-04,\n",
       "        1.42367149e-04, 2.33533239e-04, 8.68483312e-06, 6.88271530e-06,\n",
       "        1.27914445e-05, 1.05063546e-05, 1.30851849e-05, 5.24595845e-04,\n",
       "        3.35345976e-05, 5.89590854e-06, 5.85487978e-05, 4.36090748e-04,\n",
       "        3.64841389e-06, 6.74584635e-06, 1.54505015e-05, 1.30361877e-04,\n",
       "        3.52124925e-06, 4.27272971e-05, 1.83957207e-04, 3.00761280e-06,\n",
       "        1.22358560e-05, 8.42620011e-06, 1.80312109e-05, 1.20764504e-04,\n",
       "        1.88721242e-05, 5.47769341e-05, 6.34688558e-06, 5.00220813e-05,\n",
       "        2.86439376e-06, 2.79783217e-06, 1.41924409e-06, 3.44006548e-05,\n",
       "        4.95514181e-03, 2.75114126e-05, 1.01608639e-05, 4.74307635e-05,\n",
       "        9.69852226e-06, 4.44521811e-06, 1.44483667e-04, 1.96696783e-05,\n",
       "        1.56985261e-05, 5.85504949e-06, 1.12676425e-05, 1.18309115e-04,\n",
       "        7.72540898e-06, 6.58959252e-05, 1.07258929e-05, 1.13110091e-05,\n",
       "        2.47977482e-06, 4.17437870e-04, 1.35267155e-05, 4.91002947e-06,\n",
       "        5.11248829e-04, 3.88945395e-04, 5.63790090e-05, 2.56621952e-05,\n",
       "        3.93576693e-06, 5.30013494e-06, 1.29209529e-05, 5.00858645e-04,\n",
       "        5.72570749e-02, 2.41320743e-03, 3.74563606e-05, 5.78672552e-06,\n",
       "        4.95860604e-06, 1.67877788e-05, 4.00468343e-05, 7.14456546e-05,\n",
       "        3.57919198e-04, 1.29688651e-05, 1.84041401e-05, 8.16976012e-07,\n",
       "        4.67184645e-06, 9.47417266e-06, 7.91265484e-05, 1.85667686e-05,\n",
       "        4.80274730e-06, 4.94467386e-05, 4.97213023e-06, 1.40903637e-06,\n",
       "        2.24419793e-07, 6.35903007e-07, 7.80333778e-07, 2.81377870e-05,\n",
       "        1.89643360e-05, 2.39508878e-03, 8.12308315e-07, 7.43871215e-06,\n",
       "        3.15609905e-05, 1.26950980e-07, 2.41689340e-05, 8.96055280e-06,\n",
       "        4.02789624e-07, 4.15427967e-05, 1.00257637e-06, 3.77035303e-06,\n",
       "        6.00162764e-07, 2.17185956e-07, 3.20577578e-06, 7.99243844e-06,\n",
       "        9.14379257e-07, 6.80196820e-07, 1.18768901e-06, 4.63613105e-06,\n",
       "        1.35770424e-05, 1.38804353e-06, 1.40290069e-06, 3.48542841e-07,\n",
       "        3.55138241e-06, 9.32200408e-07, 1.21676312e-05, 1.26857049e-05,\n",
       "        7.42291945e-07, 8.05777859e-07, 2.78130785e-04, 2.83074201e-06,\n",
       "        3.82513135e-05, 7.51079506e-06, 7.25735026e-06, 3.37190181e-06,\n",
       "        5.50154539e-07, 1.58306068e-06, 1.33609037e-05, 1.10930487e-05,\n",
       "        5.41236659e-04, 9.56639997e-05, 9.85141196e-06, 1.05238252e-03,\n",
       "        2.18266632e-06, 5.62078321e-06, 1.06667729e-04, 3.03779907e-05,\n",
       "        1.47157959e-06, 2.38219545e-05, 1.69040450e-05, 3.56404121e-06,\n",
       "        8.50328433e-06, 3.54406757e-06, 2.58508080e-04, 2.86362247e-05,\n",
       "        3.64643120e-06, 8.29366741e-07, 5.23743040e-07, 4.76237881e-04,\n",
       "        2.74623812e-06, 3.76139224e-06, 1.46302409e-06, 1.73438434e-06,\n",
       "        9.10559095e-07, 8.12244025e-07, 3.77762063e-07, 6.30790737e-07,\n",
       "        1.02753393e-06, 1.58508942e-06, 7.20278942e-04, 3.84125626e-04]],\n",
       "      dtype=float32)"
      ]
     },
     "execution_count": 12,
     "metadata": {},
     "output_type": "execute_result"
    }
   ],
   "source": [
    "pred = modelVgg.predict( vgg16.preprocess_input( imgArr ) )\n",
    "pred"
   ]
  },
  {
   "cell_type": "code",
   "execution_count": 13,
   "metadata": {},
   "outputs": [
    {
     "data": {
      "text/plain": [
       "(1, 1000)"
      ]
     },
     "execution_count": 13,
     "metadata": {},
     "output_type": "execute_result"
    }
   ],
   "source": [
    "pred.shape"
   ]
  },
  {
   "cell_type": "code",
   "execution_count": 14,
   "metadata": {},
   "outputs": [
    {
     "name": "stdout",
     "output_type": "stream",
     "text": [
      "Downloading data from https://storage.googleapis.com/download.tensorflow.org/data/imagenet_class_index.json\n",
      "\u001b[1m35363/35363\u001b[0m \u001b[32m━━━━━━━━━━━━━━━━━━━━\u001b[0m\u001b[37m\u001b[0m \u001b[1m0s\u001b[0m 1us/step\n"
     ]
    },
    {
     "data": {
      "text/plain": [
       "[[('n02364673', 'guinea_pig', np.float32(0.09194243)),\n",
       "  ('n02441942', 'weasel', np.float32(0.06481243)),\n",
       "  ('n04589890', 'window_screen', np.float32(0.057257075)),\n",
       "  ('n02123394', 'Persian_cat', np.float32(0.054319877)),\n",
       "  ('n02443484', 'black-footed_ferret', np.float32(0.049384676))]]"
      ]
     },
     "execution_count": 14,
     "metadata": {},
     "output_type": "execute_result"
    }
   ],
   "source": [
    "vgg16.decode_predictions( pred )"
   ]
  },
  {
   "cell_type": "code",
   "execution_count": null,
   "metadata": {},
   "outputs": [],
   "source": [
    "model = Sequential()\n",
    "model.add( modelVgg ) # VGG16에서 \"특징추출\" 모델을 장착\n",
    "model.add( Flatten()) # 행렬을 펼치는 ... 필터 ...\n",
    "model.add( Dense(units =64, activation = 'relu'))      # 추가적인 \"파인튜닝\" 모델을 장착\n",
    "model.add( Dense(units = 2, activation = 'softmax'))   # 이진분류를 위한 추가 레이어 \n",
    "model.compile( loss = 'categorical_crossentropy', optimizer = 'adam', metrics = ['acc'] )\n",
    "model.fit(trainGen, epochs = 10)\n",
    "#\n",
    "# 오늘 (11/14목) <-- CNN 전이학습 적용 ... 이미지에만 국한 (x) \n",
    "# 내일 (11/15금) --> RNN 다룰 예정 ... 예제 다루어야 이해가능! \n",
    "#"
   ]
  },
  {
   "cell_type": "code",
   "execution_count": null,
   "metadata": {},
   "outputs": [],
   "source": [
    "## 머그컵, 강아지 vgg 예측"
   ]
  }
 ],
 "metadata": {
  "kernelspec": {
   "display_name": "Python 3",
   "language": "python",
   "name": "python3"
  },
  "language_info": {
   "codemirror_mode": {
    "name": "ipython",
    "version": 3
   },
   "file_extension": ".py",
   "mimetype": "text/x-python",
   "name": "python",
   "nbconvert_exporter": "python",
   "pygments_lexer": "ipython3",
   "version": "3.10.9"
  }
 },
 "nbformat": 4,
 "nbformat_minor": 2
}
