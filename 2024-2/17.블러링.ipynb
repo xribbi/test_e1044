{
 "cells": [
  {
   "cell_type": "code",
   "execution_count": 2,
   "id": "2f2c8136",
   "metadata": {},
   "outputs": [
    {
     "data": {
      "text/plain": [
       "0.04"
      ]
     },
     "execution_count": 2,
     "metadata": {},
     "output_type": "execute_result"
    }
   ],
   "source": [
    "1/25"
   ]
  },
  {
   "cell_type": "code",
   "execution_count": 2,
   "id": "321876be",
   "metadata": {},
   "outputs": [
    {
     "name": "stdout",
     "output_type": "stream",
     "text": [
      "[[0.04 0.04 0.04 0.04 0.04]\n",
      " [0.04 0.04 0.04 0.04 0.04]\n",
      " [0.04 0.04 0.04 0.04 0.04]\n",
      " [0.04 0.04 0.04 0.04 0.04]\n",
      " [0.04 0.04 0.04 0.04 0.04]]\n"
     ]
    },
    {
     "data": {
      "text/plain": [
       "-1"
      ]
     },
     "execution_count": 2,
     "metadata": {},
     "output_type": "execute_result"
    }
   ],
   "source": [
    "import numpy as np\n",
    "import cv2\n",
    "\n",
    "# img = cv2.imread('image/test.png')\n",
    "img = cv2.imread('cat.jpg')\n",
    "\n",
    "# 커널을 생성한다.\n",
    "# kernel = np.ones((5,5),np.float32)/25\n",
    "kernel = np.ones((5,5),np.float32)/25\n",
    "# kernel = np.ones((5,5),np.float32)/10\n",
    "\n",
    "\n",
    "# sharpning kernel\n",
    "# kernel = np.array([[0, -1,  0],\n",
    "#                    [-1,  5, -1],\n",
    "#                     [0, -1,  0]])\n",
    "print(kernel)\n",
    "\n",
    "dst = cv2.filter2D(img, -1, kernel)\n",
    "#convolution 연산을 수행\n",
    "\n",
    "cv2.imshow('Original', img)\n",
    "cv2.imshow('Result', dst)\n",
    "\n",
    "cv2.waitKey(0)\n",
    "cv2.destroyAllWindows()\n",
    "cv2.waitKey(1)"
   ]
  },
  {
   "attachments": {},
   "cell_type": "markdown",
   "id": "d8e138d3",
   "metadata": {},
   "source": [
    "https://deep-learning-study.tistory.com/142"
   ]
  },
  {
   "attachments": {},
   "cell_type": "markdown",
   "id": "832561d0",
   "metadata": {},
   "source": [
    "cv2.filter2D(src, ddepth, kernel, dst=None, anchor=None, delta=None, borderType=None) -> dst\n",
    "\n",
    "• src : 입력 영상\n",
    "\n",
    "• ddepth : 출력 영상 데이터 타입. (e.g) cv2.CV_8U, cv2.CV_32F, cv2.CV_64F, -1을 지정하면 src와 같은 타입의 dst 영상을 생성합니다.\n",
    "\n",
    "• kernel: 필터 마스크 행렬. 실수형.\n",
    "\n",
    "• anchor: 고정점 위치. (-1, -1)이면 필터 중앙을 고정점으로 사용\n",
    "\n",
    "• delta: 추가적으로 더할 값\n",
    "\n",
    "• borderType: 가장자리 픽셀 확장 방식\n",
    "\n",
    "• dst: 출력 영상"
   ]
  },
  {
   "attachments": {},
   "cell_type": "markdown",
   "id": "c6c742e5",
   "metadata": {},
   "source": [
    "### 평균블러링"
   ]
  },
  {
   "cell_type": "code",
   "execution_count": null,
   "id": "219d6b36",
   "metadata": {},
   "outputs": [],
   "source": [
    "import cv2\n",
    "\n",
    "\n",
    "img = cv2.imread('image/cat.jpg')\n",
    "img_blur = cv2.blur(img,(5,5))\n",
    "# 5 x 5  범위내 이웃 픽셀의 평균을 결과 이미지의 픽셀값으로하는 평균 블러링\n",
    "\n",
    "cv2.imshow('Original', img)\n",
    "cv2.imshow('Result', img_blur)\n",
    "\n",
    "cv2.waitKey(0)\n",
    "cv2.destroyAllWindows()\n",
    "\n",
    "cv2.waitKey(1)"
   ]
  },
  {
   "attachments": {},
   "cell_type": "markdown",
   "id": "25c82cb6",
   "metadata": {},
   "source": [
    "### 가우시안블러링\n",
    "\n",
    "평균값 필터 블러링의 단점은 필터링 대상 위치에서 가까이 있는 픽셀과 멀리 있는 픽셀이 모두 같은 가중치를 사용하여 평균을 계산합니다.\n",
    "\n",
    " \n",
    "\n",
    " 멀리 있는 픽셀의 영향을 많이 받아 필터 결과의 퀄리티가 낮아지게 됩니다.\n",
    "\n",
    " \n",
    "\n",
    " 이러한 단점을 보완하기 위해 가우시안 필터를 많이 사용"
   ]
  },
  {
   "attachments": {},
   "cell_type": "markdown",
   "id": "dcd15aa8",
   "metadata": {},
   "source": [
    "<img src=\"https://img1.daumcdn.net/thumb/R1280x0/?scode=mtistory2&fname=https%3A%2F%2Fblog.kakaocdn.net%2Fdn%2F3hxC7%2FbtqJU4lkGql%2FDctAZcntV6dKoG0JaSgZYK%2Fimg.png\">"
   ]
  },
  {
   "cell_type": "code",
   "execution_count": 9,
   "id": "68cef254",
   "metadata": {},
   "outputs": [
    {
     "data": {
      "text/plain": [
       "-1"
      ]
     },
     "execution_count": 9,
     "metadata": {},
     "output_type": "execute_result"
    }
   ],
   "source": [
    "import cv2\n",
    "\n",
    "\n",
    "img = cv2.imread('image/cat.jpg')\n",
    "# img_blur = cv2.GaussianBlur(img,(5,5),0)\n",
    "img_blur = cv2.GaussianBlur(img,(0,0),2)\n",
    "\n",
    "\n",
    "cv2.imshow('Original', img)\n",
    "cv2.imshow('Result', img_blur)\n",
    "\n",
    "cv2.waitKey(0)\n",
    "cv2.destroyAllWindows()\n",
    "cv2.waitKey(1)"
   ]
  },
  {
   "attachments": {},
   "cell_type": "markdown",
   "id": "b2586e46",
   "metadata": {},
   "source": [
    "https://deep-learning-study.tistory.com/144"
   ]
  },
  {
   "attachments": {},
   "cell_type": "markdown",
   "id": "a1deec6a",
   "metadata": {},
   "source": [
    "cv2.GaussianBlur(src, ksize, sigmaX, dst=None, sigmaY=None, borderType=None) -> dst\n",
    "\n",
    "• src: 입력 영상. 각 채널 별로 처리됨.\n",
    "\n",
    "• dst: 출력 영상. src와 같은 크기, 같은 타입.\n",
    "\n",
    "• ksize: 가우시안 커널 크기. (0, 0)을 지정하면 sigma 값에 의해 자동 결정됨\n",
    "\n",
    "• sigmaX: x방향 sigma.\n",
    "\n",
    "• sigmaY: y방향 sigma. 0이면 sigmaX와 같게 설정.\n",
    "\n",
    "• borderType: 가장자리 픽셀 확장 방식."
   ]
  },
  {
   "attachments": {},
   "cell_type": "markdown",
   "id": "2021b619",
   "metadata": {},
   "source": [
    "### 중간값 블러링"
   ]
  },
  {
   "cell_type": "code",
   "execution_count": null,
   "id": "016572d2",
   "metadata": {},
   "outputs": [],
   "source": [
    "cv2.medianBlur(src, ksize, dst=None) -> dst\n",
    "\n",
    " src : 입력 영상. 각 채널 별로 처리됨\n",
    " ksize : 커널 크기. 1보다 큰 홀수를 지정. 숫자 하나를 집어주면 됌\n",
    " dst : 출력 영상, src와 같은 크기, 같은 타입"
   ]
  },
  {
   "cell_type": "code",
   "execution_count": null,
   "id": "eabe3d1f",
   "metadata": {},
   "outputs": [],
   "source": [
    "https://deep-learning-study.tistory.com/163"
   ]
  },
  {
   "cell_type": "code",
   "execution_count": null,
   "id": "f85a1160",
   "metadata": {},
   "outputs": [],
   "source": [
    "import cv2\n",
    "\n",
    "\n",
    "img = cv2.imread('image/median.png')\n",
    "median = cv2.medianBlur(img, 5)\n",
    "\n",
    "cv2.imshow('Original', img)\n",
    "cv2.imshow('Result', median)\n",
    "\n",
    "cv2.waitKey(0)\n",
    "cv2.destroyAllWindows()\n",
    "cv2.waitKey(1)"
   ]
  },
  {
   "attachments": {},
   "cell_type": "markdown",
   "id": "daa95445",
   "metadata": {},
   "source": [
    "### 양방향 필터링"
   ]
  },
  {
   "cell_type": "code",
   "execution_count": 1,
   "id": "b50f4c2b",
   "metadata": {},
   "outputs": [
    {
     "data": {
      "text/plain": [
       "-1"
      ]
     },
     "execution_count": 1,
     "metadata": {},
     "output_type": "execute_result"
    }
   ],
   "source": [
    "import cv2\n",
    "\n",
    "\n",
    "img = cv2.imread('image/texture.png')\n",
    "median = cv2.medianBlur(img, 5)\n",
    "blur = cv2.bilateralFilter(img,9,75,75)\n",
    "\n",
    "cv2.imshow('Original', img)\n",
    "cv2.imshow('median', median)\n",
    "cv2.imshow('blur', blur)\n",
    "\n",
    "cv2.waitKey(0)\n",
    "cv2.destroyAllWindows()\n",
    "cv2.waitKey(1)"
   ]
  },
  {
   "cell_type": "code",
   "execution_count": null,
   "id": "d28cdbb0",
   "metadata": {},
   "outputs": [],
   "source": [
    "cv2.bilateralFilter(src, d, sigmaColor, sigmaSpace, dst=None, borderType=None) -> dst\n",
    "\n",
    "• src: 입력 영상. 8비트 또는 실수형, 1채널 또는 3채널.\n",
    "• d: 필터링에 사용될 이웃 픽셀의 거리(지름), 음수(-1)를 입력하면 sigmaSpace 값에 의해 자동 결정(권장)\n",
    "• sigmaColor: 색 공간에서 필터의 표준 편차\n",
    "• sigmaSpace: 좌표 공간에서 필터의 표준 편차\n",
    "• dst: 출력 영상. src와 같은 크기, 같은 타입.\n",
    "• borderType: 가장자리 픽셀 처리 방식"
   ]
  },
  {
   "cell_type": "code",
   "execution_count": null,
   "id": "58b62477",
   "metadata": {},
   "outputs": [],
   "source": []
  }
 ],
 "metadata": {
  "kernelspec": {
   "display_name": "Python 3",
   "language": "python",
   "name": "python3"
  },
  "language_info": {
   "codemirror_mode": {
    "name": "ipython",
    "version": 3
   },
   "file_extension": ".py",
   "mimetype": "text/x-python",
   "name": "python",
   "nbconvert_exporter": "python",
   "pygments_lexer": "ipython3",
   "version": "3.10.9"
  }
 },
 "nbformat": 4,
 "nbformat_minor": 5
}
