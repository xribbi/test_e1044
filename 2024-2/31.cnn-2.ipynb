{
 "cells": [
  {
   "cell_type": "code",
   "execution_count": 1,
   "metadata": {},
   "outputs": [],
   "source": [
    "import tensorflow as tf\n",
    "import matplotlib.pyplot as plt\n",
    "import pandas as pd\n",
    "import numpy as np\n",
    "from tensorflow.keras.optimizers import Adam\n",
    "from tensorflow.keras import Sequential, Model\n",
    "from tensorflow.keras.layers import Dense, Input, Flatten, Conv2D,MaxPool2D\n",
    "from tensorflow.keras.datasets.fashion_mnist import load_data\n",
    "from tensorflow.keras.utils import to_categorical\n",
    "from tensorflow.keras.callbacks import EarlyStopping"
   ]
  },
  {
   "cell_type": "code",
   "execution_count": 4,
   "metadata": {},
   "outputs": [
    {
     "data": {
      "text/plain": [
       "(1, 10, 10, 1)"
      ]
     },
     "execution_count": 4,
     "metadata": {},
     "output_type": "execute_result"
    }
   ],
   "source": [
    "x = np.random.randint( 0,256, (10,10,1))\n",
    "x = x.reshape( 1,10,10,1)\n",
    "x.shape"
   ]
  },
  {
   "cell_type": "code",
   "execution_count": 6,
   "metadata": {},
   "outputs": [
    {
     "name": "stderr",
     "output_type": "stream",
     "text": [
      "c:\\Python310\\lib\\site-packages\\keras\\src\\layers\\convolutional\\base_conv.py:107: UserWarning: Do not pass an `input_shape`/`input_dim` argument to a layer. When using Sequential models, prefer using an `Input(shape)` object as the first layer in the model instead.\n",
      "  super().__init__(activity_regularizer=activity_regularizer, **kwargs)\n"
     ]
    },
    {
     "data": {
      "text/plain": [
       "<tf.Tensor: shape=(1, 8, 8, 5), dtype=float32, numpy=\n",
       "array([[[[-78.41024   ,   5.242166  ,  58.30278   ,  63.309906  ,\n",
       "           68.61305   ],\n",
       "         [-32.862797  ,   0.7888661 ,  73.1748    ,  77.502235  ,\n",
       "          142.2878    ],\n",
       "         [-70.811386  ,   7.514842  ,  45.32637   ,  -0.9733472 ,\n",
       "          122.032684  ],\n",
       "         [-38.85721   ,  -3.2091234 ,  60.432865  , 123.17446   ,\n",
       "          116.983986  ],\n",
       "         [-30.112766  ,   1.3971188 ,  79.340324  ,  33.99389   ,\n",
       "           92.53591   ],\n",
       "         [-47.399555  , -27.712458  ,  67.55837   , 136.01819   ,\n",
       "           83.51837   ],\n",
       "         [-46.652256  , -10.566807  ,  73.492516  , -59.789303  ,\n",
       "           94.3924    ],\n",
       "         [-60.06479   ,  59.101788  ,  66.9559    ,  55.025963  ,\n",
       "          101.81877   ]],\n",
       "\n",
       "        [[  5.7569995 ,   7.9307003 ,  81.24975   ,  74.858406  ,\n",
       "          112.98751   ],\n",
       "         [-79.67386   ,  52.247368  ,  87.40074   ,  19.061825  ,\n",
       "          110.36843   ],\n",
       "         [ -6.2428856 , -33.16662   ,  59.401386  , 127.70872   ,\n",
       "          129.47005   ],\n",
       "         [-76.152405  , -23.803972  ,  65.315895  ,  49.61054   ,\n",
       "           70.63009   ],\n",
       "         [-11.121776  , -30.311935  ,  64.52116   ,  49.753845  ,\n",
       "           87.85073   ],\n",
       "         [-51.97596   ,  43.154354  , 109.68175   ,  61.741535  ,\n",
       "           86.14144   ],\n",
       "         [ 33.39108   , -60.12911   ,  40.546333  ,  52.657803  ,\n",
       "           89.19025   ],\n",
       "         [-67.21198   , -12.60345   ,  36.85316   , 121.921455  ,\n",
       "           90.233955  ]],\n",
       "\n",
       "        [[-54.706394  , -12.177174  ,  52.33727   ,  52.947174  ,\n",
       "           59.959637  ],\n",
       "         [-10.369541  , -21.750565  ,  71.22685   ,  76.22795   ,\n",
       "           71.50361   ],\n",
       "         [-50.26988   ,  17.390257  , 109.62315   ,  41.10151   ,\n",
       "           70.770256  ],\n",
       "         [  9.816778  ,   0.90088665,  83.9682    ,  46.676296  ,\n",
       "          113.13212   ],\n",
       "         [-31.441603  , -63.04489   ,  34.262035  , 124.23113   ,\n",
       "           61.525623  ],\n",
       "         [-61.560783  , -21.79843   ,  63.20654   ,  -5.9648895 ,\n",
       "           52.841145  ],\n",
       "         [ -3.351291  ,  16.755625  ,  90.72393   ,  50.19939   ,\n",
       "           69.03287   ],\n",
       "         [-55.95067   ,  44.86152   ,  96.24027   , -42.399685  ,\n",
       "           52.218216  ]],\n",
       "\n",
       "        [[ 12.642927  , -10.165631  ,  54.273926  ,  45.071846  ,\n",
       "          114.906784  ],\n",
       "         [-54.93063   ,  -9.08339   ,  32.96555   , 122.73354   ,\n",
       "           81.02709   ],\n",
       "         [-32.03407   , -58.505726  ,  45.72117   ,  55.746906  ,\n",
       "           86.75306   ],\n",
       "         [-46.684128  ,  33.96682   ,  71.10404   ,  39.525204  ,\n",
       "          118.57569   ],\n",
       "         [-70.8495    ,  22.619173  ,  78.008644  ,  56.50108   ,\n",
       "          106.19886   ],\n",
       "         [ 39.38269   , -99.26366   ,  36.960896  ,  83.58259   ,\n",
       "           61.620537  ],\n",
       "         [-34.661507  , -34.332138  ,  32.58378   ,  68.744896  ,\n",
       "            6.7796226 ],\n",
       "         [ 58.13863   , -78.4491    ,  30.679398  ,  97.09391   ,\n",
       "           52.245193  ]],\n",
       "\n",
       "        [[-27.620098  ,  14.833658  ,  60.31133   , -10.257983  ,\n",
       "           89.65435   ],\n",
       "         [-74.48162   ,  72.06987   ,  80.56867   ,  74.42113   ,\n",
       "          132.14006   ],\n",
       "         [-17.710634  ,  -3.829826  ,  63.64174   ,  50.076946  ,\n",
       "          140.11716   ],\n",
       "         [-79.40118   ,  -8.580066  ,  29.124002  ,  86.063416  ,\n",
       "          115.635956  ],\n",
       "         [-57.090824  , -25.970655  ,  79.246056  ,  95.045     ,\n",
       "           77.5949    ],\n",
       "         [ -7.377196  ,   0.7934849 ,  77.451065  , -26.491209  ,\n",
       "           88.93275   ],\n",
       "         [-51.67464   ,  19.319233  ,  25.366928  ,  40.473938  ,\n",
       "           94.90968   ],\n",
       "         [-71.47917   ,  25.215921  ,  45.38587   , -17.97417   ,\n",
       "           74.3563    ]],\n",
       "\n",
       "        [[ 14.541008  , -51.95491   ,  32.57952   ,  80.37888   ,\n",
       "           98.056175  ],\n",
       "         [-65.809784  ,  23.195047  ,  66.17997   ,  77.963684  ,\n",
       "           68.63622   ],\n",
       "         [-54.23095   ,  18.835466  ,  88.90888   ,  19.068285  ,\n",
       "          121.84283   ],\n",
       "         [-12.452762  , -15.786078  ,  86.116295  , 108.75875   ,\n",
       "          104.99011   ],\n",
       "         [-44.738712  ,  -7.6215134 ,  76.52578   ,  44.210606  ,\n",
       "           80.61128   ],\n",
       "         [-41.67104   , -11.494463  ,  36.256226  ,  22.876009  ,\n",
       "          118.28718   ],\n",
       "         [-49.56408   , -25.419867  ,  49.37076   ,  87.419586  ,\n",
       "           51.133495  ],\n",
       "         [ 72.96585   , -74.22003   ,  44.65316   ,  61.878036  ,\n",
       "           35.66154   ]],\n",
       "\n",
       "        [[ -0.8081944 , -45.319775  ,  70.31177   ,   3.6118531 ,\n",
       "           18.222214  ],\n",
       "         [  4.603431  ,  23.915834  ,  76.236725  ,  53.287094  ,\n",
       "           48.35832   ],\n",
       "         [  6.3131123 , -33.59727   ,  72.339584  , 111.78661   ,\n",
       "           44.074024  ],\n",
       "         [-55.506634  , -16.91296   ,  82.553566  ,  29.659904  ,\n",
       "           54.252937  ],\n",
       "         [-24.305027  ,  20.369549  ,  89.845276  ,  12.90112   ,\n",
       "          105.58443   ],\n",
       "         [-11.822105  , -29.841679  ,  69.201836  ,  83.11018   ,\n",
       "           45.091908  ],\n",
       "         [ -6.465521  , -35.756256  ,  70.72863   ,  39.158585  ,\n",
       "           21.30312   ],\n",
       "         [-38.16058   ,  64.96076   ,  42.47388   , -75.88416   ,\n",
       "          114.00433   ]],\n",
       "\n",
       "        [[ 49.31412   , -81.584015  ,  30.925543  ,  29.72647   ,\n",
       "           38.59978   ],\n",
       "         [-23.741074  ,  11.128399  ,  13.673912  ,  60.119453  ,\n",
       "           90.31082   ],\n",
       "         [-87.16601   ,  31.572412  ,  42.51946   ,  65.99379   ,\n",
       "          111.42128   ],\n",
       "         [-10.937042  , -74.79152   ,  52.84692   ,  78.55408   ,\n",
       "           66.324455  ],\n",
       "         [ 15.105558  , -54.28138   ,  63.64392   ,  60.00805   ,\n",
       "            3.7337499 ],\n",
       "         [ -4.8322353 , -23.10646   ,  71.41094   ,  53.198784  ,\n",
       "            4.919319  ],\n",
       "         [-11.884232  , -12.583759  ,  56.89934   , -37.686474  ,\n",
       "           38.08373   ],\n",
       "         [ 34.563946  ,  -7.3924475 ,  30.628517  ,  62.294296  ,\n",
       "           64.637375  ]]]], dtype=float32)>"
      ]
     },
     "execution_count": 6,
     "metadata": {},
     "output_type": "execute_result"
    }
   ],
   "source": [
    "conv = Conv2D( 5, kernel_size=(3,3), input_dim=(10,10,1) )\n",
    "conv( tf.constant(x,tf.float32) )"
   ]
  },
  {
   "cell_type": "code",
   "execution_count": 8,
   "metadata": {},
   "outputs": [],
   "source": [
    "text_labels = ['t-shirt', 'trouser', 'pullover', 'dress', 'coat',\n",
    "                   'sandal', 'shirt', 'sneaker', 'bag', 'ankle boot']"
   ]
  },
  {
   "cell_type": "code",
   "execution_count": 9,
   "metadata": {},
   "outputs": [],
   "source": [
    "(x_train,y_train),(x_test,y_test) = load_data()"
   ]
  },
  {
   "cell_type": "code",
   "execution_count": 10,
   "metadata": {},
   "outputs": [],
   "source": [
    "x_trainR = x_train.reshape(-1,28,28,1)\n",
    "x_trainN = x_trainR/255"
   ]
  },
  {
   "cell_type": "code",
   "execution_count": 11,
   "metadata": {},
   "outputs": [
    {
     "data": {
      "text/plain": [
       "(60000, 28, 28, 1)"
      ]
     },
     "execution_count": 11,
     "metadata": {},
     "output_type": "execute_result"
    }
   ],
   "source": [
    "x_trainN.shape"
   ]
  },
  {
   "cell_type": "code",
   "execution_count": 12,
   "metadata": {},
   "outputs": [
    {
     "name": "stderr",
     "output_type": "stream",
     "text": [
      "c:\\Python310\\lib\\site-packages\\keras\\src\\layers\\convolutional\\base_conv.py:107: UserWarning: Do not pass an `input_shape`/`input_dim` argument to a layer. When using Sequential models, prefer using an `Input(shape)` object as the first layer in the model instead.\n",
      "  super().__init__(activity_regularizer=activity_regularizer, **kwargs)\n"
     ]
    },
    {
     "name": "stdout",
     "output_type": "stream",
     "text": [
      "Epoch 1/10\n",
      "\u001b[1m1875/1875\u001b[0m \u001b[32m━━━━━━━━━━━━━━━━━━━━\u001b[0m\u001b[37m\u001b[0m \u001b[1m10s\u001b[0m 5ms/step - acc: 0.8162 - loss: 0.5124\n",
      "Epoch 2/10\n",
      "\u001b[1m1875/1875\u001b[0m \u001b[32m━━━━━━━━━━━━━━━━━━━━\u001b[0m\u001b[37m\u001b[0m \u001b[1m9s\u001b[0m 5ms/step - acc: 0.8906 - loss: 0.2925\n",
      "Epoch 3/10\n",
      "\u001b[1m1875/1875\u001b[0m \u001b[32m━━━━━━━━━━━━━━━━━━━━\u001b[0m\u001b[37m\u001b[0m \u001b[1m9s\u001b[0m 5ms/step - acc: 0.9009 - loss: 0.2676\n",
      "Epoch 4/10\n",
      "\u001b[1m1875/1875\u001b[0m \u001b[32m━━━━━━━━━━━━━━━━━━━━\u001b[0m\u001b[37m\u001b[0m \u001b[1m9s\u001b[0m 5ms/step - acc: 0.9066 - loss: 0.2484\n",
      "Epoch 5/10\n",
      "\u001b[1m1875/1875\u001b[0m \u001b[32m━━━━━━━━━━━━━━━━━━━━\u001b[0m\u001b[37m\u001b[0m \u001b[1m9s\u001b[0m 5ms/step - acc: 0.9141 - loss: 0.2324\n",
      "Epoch 6/10\n",
      "\u001b[1m1875/1875\u001b[0m \u001b[32m━━━━━━━━━━━━━━━━━━━━\u001b[0m\u001b[37m\u001b[0m \u001b[1m9s\u001b[0m 5ms/step - acc: 0.9160 - loss: 0.2208\n",
      "Epoch 7/10\n",
      "\u001b[1m1875/1875\u001b[0m \u001b[32m━━━━━━━━━━━━━━━━━━━━\u001b[0m\u001b[37m\u001b[0m \u001b[1m9s\u001b[0m 5ms/step - acc: 0.9173 - loss: 0.2220\n",
      "Epoch 8/10\n",
      "\u001b[1m1875/1875\u001b[0m \u001b[32m━━━━━━━━━━━━━━━━━━━━\u001b[0m\u001b[37m\u001b[0m \u001b[1m9s\u001b[0m 5ms/step - acc: 0.9247 - loss: 0.2020\n",
      "Epoch 9/10\n",
      "\u001b[1m1875/1875\u001b[0m \u001b[32m━━━━━━━━━━━━━━━━━━━━\u001b[0m\u001b[37m\u001b[0m \u001b[1m9s\u001b[0m 5ms/step - acc: 0.9230 - loss: 0.2019\n",
      "Epoch 10/10\n",
      "\u001b[1m1875/1875\u001b[0m \u001b[32m━━━━━━━━━━━━━━━━━━━━\u001b[0m\u001b[37m\u001b[0m \u001b[1m9s\u001b[0m 5ms/step - acc: 0.9288 - loss: 0.1947\n"
     ]
    },
    {
     "data": {
      "text/plain": [
       "<keras.src.callbacks.history.History at 0x1f7884f7820>"
      ]
     },
     "execution_count": 12,
     "metadata": {},
     "output_type": "execute_result"
    }
   ],
   "source": [
    "model = Sequential()\n",
    "model.add( Conv2D(32, kernel_size=(3,3), strides=1, input_shape=(28,28,1),\n",
    "                  activation='relu', padding='same' ) )\n",
    "model.add( Conv2D(16, kernel_size=(3,3), activation='relu') )\n",
    "model.add( MaxPool2D(pool_size=(2,2) ) )\n",
    "model.add( Flatten() )\n",
    "model.add( Dense( units=64, activation='relu'))\n",
    "model.add( Dense( units=10, activation='softmax'))\n",
    "model.compile( loss='sparse_categorical_crossentropy', \n",
    "              optimizer=Adam(0.01) ,metrics=['acc'])\n",
    "model.fit( x_trainN, y_train, epochs=10)"
   ]
  },
  {
   "cell_type": "code",
   "execution_count": 18,
   "metadata": {},
   "outputs": [
    {
     "data": {
      "text/plain": [
       "[<Conv2D name=conv2d_2, built=True>,\n",
       " <Conv2D name=conv2d_3, built=True>,\n",
       " <MaxPooling2D name=max_pooling2d, built=True>,\n",
       " <Flatten name=flatten, built=True>,\n",
       " <Dense name=dense, built=True>,\n",
       " <Dense name=dense_1, built=True>]"
      ]
     },
     "execution_count": 18,
     "metadata": {},
     "output_type": "execute_result"
    }
   ],
   "source": [
    "model.layers"
   ]
  },
  {
   "cell_type": "code",
   "execution_count": 19,
   "metadata": {},
   "outputs": [],
   "source": [
    "w,b = model.layers[4].get_weights()"
   ]
  },
  {
   "cell_type": "code",
   "execution_count": 20,
   "metadata": {},
   "outputs": [
    {
     "data": {
      "text/plain": [
       "(2704, 64)"
      ]
     },
     "execution_count": 20,
     "metadata": {},
     "output_type": "execute_result"
    }
   ],
   "source": [
    "w.shape"
   ]
  },
  {
   "cell_type": "code",
   "execution_count": null,
   "metadata": {},
   "outputs": [
    {
     "data": {
      "text/plain": [
       "(28, 28)"
      ]
     },
     "execution_count": 22,
     "metadata": {},
     "output_type": "execute_result"
    }
   ],
   "source": [
    "x_test[0].reshape( 1,28,28,1)"
   ]
  },
  {
   "cell_type": "code",
   "execution_count": 25,
   "metadata": {},
   "outputs": [
    {
     "name": "stdout",
     "output_type": "stream",
     "text": [
      "\u001b[1m1/1\u001b[0m \u001b[32m━━━━━━━━━━━━━━━━━━━━\u001b[0m\u001b[37m\u001b[0m \u001b[1m0s\u001b[0m 23ms/step\n"
     ]
    },
    {
     "data": {
      "text/plain": [
       "array([9])"
      ]
     },
     "execution_count": 25,
     "metadata": {},
     "output_type": "execute_result"
    }
   ],
   "source": [
    "model.predict(x_test[0].reshape( 1,28,28,1)/255 ).argmax(axis=1)"
   ]
  },
  {
   "cell_type": "code",
   "execution_count": 33,
   "metadata": {},
   "outputs": [
    {
     "data": {
      "text/plain": [
       "<tf.Tensor: shape=(1, 10), dtype=float32, numpy=\n",
       "array([[3.7576536e-16, 1.0441337e-20, 1.8968686e-17, 7.0631355e-19,\n",
       "        1.1573853e-16, 1.0543316e-09, 5.0159732e-18, 8.4057421e-05,\n",
       "        3.6946229e-20, 9.9991596e-01]], dtype=float32)>"
      ]
     },
     "execution_count": 33,
     "metadata": {},
     "output_type": "execute_result"
    }
   ],
   "source": [
    "conv1 = model.layers[0]( x_test[0].reshape( 1,28,28,1)/255 )\n",
    "conv2 = model.layers[1]( conv1 )\n",
    "p = model.layers[2](conv2)\n",
    "f = model.layers[3](p)\n",
    "d1 = model.layers[4](f) # 1x1204 1204x64\n",
    "hx = model.layers[5](d1) # 1x64 64x10\n",
    "hx"
   ]
  },
  {
   "cell_type": "code",
   "execution_count": 34,
   "metadata": {},
   "outputs": [
    {
     "name": "stdout",
     "output_type": "stream",
     "text": [
      "\u001b[1m1/1\u001b[0m \u001b[32m━━━━━━━━━━━━━━━━━━━━\u001b[0m\u001b[37m\u001b[0m \u001b[1m0s\u001b[0m 27ms/step\n"
     ]
    },
    {
     "data": {
      "text/plain": [
       "array([[3.7576536e-16, 1.0441337e-20, 1.8968686e-17, 7.0631355e-19,\n",
       "        1.1573853e-16, 1.0543316e-09, 5.0159732e-18, 8.4057421e-05,\n",
       "        3.6946229e-20, 9.9991596e-01]], dtype=float32)"
      ]
     },
     "execution_count": 34,
     "metadata": {},
     "output_type": "execute_result"
    }
   ],
   "source": [
    "model.predict(x_test[0].reshape( 1,28,28,1)/255 )"
   ]
  },
  {
   "cell_type": "markdown",
   "metadata": {},
   "source": [
    "<!-- 1. 1, 28, 28, 32\n",
    "2. 1, 26, 26, 16\n",
    "3. (1, 13, 13, 16)\n",
    "4. (1, 2704) -->"
   ]
  }
 ],
 "metadata": {
  "kernelspec": {
   "display_name": "Python 3",
   "language": "python",
   "name": "python3"
  },
  "language_info": {
   "codemirror_mode": {
    "name": "ipython",
    "version": 3
   },
   "file_extension": ".py",
   "mimetype": "text/x-python",
   "name": "python",
   "nbconvert_exporter": "python",
   "pygments_lexer": "ipython3",
   "version": "3.10.9"
  }
 },
 "nbformat": 4,
 "nbformat_minor": 2
}
