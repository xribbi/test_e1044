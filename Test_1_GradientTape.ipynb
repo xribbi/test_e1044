{
 "cells": [
  {
   "cell_type": "markdown",
   "metadata": {},
   "source": [
    "### HomeWork #1\n",
    "문제 : y = (x + 3)^3\n",
    "답: 손으로 d_y / d_x = 3*(x + 3)*2\n",
    "\n"
   ]
  },
  {
   "cell_type": "markdown",
   "metadata": {},
   "source": [
    "### HomeWork #2\n",
    "문제 : 전기생산량 3.31 예측하시오 (로우레벨: tensorflow, 하이레벨: keras )"
   ]
  },
  {
   "cell_type": "code",
   "execution_count": 1,
   "metadata": {},
   "outputs": [],
   "source": [
    "import matplotlib.pyplot as plt\n",
    "import tensorflow as tf\n",
    "import pandas as pd\n",
    "import numpy as np"
   ]
  },
  {
   "cell_type": "code",
   "execution_count": 2,
   "metadata": {},
   "outputs": [],
   "source": [
    "df = pd.read_csv('data/electric.csv',index_col='Unnamed: 0', ); # encoding = 'utf-8' 또는 'uec-kr' 또 'cp949'"
   ]
  },
  {
   "cell_type": "code",
   "execution_count": 3,
   "metadata": {},
   "outputs": [
    {
     "name": "stdout",
     "output_type": "stream",
     "text": [
      "x= [3.52 2.58 3.31 4.07 4.62 3.98 4.29 4.83 3.71 4.61 3.9  3.2 ]\n",
      "y= [2.48 2.27 2.47 2.77 2.98 3.05 3.18 3.46 3.03 3.25 2.67 2.53]\n",
      "w= 0.9947317838668823\n",
      "b= 0.26605796813964844\n"
     ]
    }
   ],
   "source": [
    "def t_c(data): return(tf.constant(data,tf.float32))\n",
    "def t_v(data): return(tf.Variable(data,tf.float32))\n",
    "def t_n(t):    return(t.numpy().item())\n",
    "\n",
    "x_data = df['전기생산량'].values\n",
    "y_data = df['전기사용량'].values\n",
    "w = t_v(tf.random.uniform([1])) # tf.random.uniform --> just \"number\" (value), not \"tensor\" (by default) ?\n",
    "b = t_v(tf.random.uniform([1])) # tf.random.uniform --> just \"number\" (value), not \"tensor\" (by default) ?\n",
    "print(\"x=\",x_data)\n",
    "print(\"y=\",y_data)\n",
    "print(\"w=\",t_n(w))\n",
    "print(\"b=\",t_n(b))\n",
    "\n",
    "x = t_v(x_data); # t_v or t_c ??\n",
    "y = t_v(y_data); # t_v or t_c ??\n"
   ]
  },
  {
   "cell_type": "code",
   "execution_count": 4,
   "metadata": {
    "slideshow": {
     "slide_type": "subslide"
    }
   },
   "outputs": [
    {
     "ename": "InvalidArgumentError",
     "evalue": "cannot compute Mul as input #1(zero-based) was expected to be a float tensor but is a double tensor [Op:Mul] name: ",
     "output_type": "error",
     "traceback": [
      "\u001b[1;31m---------------------------------------------------------------------------\u001b[0m",
      "\u001b[1;31mInvalidArgumentError\u001b[0m                      Traceback (most recent call last)",
      "Cell \u001b[1;32mIn[4], line 6\u001b[0m\n\u001b[0;32m      4\u001b[0m \u001b[38;5;28;01mfor\u001b[39;00m i \u001b[38;5;129;01min\u001b[39;00m \u001b[38;5;28mrange\u001b[39m(\u001b[38;5;241m2000\u001b[39m):\n\u001b[0;32m      5\u001b[0m     \u001b[38;5;28;01mwith\u001b[39;00m tf\u001b[38;5;241m.\u001b[39mGradientTape() \u001b[38;5;28;01mas\u001b[39;00m tape:\n\u001b[1;32m----> 6\u001b[0m         cost \u001b[38;5;241m=\u001b[39m tf\u001b[38;5;241m.\u001b[39mreduce_mean((\u001b[43mw\u001b[49m\u001b[38;5;241;43m*\u001b[39;49m\u001b[43mx\u001b[49m\u001b[38;5;241m+\u001b[39mb\u001b[38;5;241m-\u001b[39my)\u001b[38;5;241m*\u001b[39m\u001b[38;5;241m*\u001b[39m\u001b[38;5;241m2\u001b[39m)\n\u001b[0;32m      7\u001b[0m     gradients \u001b[38;5;241m=\u001b[39m tape\u001b[38;5;241m.\u001b[39mgradient(cost, [w, b])\n\u001b[0;32m      8\u001b[0m     optimizer\u001b[38;5;241m.\u001b[39mapply_gradients(\u001b[38;5;28mzip\u001b[39m(gradients, [w,b]) )\n",
      "File \u001b[1;32mc:\\Python310\\lib\\site-packages\\tensorflow\\python\\ops\\variables.py:1016\u001b[0m, in \u001b[0;36mVariable._OverloadOperator.<locals>._run_op\u001b[1;34m(a, *args, **kwargs)\u001b[0m\n\u001b[0;32m   1014\u001b[0m \u001b[38;5;28;01mdef\u001b[39;00m \u001b[38;5;21m_run_op\u001b[39m(a, \u001b[38;5;241m*\u001b[39margs, \u001b[38;5;241m*\u001b[39m\u001b[38;5;241m*\u001b[39mkwargs):\n\u001b[0;32m   1015\u001b[0m   \u001b[38;5;66;03m# pylint: disable=protected-access\u001b[39;00m\n\u001b[1;32m-> 1016\u001b[0m   \u001b[38;5;28;01mreturn\u001b[39;00m tensor_oper(a\u001b[38;5;241m.\u001b[39mvalue(), \u001b[38;5;241m*\u001b[39margs, \u001b[38;5;241m*\u001b[39m\u001b[38;5;241m*\u001b[39mkwargs)\n",
      "File \u001b[1;32mc:\\Python310\\lib\\site-packages\\tensorflow\\python\\util\\traceback_utils.py:153\u001b[0m, in \u001b[0;36mfilter_traceback.<locals>.error_handler\u001b[1;34m(*args, **kwargs)\u001b[0m\n\u001b[0;32m    151\u001b[0m \u001b[38;5;28;01mexcept\u001b[39;00m \u001b[38;5;167;01mException\u001b[39;00m \u001b[38;5;28;01mas\u001b[39;00m e:\n\u001b[0;32m    152\u001b[0m   filtered_tb \u001b[38;5;241m=\u001b[39m _process_traceback_frames(e\u001b[38;5;241m.\u001b[39m__traceback__)\n\u001b[1;32m--> 153\u001b[0m   \u001b[38;5;28;01mraise\u001b[39;00m e\u001b[38;5;241m.\u001b[39mwith_traceback(filtered_tb) \u001b[38;5;28;01mfrom\u001b[39;00m \u001b[38;5;28;01mNone\u001b[39;00m\n\u001b[0;32m    154\u001b[0m \u001b[38;5;28;01mfinally\u001b[39;00m:\n\u001b[0;32m    155\u001b[0m   \u001b[38;5;28;01mdel\u001b[39;00m filtered_tb\n",
      "File \u001b[1;32mc:\\Python310\\lib\\site-packages\\tensorflow\\python\\framework\\ops.py:6002\u001b[0m, in \u001b[0;36mraise_from_not_ok_status\u001b[1;34m(e, name)\u001b[0m\n\u001b[0;32m   6000\u001b[0m \u001b[38;5;28;01mdef\u001b[39;00m \u001b[38;5;21mraise_from_not_ok_status\u001b[39m(e, name) \u001b[38;5;241m-\u001b[39m\u001b[38;5;241m>\u001b[39m NoReturn:\n\u001b[0;32m   6001\u001b[0m   e\u001b[38;5;241m.\u001b[39mmessage \u001b[38;5;241m+\u001b[39m\u001b[38;5;241m=\u001b[39m (\u001b[38;5;124m\"\u001b[39m\u001b[38;5;124m name: \u001b[39m\u001b[38;5;124m\"\u001b[39m \u001b[38;5;241m+\u001b[39m \u001b[38;5;28mstr\u001b[39m(name \u001b[38;5;28;01mif\u001b[39;00m name \u001b[38;5;129;01mis\u001b[39;00m \u001b[38;5;129;01mnot\u001b[39;00m \u001b[38;5;28;01mNone\u001b[39;00m \u001b[38;5;28;01melse\u001b[39;00m \u001b[38;5;124m\"\u001b[39m\u001b[38;5;124m\"\u001b[39m))\n\u001b[1;32m-> 6002\u001b[0m   \u001b[38;5;28;01mraise\u001b[39;00m core\u001b[38;5;241m.\u001b[39m_status_to_exception(e) \u001b[38;5;28;01mfrom\u001b[39;00m \u001b[38;5;28;01mNone\u001b[39;00m\n",
      "\u001b[1;31mInvalidArgumentError\u001b[0m: cannot compute Mul as input #1(zero-based) was expected to be a float tensor but is a double tensor [Op:Mul] name: "
     ]
    }
   ],
   "source": [
    "Adam = tf.keras.optimizers.Adam # SGD [ (+) Momentum ,  (+) {Adagrad, RMSProp} ] --> Adam 방향도 스텝도 자유자래로 \n",
    "hist_cost = []\n",
    "optimizer = Adam(learning_rate = 0.01)\n",
    "for i in range(2000):\n",
    "    with tf.GradientTape() as tape:\n",
    "        cost = tf.reduce_mean((w*x+b-y)**2)\n",
    "    gradients = tape.gradient(cost, [w, b])\n",
    "    optimizer.apply_gradients(zip(gradients, [w,b]) )\n",
    "    # 미분초기화 ??\n",
    "    # w.assign_sub(0.01*w미분)\n",
    "    # b.assign_sub(0.01*b미분)\n",
    "    c = t_n(cost)\n",
    "    print(\"i = %4d, cost: %8.4f\"%(i,c))\n",
    "    hist_cost.append(c)\n",
    "    if( t_n(cost) <1e-4): break\n",
    "\n",
    "print(\"w= %8.4f, b=%8.4f\"%(t_n(w),t_n(b)))"
   ]
  },
  {
   "cell_type": "code",
   "execution_count": null,
   "metadata": {},
   "outputs": [],
   "source": [
    "plt.plot(hist_cost)\n",
    "# plt.ylim([200, 2*c])"
   ]
  },
  {
   "cell_type": "code",
   "execution_count": null,
   "metadata": {},
   "outputs": [],
   "source": [
    "def predict_fn(x_data):\n",
    "    return t_n(w)*x_data+t_n(b)\n",
    "print(predict_fn(3.31))\n",
    "y_pred=predict_fn(x_data)"
   ]
  },
  {
   "cell_type": "code",
   "execution_count": null,
   "metadata": {},
   "outputs": [],
   "source": [
    "plt.scatter(x_data,y_data)\n",
    "plt.plot(x_data,y_pred,'r--')\n",
    "plt.xlabel(\"전기생산량\")\n",
    "plt.ylabel(\"전기사용량\")"
   ]
  }
 ],
 "metadata": {
  "kernelspec": {
   "display_name": "Python 3",
   "language": "python",
   "name": "python3"
  },
  "language_info": {
   "codemirror_mode": {
    "name": "ipython",
    "version": 3
   },
   "file_extension": ".py",
   "mimetype": "text/x-python",
   "name": "python",
   "nbconvert_exporter": "python",
   "pygments_lexer": "ipython3",
   "version": "3.10.9"
  }
 },
 "nbformat": 4,
 "nbformat_minor": 2
}
