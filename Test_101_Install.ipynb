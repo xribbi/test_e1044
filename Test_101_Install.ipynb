{
 "cells": [
  {
   "cell_type": "code",
   "execution_count": null,
   "metadata": {},
   "outputs": [
    {
     "name": "stdout",
     "output_type": "stream",
     "text": [
      "c:\\X\n",
      "3.10.9 (tags/v3.10.9:1dd9be6, Dec  6 2022, 20:01:21) [MSC v.1934 64 bit (AMD64)]\n"
     ]
    }
   ],
   "source": [
    "\"\"\"\n",
    "### 실습준비 @ 129.254.23.132\n",
    "\n",
    "2024-11-11 ~ 2024-11-15\n",
    "by 김일한 ihank@naver.com\n",
    "\n",
    "http://129.254.23.13/0.core/index.php\n",
    "https://www.python.org/         최신버전  3.13.0 (No!) --> (패키지 업데이트 고려) --> 3.10.9 \n",
    "https://code.visualstudio.com/  CTRL + \",\" 로 세팅설정에서 마우스줌 활성 // ipynb (json) 사용\n",
    "https://git-scm.com/downloads/win\n",
    "file:///C:/Users/std/AppData/Local/Programs/Git/ReleaseNotes.html  \n",
    "\n",
    "\"\"\";\n",
    "import os\n",
    "import sys\n",
    "print(os.getcwd())\n",
    "print(sys.version)\n",
    "def ia(o): [print(\"%04d:%20s:%s\"%(i,a,getattr(o,a)) for (i,a) in enumerate(dir(o),1))]\n"
   ]
  },
  {
   "cell_type": "code",
   "execution_count": 2,
   "metadata": {},
   "outputs": [
    {
     "name": "stdout",
     "output_type": "stream",
     "text": [
      "Requirement already satisfied: tensorflow in c:\\python310\\lib\\site-packages (2.18.0)\n",
      "Requirement already satisfied: tensorflow-intel==2.18.0 in c:\\python310\\lib\\site-packages (from tensorflow) (2.18.0)\n",
      "Requirement already satisfied: absl-py>=1.0.0 in c:\\python310\\lib\\site-packages (from tensorflow-intel==2.18.0->tensorflow) (2.1.0)\n",
      "Requirement already satisfied: astunparse>=1.6.0 in c:\\python310\\lib\\site-packages (from tensorflow-intel==2.18.0->tensorflow) (1.6.3)\n",
      "Requirement already satisfied: flatbuffers>=24.3.25 in c:\\python310\\lib\\site-packages (from tensorflow-intel==2.18.0->tensorflow) (24.3.25)\n",
      "Requirement already satisfied: gast!=0.5.0,!=0.5.1,!=0.5.2,>=0.2.1 in c:\\python310\\lib\\site-packages (from tensorflow-intel==2.18.0->tensorflow) (0.6.0)\n",
      "Requirement already satisfied: google-pasta>=0.1.1 in c:\\python310\\lib\\site-packages (from tensorflow-intel==2.18.0->tensorflow) (0.2.0)\n",
      "Requirement already satisfied: libclang>=13.0.0 in c:\\python310\\lib\\site-packages (from tensorflow-intel==2.18.0->tensorflow) (18.1.1)\n",
      "Requirement already satisfied: opt-einsum>=2.3.2 in c:\\python310\\lib\\site-packages (from tensorflow-intel==2.18.0->tensorflow) (3.4.0)\n",
      "Requirement already satisfied: packaging in c:\\users\\std\\appdata\\roaming\\python\\python310\\site-packages (from tensorflow-intel==2.18.0->tensorflow) (24.2)\n",
      "Requirement already satisfied: protobuf!=4.21.0,!=4.21.1,!=4.21.2,!=4.21.3,!=4.21.4,!=4.21.5,<6.0.0dev,>=3.20.3 in c:\\python310\\lib\\site-packages (from tensorflow-intel==2.18.0->tensorflow) (5.28.3)\n",
      "Requirement already satisfied: requests<3,>=2.21.0 in c:\\python310\\lib\\site-packages (from tensorflow-intel==2.18.0->tensorflow) (2.32.3)\n",
      "Requirement already satisfied: setuptools in c:\\python310\\lib\\site-packages (from tensorflow-intel==2.18.0->tensorflow) (65.5.0)\n",
      "Requirement already satisfied: six>=1.12.0 in c:\\users\\std\\appdata\\roaming\\python\\python310\\site-packages (from tensorflow-intel==2.18.0->tensorflow) (1.16.0)\n",
      "Requirement already satisfied: termcolor>=1.1.0 in c:\\python310\\lib\\site-packages (from tensorflow-intel==2.18.0->tensorflow) (2.5.0)\n",
      "Requirement already satisfied: typing-extensions>=3.6.6 in c:\\users\\std\\appdata\\roaming\\python\\python310\\site-packages (from tensorflow-intel==2.18.0->tensorflow) (4.12.2)\n",
      "Requirement already satisfied: wrapt>=1.11.0 in c:\\python310\\lib\\site-packages (from tensorflow-intel==2.18.0->tensorflow) (1.16.0)\n",
      "Requirement already satisfied: grpcio<2.0,>=1.24.3 in c:\\python310\\lib\\site-packages (from tensorflow-intel==2.18.0->tensorflow) (1.67.1)\n",
      "Requirement already satisfied: tensorboard<2.19,>=2.18 in c:\\python310\\lib\\site-packages (from tensorflow-intel==2.18.0->tensorflow) (2.18.0)\n",
      "Requirement already satisfied: keras>=3.5.0 in c:\\python310\\lib\\site-packages (from tensorflow-intel==2.18.0->tensorflow) (3.6.0)\n",
      "Requirement already satisfied: numpy<2.1.0,>=1.26.0 in c:\\python310\\lib\\site-packages (from tensorflow-intel==2.18.0->tensorflow) (2.0.2)\n",
      "Requirement already satisfied: h5py>=3.11.0 in c:\\python310\\lib\\site-packages (from tensorflow-intel==2.18.0->tensorflow) (3.12.1)\n",
      "Requirement already satisfied: ml-dtypes<0.5.0,>=0.4.0 in c:\\python310\\lib\\site-packages (from tensorflow-intel==2.18.0->tensorflow) (0.4.1)\n",
      "Requirement already satisfied: tensorflow-io-gcs-filesystem>=0.23.1 in c:\\python310\\lib\\site-packages (from tensorflow-intel==2.18.0->tensorflow) (0.31.0)\n",
      "Requirement already satisfied: wheel<1.0,>=0.23.0 in c:\\python310\\lib\\site-packages (from astunparse>=1.6.0->tensorflow-intel==2.18.0->tensorflow) (0.45.0)\n",
      "Requirement already satisfied: rich in c:\\python310\\lib\\site-packages (from keras>=3.5.0->tensorflow-intel==2.18.0->tensorflow) (13.9.4)\n",
      "Requirement already satisfied: namex in c:\\python310\\lib\\site-packages (from keras>=3.5.0->tensorflow-intel==2.18.0->tensorflow) (0.0.8)\n",
      "Requirement already satisfied: optree in c:\\python310\\lib\\site-packages (from keras>=3.5.0->tensorflow-intel==2.18.0->tensorflow) (0.13.0)\n",
      "Requirement already satisfied: charset-normalizer<4,>=2 in c:\\python310\\lib\\site-packages (from requests<3,>=2.21.0->tensorflow-intel==2.18.0->tensorflow) (3.4.0)\n",
      "Requirement already satisfied: idna<4,>=2.5 in c:\\python310\\lib\\site-packages (from requests<3,>=2.21.0->tensorflow-intel==2.18.0->tensorflow) (3.10)\n",
      "Requirement already satisfied: urllib3<3,>=1.21.1 in c:\\python310\\lib\\site-packages (from requests<3,>=2.21.0->tensorflow-intel==2.18.0->tensorflow) (2.2.3)\n",
      "Requirement already satisfied: certifi>=2017.4.17 in c:\\python310\\lib\\site-packages (from requests<3,>=2.21.0->tensorflow-intel==2.18.0->tensorflow) (2024.8.30)\n",
      "Requirement already satisfied: markdown>=2.6.8 in c:\\python310\\lib\\site-packages (from tensorboard<2.19,>=2.18->tensorflow-intel==2.18.0->tensorflow) (3.7)\n",
      "Requirement already satisfied: tensorboard-data-server<0.8.0,>=0.7.0 in c:\\python310\\lib\\site-packages (from tensorboard<2.19,>=2.18->tensorflow-intel==2.18.0->tensorflow) (0.7.2)\n",
      "Requirement already satisfied: werkzeug>=1.0.1 in c:\\python310\\lib\\site-packages (from tensorboard<2.19,>=2.18->tensorflow-intel==2.18.0->tensorflow) (3.1.3)\n",
      "Requirement already satisfied: MarkupSafe>=2.1.1 in c:\\python310\\lib\\site-packages (from werkzeug>=1.0.1->tensorboard<2.19,>=2.18->tensorflow-intel==2.18.0->tensorflow) (3.0.2)\n",
      "Requirement already satisfied: markdown-it-py>=2.2.0 in c:\\python310\\lib\\site-packages (from rich->keras>=3.5.0->tensorflow-intel==2.18.0->tensorflow) (3.0.0)\n",
      "Requirement already satisfied: pygments<3.0.0,>=2.13.0 in c:\\users\\std\\appdata\\roaming\\python\\python310\\site-packages (from rich->keras>=3.5.0->tensorflow-intel==2.18.0->tensorflow) (2.18.0)\n",
      "Requirement already satisfied: mdurl~=0.1 in c:\\python310\\lib\\site-packages (from markdown-it-py>=2.2.0->rich->keras>=3.5.0->tensorflow-intel==2.18.0->tensorflow) (0.1.2)\n",
      "Requirement already satisfied: pandas in c:\\python310\\lib\\site-packages (2.2.3)\n",
      "Requirement already satisfied: numpy>=1.22.4 in c:\\python310\\lib\\site-packages (from pandas) (2.0.2)\n",
      "Requirement already satisfied: python-dateutil>=2.8.2 in c:\\users\\std\\appdata\\roaming\\python\\python310\\site-packages (from pandas) (2.9.0.post0)\n",
      "Requirement already satisfied: pytz>=2020.1 in c:\\python310\\lib\\site-packages (from pandas) (2024.2)\n",
      "Requirement already satisfied: tzdata>=2022.7 in c:\\python310\\lib\\site-packages (from pandas) (2024.2)\n",
      "Requirement already satisfied: six>=1.5 in c:\\users\\std\\appdata\\roaming\\python\\python310\\site-packages (from python-dateutil>=2.8.2->pandas) (1.16.0)\n",
      "Requirement already satisfied: matplotlib in c:\\python310\\lib\\site-packages (3.9.2)\n",
      "Requirement already satisfied: contourpy>=1.0.1 in c:\\python310\\lib\\site-packages (from matplotlib) (1.3.0)\n",
      "Requirement already satisfied: cycler>=0.10 in c:\\python310\\lib\\site-packages (from matplotlib) (0.12.1)\n",
      "Requirement already satisfied: fonttools>=4.22.0 in c:\\python310\\lib\\site-packages (from matplotlib) (4.54.1)\n",
      "Requirement already satisfied: kiwisolver>=1.3.1 in c:\\python310\\lib\\site-packages (from matplotlib) (1.4.7)\n",
      "Requirement already satisfied: numpy>=1.23 in c:\\python310\\lib\\site-packages (from matplotlib) (2.0.2)\n",
      "Requirement already satisfied: packaging>=20.0 in c:\\users\\std\\appdata\\roaming\\python\\python310\\site-packages (from matplotlib) (24.2)\n",
      "Requirement already satisfied: pillow>=8 in c:\\python310\\lib\\site-packages (from matplotlib) (11.0.0)\n",
      "Requirement already satisfied: pyparsing>=2.3.1 in c:\\python310\\lib\\site-packages (from matplotlib) (3.2.0)\n",
      "Requirement already satisfied: python-dateutil>=2.7 in c:\\users\\std\\appdata\\roaming\\python\\python310\\site-packages (from matplotlib) (2.9.0.post0)\n",
      "Requirement already satisfied: six>=1.5 in c:\\users\\std\\appdata\\roaming\\python\\python310\\site-packages (from python-dateutil>=2.7->matplotlib) (1.16.0)\n"
     ]
    }
   ],
   "source": [
    "!pip install tensorflow\n",
    "!pip install pandas\n",
    "!pip install matplotlib"
   ]
  },
  {
   "cell_type": "markdown",
   "metadata": {},
   "source": [
    "## 텐서플로 특징\n",
    "1) 기본적으로 \"텐서\"를 활용한 \"그래프\" 수치연산도구\n",
    "2) \"그래프\" 란? : \"노드\"와 \"엣지\"로 구성된 기하적 (계산) 모형\n",
    "3) \"노드\" 란? : 연산 및 데이터 정의\n",
    "4) \"엣지\"란? : \"노드\"를 연결 (데이터의 흐름 (=플로)\n",
    "5) \"텐서\"란? : 다차원 데이터 (함수) 배열\n",
    "6) \"텐서플로\" - 텐서가 노드에서 연산되고 엣지를 통해 돌아다닌다. "
   ]
  },
  {
   "cell_type": "code",
   "execution_count": 3,
   "metadata": {},
   "outputs": [],
   "source": [
    "import tensorflow as tf\n",
    "import matplotlib.pyplot as plt\n",
    "import pandas as pd\n"
   ]
  },
  {
   "cell_type": "code",
   "execution_count": 13,
   "metadata": {},
   "outputs": [
    {
     "name": "stdout",
     "output_type": "stream",
     "text": [
      "1 AggregationMethod\n",
      "2 Assert\n",
      "3 CriticalSection\n",
      "4 DType\n",
      "5 DeviceSpec\n",
      "6 GradientTape\n",
      "7 Graph\n",
      "8 IndexedSlices\n",
      "9 IndexedSlicesSpec\n",
      "10 Module\n",
      "11 Operation\n",
      "12 OptionalSpec\n",
      "13 RaggedTensor\n",
      "14 RaggedTensorSpec\n",
      "15 RegisterGradient\n",
      "16 SparseTensor\n",
      "17 SparseTensorSpec\n",
      "18 Tensor\n",
      "19 TensorArray\n",
      "20 TensorArraySpec\n",
      "21 TensorShape\n",
      "22 TensorSpec\n",
      "23 TypeSpec\n",
      "24 UnconnectedGradients\n",
      "25 Variable\n",
      "26 VariableAggregation\n",
      "27 VariableSynchronization\n",
      "28 _API_MODULE\n",
      "29 _KerasLazyLoader\n",
      "30 __all__\n",
      "31 __builtins__\n",
      "32 __cached__\n",
      "33 __compiler_version__\n",
      "34 __cxx11_abi_flag__\n",
      "35 __cxx_version__\n",
      "36 __doc__\n",
      "37 __file__\n",
      "38 __git_version__\n",
      "39 __internal__\n",
      "40 __loader__\n",
      "41 __monolithic_build__\n",
      "42 __name__\n",
      "43 __operators__\n",
      "44 __package__\n",
      "45 __path__\n",
      "46 __spec__\n",
      "47 __version__\n",
      "48 _api\n",
      "49 _compat\n",
      "50 _current_file_location\n",
      "51 _current_module\n",
      "52 _distutils\n",
      "53 _fi\n",
      "54 _initializers\n",
      "55 _inspect\n",
      "56 _kernel_dir\n",
      "57 _ll\n",
      "58 _losses\n",
      "59 _major_api_version\n",
      "60 _metrics\n",
      "61 _module_dir\n",
      "62 _module_util\n",
      "63 _names_with_underscore\n",
      "64 _optimizers\n",
      "65 _os\n",
      "66 _plugin_dir\n",
      "67 _pywrap_tensorflow\n",
      "68 _running_from_pip_package\n",
      "69 _s\n",
      "70 _site\n",
      "71 _site_packages_dirs\n",
      "72 _sys\n",
      "73 _tf2\n",
      "74 _tf_api_dir\n",
      "75 _tf_dir\n",
      "76 _tf_uses_legacy_keras\n",
      "77 abs\n",
      "78 acos\n",
      "79 acosh\n",
      "80 add\n",
      "81 add_n\n",
      "82 approx_top_k\n",
      "83 argmax\n",
      "84 argmin\n",
      "85 argsort\n",
      "86 as_dtype\n",
      "87 as_string\n",
      "88 asin\n",
      "89 asinh\n",
      "90 assert_equal\n",
      "91 assert_greater\n",
      "92 assert_less\n",
      "93 assert_rank\n",
      "94 atan\n",
      "95 atan2\n",
      "96 atanh\n",
      "97 audio\n",
      "98 autodiff\n",
      "99 autograph\n",
      "100 batch_to_space\n",
      "101 bfloat16\n",
      "102 bitcast\n",
      "103 bitwise\n",
      "104 bool\n",
      "105 boolean_mask\n",
      "106 broadcast_dynamic_shape\n",
      "107 broadcast_static_shape\n",
      "108 broadcast_to\n",
      "109 case\n",
      "110 cast\n",
      "111 check_pinned\n",
      "112 clip_by_global_norm\n",
      "113 clip_by_norm\n",
      "114 clip_by_value\n",
      "115 compat\n",
      "116 complex\n",
      "117 complex128\n",
      "118 complex64\n",
      "119 concat\n",
      "120 cond\n",
      "121 config\n",
      "122 constant\n",
      "123 constant_initializer\n",
      "124 control_dependencies\n",
      "125 conv\n",
      "126 conv2d_backprop_filter_v2\n",
      "127 conv2d_backprop_input_v2\n",
      "128 convert_to_tensor\n",
      "129 cos\n",
      "130 cosh\n",
      "131 cumsum\n",
      "132 custom_gradient\n",
      "133 data\n",
      "134 debugging\n",
      "135 device\n",
      "136 distribute\n",
      "137 divide\n",
      "138 double\n",
      "139 dtensor\n",
      "140 dtypes\n",
      "141 dynamic_partition\n",
      "142 dynamic_stitch\n",
      "143 edit_distance\n",
      "144 eig\n",
      "145 eigvals\n",
      "146 einsum\n",
      "147 ensure_shape\n",
      "148 equal\n",
      "149 errors\n",
      "150 executing_eagerly\n",
      "151 exp\n",
      "152 expand_dims\n",
      "153 experimental\n",
      "154 extract_volume_patches\n",
      "155 eye\n",
      "156 feature_column\n",
      "157 fftnd\n",
      "158 fill\n",
      "159 fingerprint\n",
      "160 float16\n",
      "161 float32\n",
      "162 float64\n",
      "163 floor\n",
      "164 foldl\n",
      "165 foldr\n",
      "166 function\n",
      "167 gather\n",
      "168 gather_nd\n",
      "169 get_current_name_scope\n",
      "170 get_logger\n",
      "171 get_static_value\n",
      "172 grad_pass_through\n",
      "173 gradients\n",
      "174 graph_util\n",
      "175 greater\n",
      "176 greater_equal\n",
      "177 group\n",
      "178 guarantee_const\n",
      "179 half\n",
      "180 hessians\n",
      "181 histogram_fixed_width\n",
      "182 histogram_fixed_width_bins\n",
      "183 identity\n",
      "184 identity_n\n",
      "185 ifftnd\n",
      "186 image\n",
      "187 import_graph_def\n",
      "188 init_scope\n",
      "189 initializers\n",
      "190 inside_function\n",
      "191 int16\n",
      "192 int32\n",
      "193 int64\n",
      "194 int8\n",
      "195 io\n",
      "196 irfftnd\n",
      "197 is_symbolic_tensor\n",
      "198 is_tensor\n",
      "199 keras\n",
      "200 less\n",
      "201 less_equal\n",
      "202 linalg\n",
      "203 linspace\n",
      "204 lite\n",
      "205 load_library\n",
      "206 load_op_library\n",
      "207 logical_and\n",
      "208 logical_not\n",
      "209 logical_or\n",
      "210 lookup\n",
      "211 losses\n",
      "212 make_ndarray\n",
      "213 make_tensor_proto\n",
      "214 map_fn\n",
      "215 math\n",
      "216 matmul\n",
      "217 matrix_square_root\n",
      "218 maximum\n",
      "219 meshgrid\n",
      "220 metrics\n",
      "221 minimum\n",
      "222 mlir\n",
      "223 multiply\n",
      "224 name_scope\n",
      "225 negative\n",
      "226 nest\n",
      "227 newaxis\n",
      "228 nn\n",
      "229 no_gradient\n",
      "230 no_op\n",
      "231 nondifferentiable_batch_function\n",
      "232 norm\n",
      "233 not_equal\n",
      "234 numpy_function\n",
      "235 one_hot\n",
      "236 ones\n",
      "237 ones_initializer\n",
      "238 ones_like\n",
      "239 optimizers\n",
      "240 pad\n",
      "241 parallel_stack\n",
      "242 pow\n",
      "243 print\n",
      "244 profiler\n",
      "245 py_function\n",
      "246 qint16\n",
      "247 qint32\n",
      "248 qint8\n",
      "249 quantization\n",
      "250 queue\n",
      "251 quint16\n",
      "252 quint8\n",
      "253 ragged\n",
      "254 ragged_fill_empty_rows\n",
      "255 ragged_fill_empty_rows_grad\n",
      "256 random\n",
      "257 random_index_shuffle\n",
      "258 random_normal_initializer\n",
      "259 random_uniform_initializer\n",
      "260 range\n",
      "261 rank\n",
      "262 raw_ops\n",
      "263 realdiv\n",
      "264 recompute_grad\n",
      "265 reduce_all\n",
      "266 reduce_any\n",
      "267 reduce_logsumexp\n",
      "268 reduce_max\n",
      "269 reduce_mean\n",
      "270 reduce_min\n",
      "271 reduce_prod\n",
      "272 reduce_sum\n",
      "273 register_tensor_conversion_function\n",
      "274 repeat\n",
      "275 required_space_to_batch_paddings\n",
      "276 reshape\n",
      "277 resource\n",
      "278 reverse\n",
      "279 reverse_sequence\n",
      "280 rfftnd\n",
      "281 roll\n",
      "282 round\n",
      "283 saturate_cast\n",
      "284 saved_model\n",
      "285 scalar_mul\n",
      "286 scan\n",
      "287 scatter_nd\n",
      "288 searchsorted\n",
      "289 security\n",
      "290 sequence_mask\n",
      "291 sets\n",
      "292 shape\n",
      "293 shape_n\n",
      "294 sigmoid\n",
      "295 sign\n",
      "296 signal\n",
      "297 sin\n",
      "298 sinh\n",
      "299 size\n",
      "300 slice\n",
      "301 sort\n",
      "302 space_to_batch\n",
      "303 space_to_batch_nd\n",
      "304 sparse\n",
      "305 split\n",
      "306 sqrt\n",
      "307 square\n",
      "308 squeeze\n",
      "309 stack\n",
      "310 stop_gradient\n",
      "311 strided_slice\n",
      "312 string\n",
      "313 strings\n",
      "314 subtract\n",
      "315 summary\n",
      "316 switch_case\n",
      "317 sysconfig\n",
      "318 tan\n",
      "319 tanh\n",
      "320 tensor_scatter_nd_add\n",
      "321 tensor_scatter_nd_max\n",
      "322 tensor_scatter_nd_min\n",
      "323 tensor_scatter_nd_sub\n",
      "324 tensor_scatter_nd_update\n",
      "325 tensordot\n",
      "326 test\n",
      "327 tile\n",
      "328 timestamp\n",
      "329 tools\n",
      "330 tpu\n",
      "331 train\n",
      "332 transpose\n",
      "333 truediv\n",
      "334 truncatediv\n",
      "335 truncatemod\n",
      "336 tsl\n",
      "337 tuple\n",
      "338 type_spec_from_value\n",
      "339 types\n",
      "340 uint16\n",
      "341 uint32\n",
      "342 uint64\n",
      "343 uint8\n",
      "344 unique\n",
      "345 unique_with_counts\n",
      "346 unravel_index\n",
      "347 unstack\n",
      "348 variable_creator_scope\n",
      "349 variant\n",
      "350 vectorized_map\n",
      "351 version\n",
      "352 where\n",
      "353 while_loop\n",
      "354 xla\n",
      "355 zeros\n",
      "356 zeros_initializer\n",
      "357 zeros_like\n"
     ]
    }
   ],
   "source": [
    "for (i,a) in enumerate(dir(tf),1):\n",
    "    print(i,a)"
   ]
  },
  {
   "cell_type": "markdown",
   "metadata": {},
   "source": [
    "## scalar data"
   ]
  },
  {
   "cell_type": "code",
   "execution_count": 5,
   "metadata": {},
   "outputs": [],
   "source": [
    "s1 = 10\n",
    "s2 = 'abc'\n",
    "s3 = 3.14"
   ]
  },
  {
   "cell_type": "markdown",
   "metadata": {},
   "source": [
    "## Vector Data"
   ]
  },
  {
   "cell_type": "markdown",
   "metadata": {},
   "source": []
  },
  {
   "cell_type": "code",
   "execution_count": 6,
   "metadata": {},
   "outputs": [
    {
     "ename": "SyntaxError",
     "evalue": "invalid syntax (2507155528.py, line 1)",
     "output_type": "error",
     "traceback": [
      "\u001b[1;36m  Cell \u001b[1;32mIn[6], line 1\u001b[1;36m\u001b[0m\n\u001b[1;33m    = [[1,2,3,], [4,5]]\u001b[0m\n\u001b[1;37m    ^\u001b[0m\n\u001b[1;31mSyntaxError\u001b[0m\u001b[1;31m:\u001b[0m invalid syntax\n"
     ]
    }
   ],
   "source": [
    "= [[1,2,3,], [4,5]]"
   ]
  },
  {
   "cell_type": "code",
   "execution_count": null,
   "metadata": {},
   "outputs": [
    {
     "data": {
      "text/plain": [
       "[[1, 2, 3], [4, 5]]"
      ]
     },
     "execution_count": 8,
     "metadata": {},
     "output_type": "execute_result"
    }
   ],
   "source": [
    "V"
   ]
  },
  {
   "cell_type": "code",
   "execution_count": null,
   "metadata": {},
   "outputs": [],
   "source": [
    "T = [[[1,2,3],[4,5,6]],2*[[1,2,3],[4,5,6]]]"
   ]
  },
  {
   "cell_type": "code",
   "execution_count": null,
   "metadata": {},
   "outputs": [
    {
     "data": {
      "text/plain": [
       "[[[1, 2, 3], [4, 5, 6]], [[1, 2, 3], [4, 5, 6], [1, 2, 3], [4, 5, 6]]]"
      ]
     },
     "execution_count": 10,
     "metadata": {},
     "output_type": "execute_result"
    }
   ],
   "source": [
    "T\n"
   ]
  },
  {
   "cell_type": "code",
   "execution_count": null,
   "metadata": {},
   "outputs": [
    {
     "name": "stdout",
     "output_type": "stream",
     "text": [
      "[[[1, 2, 3], [4, 5, 6]], [[1, 2, 3], [4, 5, 6], [1, 2, 3], [4, 5, 6]]]\n"
     ]
    }
   ],
   "source": [
    "print(T)"
   ]
  },
  {
   "cell_type": "code",
   "execution_count": null,
   "metadata": {},
   "outputs": [
    {
     "ename": "ValueError",
     "evalue": "Can't convert non-rectangular Python sequence to Tensor.",
     "output_type": "error",
     "traceback": [
      "\u001b[1;31m---------------------------------------------------------------------------\u001b[0m",
      "\u001b[1;31mValueError\u001b[0m                                Traceback (most recent call last)",
      "Cell \u001b[1;32mIn[12], line 1\u001b[0m\n\u001b[1;32m----> 1\u001b[0m \u001b[43mtf\u001b[49m\u001b[38;5;241;43m.\u001b[39;49m\u001b[43mVariable\u001b[49m\u001b[43m(\u001b[49m\u001b[43mT\u001b[49m\u001b[43m)\u001b[49m\n",
      "File \u001b[1;32mc:\\Python310\\lib\\site-packages\\tensorflow\\python\\util\\traceback_utils.py:153\u001b[0m, in \u001b[0;36mfilter_traceback.<locals>.error_handler\u001b[1;34m(*args, **kwargs)\u001b[0m\n\u001b[0;32m    151\u001b[0m \u001b[38;5;28;01mexcept\u001b[39;00m \u001b[38;5;167;01mException\u001b[39;00m \u001b[38;5;28;01mas\u001b[39;00m e:\n\u001b[0;32m    152\u001b[0m   filtered_tb \u001b[38;5;241m=\u001b[39m _process_traceback_frames(e\u001b[38;5;241m.\u001b[39m__traceback__)\n\u001b[1;32m--> 153\u001b[0m   \u001b[38;5;28;01mraise\u001b[39;00m e\u001b[38;5;241m.\u001b[39mwith_traceback(filtered_tb) \u001b[38;5;28;01mfrom\u001b[39;00m \u001b[38;5;28;01mNone\u001b[39;00m\n\u001b[0;32m    154\u001b[0m \u001b[38;5;28;01mfinally\u001b[39;00m:\n\u001b[0;32m    155\u001b[0m   \u001b[38;5;28;01mdel\u001b[39;00m filtered_tb\n",
      "File \u001b[1;32mc:\\Python310\\lib\\site-packages\\tensorflow\\python\\framework\\constant_op.py:108\u001b[0m, in \u001b[0;36mconvert_to_eager_tensor\u001b[1;34m(value, ctx, dtype)\u001b[0m\n\u001b[0;32m    106\u001b[0m     dtype \u001b[38;5;241m=\u001b[39m dtypes\u001b[38;5;241m.\u001b[39mas_dtype(dtype)\u001b[38;5;241m.\u001b[39mas_datatype_enum\n\u001b[0;32m    107\u001b[0m ctx\u001b[38;5;241m.\u001b[39mensure_initialized()\n\u001b[1;32m--> 108\u001b[0m \u001b[38;5;28;01mreturn\u001b[39;00m \u001b[43mops\u001b[49m\u001b[38;5;241;43m.\u001b[39;49m\u001b[43mEagerTensor\u001b[49m\u001b[43m(\u001b[49m\u001b[43mvalue\u001b[49m\u001b[43m,\u001b[49m\u001b[43m \u001b[49m\u001b[43mctx\u001b[49m\u001b[38;5;241;43m.\u001b[39;49m\u001b[43mdevice_name\u001b[49m\u001b[43m,\u001b[49m\u001b[43m \u001b[49m\u001b[43mdtype\u001b[49m\u001b[43m)\u001b[49m\n",
      "\u001b[1;31mValueError\u001b[0m: Can't convert non-rectangular Python sequence to Tensor."
     ]
    }
   ],
   "source": [
    "tf.Variable(T)"
   ]
  },
  {
   "cell_type": "code",
   "execution_count": null,
   "metadata": {},
   "outputs": [],
   "source": [
    "t1=tf.constant(s1)"
   ]
  },
  {
   "cell_type": "code",
   "execution_count": null,
   "metadata": {},
   "outputs": [
    {
     "data": {
      "text/plain": [
       "<tf.Tensor: shape=(), dtype=int32, numpy=10>"
      ]
     },
     "execution_count": 15,
     "metadata": {},
     "output_type": "execute_result"
    }
   ],
   "source": [
    "t1"
   ]
  },
  {
   "cell_type": "code",
   "execution_count": null,
   "metadata": {},
   "outputs": [
    {
     "data": {
      "text/plain": [
       "<module 'tensorflow' from 'c:\\\\Python310\\\\lib\\\\site-packages\\\\tensorflow\\\\__init__.py'>"
      ]
     },
     "execution_count": 22,
     "metadata": {},
     "output_type": "execute_result"
    }
   ],
   "source": [
    "tf"
   ]
  },
  {
   "cell_type": "code",
   "execution_count": null,
   "metadata": {},
   "outputs": [],
   "source": [
    "v3=tf.Variable(s3)"
   ]
  },
  {
   "cell_type": "code",
   "execution_count": null,
   "metadata": {},
   "outputs": [
    {
     "data": {
      "text/plain": [
       "<tf.Tensor: shape=(3,), dtype=int32, numpy=array([ -4, -10, -18], dtype=int32)>"
      ]
     },
     "execution_count": 25,
     "metadata": {},
     "output_type": "execute_result"
    }
   ],
   "source": [
    "tf.Variable([1,2,3])*tf.Variable([4,5,6])*tf.constant(-1)"
   ]
  },
  {
   "cell_type": "code",
   "execution_count": null,
   "metadata": {},
   "outputs": [],
   "source": [
    "f = tf.constant([[1],[2],[3]])\n",
    "g = tf.constant([[1,2,3],[4,5,6],[7,8,9]])"
   ]
  },
  {
   "cell_type": "code",
   "execution_count": null,
   "metadata": {},
   "outputs": [
    {
     "data": {
      "text/plain": [
       "<tf.Tensor: shape=(3, 1), dtype=int32, numpy=\n",
       "array([[1],\n",
       "       [2],\n",
       "       [3]], dtype=int32)>"
      ]
     },
     "execution_count": 36,
     "metadata": {},
     "output_type": "execute_result"
    }
   ],
   "source": [
    "f"
   ]
  },
  {
   "cell_type": "code",
   "execution_count": null,
   "metadata": {},
   "outputs": [
    {
     "data": {
      "text/plain": [
       "<tf.Tensor: shape=(3, 3), dtype=int32, numpy=\n",
       "array([[1, 2, 3],\n",
       "       [4, 5, 6],\n",
       "       [7, 8, 9]], dtype=int32)>"
      ]
     },
     "execution_count": 29,
     "metadata": {},
     "output_type": "execute_result"
    }
   ],
   "source": [
    "g"
   ]
  },
  {
   "cell_type": "code",
   "execution_count": null,
   "metadata": {},
   "outputs": [
    {
     "data": {
      "text/plain": [
       "<tf.Tensor: shape=(3, 3), dtype=int32, numpy=\n",
       "array([[ 1,  2,  3],\n",
       "       [ 8, 10, 12],\n",
       "       [21, 24, 27]], dtype=int32)>"
      ]
     },
     "execution_count": 37,
     "metadata": {},
     "output_type": "execute_result"
    }
   ],
   "source": [
    "f*g"
   ]
  },
  {
   "cell_type": "code",
   "execution_count": null,
   "metadata": {},
   "outputs": [
    {
     "data": {
      "text/plain": [
       "<tf.Tensor: shape=(3, 3), dtype=int32, numpy=\n",
       "array([[ 2,  3,  4],\n",
       "       [ 6,  7,  8],\n",
       "       [10, 11, 12]], dtype=int32)>"
      ]
     },
     "execution_count": 38,
     "metadata": {},
     "output_type": "execute_result"
    }
   ],
   "source": [
    "f+g"
   ]
  },
  {
   "cell_type": "code",
   "execution_count": null,
   "metadata": {},
   "outputs": [],
   "source": [
    "## 행렬곱\n",
    "A = [[1,3],[5,7]]\n",
    "B = [[1,2],[2,5]]"
   ]
  },
  {
   "cell_type": "code",
   "execution_count": null,
   "metadata": {},
   "outputs": [
    {
     "data": {
      "text/plain": [
       "<tf.Tensor: shape=(2, 2), dtype=int32, numpy=\n",
       "array([[ 1,  6],\n",
       "       [10, 35]], dtype=int32)>"
      ]
     },
     "execution_count": 42,
     "metadata": {},
     "output_type": "execute_result"
    }
   ],
   "source": [
    "tf.Variable(A)*tf.Variable(B)"
   ]
  },
  {
   "cell_type": "code",
   "execution_count": null,
   "metadata": {},
   "outputs": [
    {
     "data": {
      "text/plain": [
       "<tf.Variable 'Variable:0' shape=(2, 2) dtype=int32, numpy=\n",
       "array([[1, 3],\n",
       "       [5, 7]], dtype=int32)>"
      ]
     },
     "execution_count": 43,
     "metadata": {},
     "output_type": "execute_result"
    }
   ],
   "source": [
    "tf.Variable(A)"
   ]
  },
  {
   "cell_type": "code",
   "execution_count": null,
   "metadata": {},
   "outputs": [
    {
     "data": {
      "text/plain": [
       "<tf.Variable 'Variable:0' shape=(2, 2) dtype=int32, numpy=\n",
       "array([[1, 2],\n",
       "       [2, 5]], dtype=int32)>"
      ]
     },
     "execution_count": 45,
     "metadata": {},
     "output_type": "execute_result"
    }
   ],
   "source": [
    "tf.Variable(B)"
   ]
  },
  {
   "cell_type": "code",
   "execution_count": null,
   "metadata": {},
   "outputs": [
    {
     "data": {
      "text/plain": [
       "<tf.Tensor: shape=(2, 2), dtype=int32, numpy=\n",
       "array([[ 1,  6],\n",
       "       [10, 35]], dtype=int32)>"
      ]
     },
     "execution_count": 48,
     "metadata": {},
     "output_type": "execute_result"
    }
   ],
   "source": [
    "tf.Variable(A)*tf.Variable(B)"
   ]
  },
  {
   "cell_type": "code",
   "execution_count": null,
   "metadata": {},
   "outputs": [
    {
     "data": {
      "text/plain": [
       "<tf.Tensor: shape=(2, 2), dtype=bool, numpy=\n",
       "array([[ True,  True],\n",
       "       [ True,  True]])>"
      ]
     },
     "execution_count": 51,
     "metadata": {},
     "output_type": "execute_result"
    }
   ],
   "source": [
    "tf.matmul(tf.Variable(A),tf.Variable(B)) == tf.matmul(A,B)"
   ]
  },
  {
   "cell_type": "code",
   "execution_count": null,
   "metadata": {},
   "outputs": [
    {
     "data": {
      "text/plain": [
       "<tf.Tensor: shape=(2, 2), dtype=bool, numpy=\n",
       "array([[ True,  True],\n",
       "       [ True,  True]])>"
      ]
     },
     "execution_count": 52,
     "metadata": {},
     "output_type": "execute_result"
    }
   ],
   "source": [
    "tf.Variable(A)*tf.Variable(B) == tf.multiply(A,B)"
   ]
  },
  {
   "cell_type": "code",
   "execution_count": null,
   "metadata": {},
   "outputs": [
    {
     "data": {
      "text/plain": [
       "<tf.Tensor: shape=(3,), dtype=int32, numpy=array([1, 4, 9], dtype=int32)>"
      ]
     },
     "execution_count": 53,
     "metadata": {},
     "output_type": "execute_result"
    }
   ],
   "source": [
    "tf.square([1,2,3])"
   ]
  },
  {
   "cell_type": "code",
   "execution_count": null,
   "metadata": {},
   "outputs": [
    {
     "data": {
      "text/plain": [
       "<tf.Tensor: shape=(3,), dtype=int32, numpy=array([1, 4, 9], dtype=int32)>"
      ]
     },
     "execution_count": 55,
     "metadata": {},
     "output_type": "execute_result"
    }
   ],
   "source": [
    "tf.Variable([1,2,3])**2"
   ]
  },
  {
   "cell_type": "code",
   "execution_count": null,
   "metadata": {},
   "outputs": [
    {
     "data": {
      "text/plain": [
       "<tf.Tensor: shape=(), dtype=float32, numpy=2.0>"
      ]
     },
     "execution_count": 57,
     "metadata": {},
     "output_type": "execute_result"
    }
   ],
   "source": [
    "tf.reduce_mean(tf.Variable([1.0,2,3]))"
   ]
  },
  {
   "cell_type": "code",
   "execution_count": null,
   "metadata": {},
   "outputs": [
    {
     "data": {
      "text/plain": [
       "<tf.Tensor: shape=(), dtype=float32, numpy=6.0>"
      ]
     },
     "execution_count": 58,
     "metadata": {},
     "output_type": "execute_result"
    }
   ],
   "source": [
    "tf.reduce_sum(tf.Variable([1.0,2,3]))"
   ]
  },
  {
   "cell_type": "code",
   "execution_count": null,
   "metadata": {},
   "outputs": [],
   "source": []
  }
 ],
 "metadata": {
  "kernelspec": {
   "display_name": "Python 3",
   "language": "python",
   "name": "python3"
  },
  "language_info": {
   "codemirror_mode": {
    "name": "ipython",
    "version": 3
   },
   "file_extension": ".py",
   "mimetype": "text/x-python",
   "name": "python",
   "nbconvert_exporter": "python",
   "pygments_lexer": "ipython3",
   "version": "3.10.9"
  }
 },
 "nbformat": 4,
 "nbformat_minor": 2
}
