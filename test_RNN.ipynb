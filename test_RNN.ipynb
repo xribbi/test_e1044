{
 "cells": [
  {
   "cell_type": "code",
   "execution_count": 1,
   "metadata": {},
   "outputs": [],
   "source": [
    "import numpy as np\n",
    "from tensorflow.keras.models import Sequential\n",
    "from tensorflow.keras.layers import Dense, SimpleRNN"
   ]
  },
  {
   "cell_type": "code",
   "execution_count": 2,
   "metadata": {},
   "outputs": [
    {
     "data": {
      "text/plain": [
       "array([[[1., 2.],\n",
       "        [3., 4.],\n",
       "        [5., 6.],\n",
       "        [7., 8.]]], dtype=float32)"
      ]
     },
     "execution_count": 2,
     "metadata": {},
     "output_type": "execute_result"
    }
   ],
   "source": [
    "x = np.array( [[[1,2],[3,4],[5,6],[7,8]]], dtype=np.float32)\n",
    "x"
   ]
  },
  {
   "cell_type": "code",
   "execution_count": 3,
   "metadata": {},
   "outputs": [
    {
     "data": {
      "text/plain": [
       "(1, 4, 2)"
      ]
     },
     "execution_count": 3,
     "metadata": {},
     "output_type": "execute_result"
    }
   ],
   "source": [
    "x.shape"
   ]
  },
  {
   "cell_type": "code",
   "execution_count": 4,
   "metadata": {},
   "outputs": [
    {
     "data": {
      "text/plain": [
       "<tf.Tensor: shape=(1, 4, 3), dtype=float32, numpy=\n",
       "array([[[-0.18991694,  0.04271767, -0.9889424 ],\n",
       "        [-0.7577331 ,  0.6399288 , -0.999958  ],\n",
       "        [-0.9858515 ,  0.46916384, -1.        ],\n",
       "        [-0.9968794 ,  0.2600664 , -1.        ]]], dtype=float32)>"
      ]
     },
     "execution_count": 4,
     "metadata": {},
     "output_type": "execute_result"
    }
   ],
   "source": [
    "rnn = SimpleRNN( 3, return_sequences= True)\n",
    "rnn( x )"
   ]
  },
  {
   "cell_type": "code",
   "execution_count": 5,
   "metadata": {},
   "outputs": [],
   "source": [
    "w = rnn.get_weights()"
   ]
  },
  {
   "cell_type": "code",
   "execution_count": 6,
   "metadata": {},
   "outputs": [
    {
     "name": "stdout",
     "output_type": "stream",
     "text": [
      "(2, 3)\n",
      "(3, 3)\n",
      "(3,)\n"
     ]
    }
   ],
   "source": [
    "print( w[0].shape)\n",
    "print( w[1].shape)\n",
    "print( w[2].shape) # bias"
   ]
  },
  {
   "cell_type": "code",
   "execution_count": 14,
   "metadata": {},
   "outputs": [],
   "source": [
    "from __ import *"
   ]
  },
  {
   "cell_type": "code",
   "execution_count": 13,
   "metadata": {},
   "outputs": [
    {
     "name": "stdout",
     "output_type": "stream",
     "text": [
      "c:\\X\\test\n"
     ]
    }
   ],
   "source": [
    "import os\n",
    "print(os.getcwd())"
   ]
  },
  {
   "cell_type": "code",
   "execution_count": 12,
   "metadata": {},
   "outputs": [
    {
     "name": "stdout",
     "output_type": "stream",
     "text": [
      "c:\\X\\test\n"
     ]
    },
    {
     "name": "stderr",
     "output_type": "stream",
     "text": [
      "C:\\Users\\std\\AppData\\Roaming\\Python\\Python310\\site-packages\\IPython\\core\\magics\\osm.py:417: UserWarning: This is now an optional IPython functionality, setting dhist requires you to install the `pickleshare` library.\n",
      "  self.shell.db['dhist'] = compress_dhist(dhist)[-100:]\n"
     ]
    }
   ],
   "source": [
    "cd ..\\"
   ]
  },
  {
   "cell_type": "code",
   "execution_count": 15,
   "metadata": {},
   "outputs": [
    {
     "data": {
      "text/plain": [
       "<function __.QQ(o)>"
      ]
     },
     "execution_count": 15,
     "metadata": {},
     "output_type": "execute_result"
    }
   ],
   "source": [
    "QQ"
   ]
  },
  {
   "cell_type": "code",
   "execution_count": 16,
   "metadata": {},
   "outputs": [
    {
     "data": {
      "text/plain": [
       "<function __.AA(e)>"
      ]
     },
     "execution_count": 16,
     "metadata": {},
     "output_type": "execute_result"
    }
   ],
   "source": [
    "AA"
   ]
  },
  {
   "cell_type": "code",
   "execution_count": 17,
   "metadata": {},
   "outputs": [
    {
     "data": {
      "text/plain": [
       "<function __.ZZ()>"
      ]
     },
     "execution_count": 17,
     "metadata": {},
     "output_type": "execute_result"
    }
   ],
   "source": [
    "ZZ"
   ]
  },
  {
   "cell_type": "code",
   "execution_count": 18,
   "metadata": {},
   "outputs": [
    {
     "name": "stdout",
     "output_type": "stream",
     "text": [
      "0001:     __annotations__:                                                                                                  {}\n",
      "0002:        __builtins__:{'__name__': 'builtins', '__doc__': \"Built-in functions, exceptions, and other objects.\\n\\nNoteworth >>>>> excess <<<<<\n",
      "0003:            __call__:                                <method-wrapper '__call__' of function object at 0x000002E540A5F250>\n",
      "0004:           __class__:                                                                                  <class 'function'>\n",
      "0005:         __closure__:                                                                                                None\n",
      "0006:            __code__:                              <code object QQ at 0x000002E540673940, file \"c:\\X\\test\\__.py\", line 6>\n",
      "0007:        __defaults__:                                                                                                None\n",
      "0008:         __delattr__:                             <method-wrapper '__delattr__' of function object at 0x000002E540A5F250>\n",
      "0009:            __dict__:                                                                                                  {}\n",
      "0010:             __dir__:                                  <built-in method __dir__ of function object at 0x000002E540A5F250>\n",
      "0011:             __doc__:                                                                                                None\n",
      "0012:              __eq__:                                  <method-wrapper '__eq__' of function object at 0x000002E540A5F250>\n",
      "0013:          __format__:                               <built-in method __format__ of function object at 0x000002E540A5F250>\n",
      "0014:              __ge__:                                  <method-wrapper '__ge__' of function object at 0x000002E540A5F250>\n",
      "0015:             __get__:                                 <method-wrapper '__get__' of function object at 0x000002E540A5F250>\n",
      "0016:    __getattribute__:                        <method-wrapper '__getattribute__' of function object at 0x000002E540A5F250>\n",
      "0017:         __globals__:{'__name__': '__', '__doc__': None, '__package__': '', '__loader__': <_frozen_importlib_external.Sou >>>>> excess <<<<<\n",
      "0018:              __gt__:                                  <method-wrapper '__gt__' of function object at 0x000002E540A5F250>\n",
      "0019:            __hash__:                                <method-wrapper '__hash__' of function object at 0x000002E540A5F250>\n",
      "0020:            __init__:                                <method-wrapper '__init__' of function object at 0x000002E540A5F250>\n",
      "0021:   __init_subclass__:                            <built-in method __init_subclass__ of type object at 0x00007FFA1016F0F0>\n",
      "0022:      __kwdefaults__:                                                                                                None\n",
      "0023:              __le__:                                  <method-wrapper '__le__' of function object at 0x000002E540A5F250>\n",
      "0024:              __lt__:                                  <method-wrapper '__lt__' of function object at 0x000002E540A5F250>\n",
      "0025:          __module__:                                                                                                  __\n",
      "0026:            __name__:                                                                                                  QQ\n",
      "0027:              __ne__:                                  <method-wrapper '__ne__' of function object at 0x000002E540A5F250>\n",
      "0028:             __new__:                                      <built-in method __new__ of type object at 0x00007FFA1016F0F0>\n",
      "0029:        __qualname__:                                                                                                  QQ\n",
      "0030:          __reduce__:                               <built-in method __reduce__ of function object at 0x000002E540A5F250>\n",
      "0031:       __reduce_ex__:                            <built-in method __reduce_ex__ of function object at 0x000002E540A5F250>\n",
      "0032:            __repr__:                                <method-wrapper '__repr__' of function object at 0x000002E540A5F250>\n",
      "0033:         __setattr__:                             <method-wrapper '__setattr__' of function object at 0x000002E540A5F250>\n",
      "0034:          __sizeof__:                               <built-in method __sizeof__ of function object at 0x000002E540A5F250>\n",
      "0035:             __str__:                                 <method-wrapper '__str__' of function object at 0x000002E540A5F250>\n",
      "0036:    __subclasshook__:                             <built-in method __subclasshook__ of type object at 0x00007FFA1016F0F0>\n"
     ]
    }
   ],
   "source": [
    "QQ(QQ)"
   ]
  },
  {
   "cell_type": "code",
   "execution_count": 19,
   "metadata": {},
   "outputs": [
    {
     "name": "stdout",
     "output_type": "stream",
     "text": [
      "0001:     __annotations__:                                                                                                  {}\n",
      "0002:        __builtins__:{'__name__': 'builtins', '__doc__': \"Built-in functions, exceptions, and other objects.\\n\\nNoteworth >>>>> excess <<<<<\n",
      "0003:            __call__:                                <method-wrapper '__call__' of function object at 0x000002E540A5F2E0>\n",
      "0004:           __class__:                                                                                  <class 'function'>\n",
      "0005:         __closure__:                                                                                                None\n",
      "0006:            __code__:                              <code object AA at 0x000002E5406728C0, file \"c:\\X\\test\\__.py\", line 7>\n",
      "0007:        __defaults__:                                                                                                None\n",
      "0008:         __delattr__:                             <method-wrapper '__delattr__' of function object at 0x000002E540A5F2E0>\n",
      "0009:            __dict__:                                                                                                  {}\n",
      "0010:             __dir__:                                  <built-in method __dir__ of function object at 0x000002E540A5F2E0>\n",
      "0011:             __doc__:                                                                                                None\n",
      "0012:              __eq__:                                  <method-wrapper '__eq__' of function object at 0x000002E540A5F2E0>\n",
      "0013:          __format__:                               <built-in method __format__ of function object at 0x000002E540A5F2E0>\n",
      "0014:              __ge__:                                  <method-wrapper '__ge__' of function object at 0x000002E540A5F2E0>\n",
      "0015:             __get__:                                 <method-wrapper '__get__' of function object at 0x000002E540A5F2E0>\n",
      "0016:    __getattribute__:                        <method-wrapper '__getattribute__' of function object at 0x000002E540A5F2E0>\n",
      "0017:         __globals__:{'__name__': '__', '__doc__': None, '__package__': '', '__loader__': <_frozen_importlib_external.Sou >>>>> excess <<<<<\n",
      "0018:              __gt__:                                  <method-wrapper '__gt__' of function object at 0x000002E540A5F2E0>\n",
      "0019:            __hash__:                                <method-wrapper '__hash__' of function object at 0x000002E540A5F2E0>\n",
      "0020:            __init__:                                <method-wrapper '__init__' of function object at 0x000002E540A5F2E0>\n",
      "0021:   __init_subclass__:                            <built-in method __init_subclass__ of type object at 0x00007FFA1016F0F0>\n",
      "0022:      __kwdefaults__:                                                                                                None\n",
      "0023:              __le__:                                  <method-wrapper '__le__' of function object at 0x000002E540A5F2E0>\n",
      "0024:              __lt__:                                  <method-wrapper '__lt__' of function object at 0x000002E540A5F2E0>\n",
      "0025:          __module__:                                                                                                  __\n",
      "0026:            __name__:                                                                                                  AA\n",
      "0027:              __ne__:                                  <method-wrapper '__ne__' of function object at 0x000002E540A5F2E0>\n",
      "0028:             __new__:                                      <built-in method __new__ of type object at 0x00007FFA1016F0F0>\n",
      "0029:        __qualname__:                                                                                                  AA\n",
      "0030:          __reduce__:                               <built-in method __reduce__ of function object at 0x000002E540A5F2E0>\n",
      "0031:       __reduce_ex__:                            <built-in method __reduce_ex__ of function object at 0x000002E540A5F2E0>\n",
      "0032:            __repr__:                                <method-wrapper '__repr__' of function object at 0x000002E540A5F2E0>\n",
      "0033:         __setattr__:                             <method-wrapper '__setattr__' of function object at 0x000002E540A5F2E0>\n",
      "0034:          __sizeof__:                               <built-in method __sizeof__ of function object at 0x000002E540A5F2E0>\n",
      "0035:             __str__:                                 <method-wrapper '__str__' of function object at 0x000002E540A5F2E0>\n",
      "0036:    __subclasshook__:                             <built-in method __subclasshook__ of type object at 0x00007FFA1016F0F0>\n"
     ]
    }
   ],
   "source": [
    "QQ(AA)"
   ]
  },
  {
   "cell_type": "code",
   "execution_count": null,
   "metadata": {},
   "outputs": [],
   "source": []
  }
 ],
 "metadata": {
  "kernelspec": {
   "display_name": "Python 3",
   "language": "python",
   "name": "python3"
  },
  "language_info": {
   "codemirror_mode": {
    "name": "ipython",
    "version": 3
   },
   "file_extension": ".py",
   "mimetype": "text/x-python",
   "name": "python",
   "nbconvert_exporter": "python",
   "pygments_lexer": "ipython3",
   "version": "3.10.9"
  }
 },
 "nbformat": 4,
 "nbformat_minor": 2
}
