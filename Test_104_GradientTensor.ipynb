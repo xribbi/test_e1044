{
 "cells": [
  {
   "cell_type": "code",
   "execution_count": 1,
   "metadata": {},
   "outputs": [],
   "source": [
    "import matplotlib.pyplot as plt\n",
    "import numpy as np\n",
    "import tensorflow as tf"
   ]
  },
  {
   "cell_type": "code",
   "execution_count": 2,
   "metadata": {},
   "outputs": [],
   "source": [
    "## 일반적으로 Mean Square Error \n",
    "## 특별하게는 Mean Absolute Error\n",
    "## MSE, MAE 모두 Cost 로 정의 가능\n",
    "\n",
    "x_data = [1.0,2,3]\n",
    "y_data = [1.0,2,3]\n",
    "x = tf.constant( x_data, tf.float32)\n",
    "y = tf.constant( y_data, tf.float32)\n"
   ]
  },
  {
   "cell_type": "code",
   "execution_count": 4,
   "metadata": {},
   "outputs": [],
   "source": [
    "# tensorflow 함수를 그래프모드로 변환하기위한 decorator 함수 (@tf.function)를 사용하면 계산그래프 속도향상 가능 \n",
    "@tf.function \n",
    "def tf_mse(w, b=0.0, x=x, y=y):\n",
    "    hx = w*x \n",
    "    return tf.reduce_mean( (hx-y)**2 + b)\n",
    "    \n",
    "@tf.function \n",
    "def tf_mse_grad(w, b=0.0, x=x, y=y):        \n",
    "    hx = w*x + b\n",
    "    return tf.reduce_mean((hx-y)*2*x)\n",
    " "
   ]
  },
  {
   "cell_type": "code",
   "execution_count": 21,
   "metadata": {},
   "outputs": [
    {
     "name": "stdout",
     "output_type": "stream",
     "text": [
      "w =  5.0000, mse =  74.6667, mse_grad=  37.3333\n",
      "w =  1.2667, mse =   0.3319, mse_grad=   2.4889\n",
      "w =  1.0178, mse =   0.0015, mse_grad=   0.1659\n",
      "w =  1.0012, mse =   0.0000, mse_grad=   0.0111\n",
      "w =  1.0001, mse =   0.0000, mse_grad=   0.0007\n",
      "w =  1.0000, mse =   0.0000, mse_grad=   0.0000\n",
      "w =  1.0000, mse =   0.0000, mse_grad=   0.0000\n",
      "w =  1.0000, mse =   0.0000, mse_grad=   0.0000\n",
      "w =  1.0000, mse =   0.0000, mse_grad=   0.0000\n",
      "w =  1.0000, mse =   0.0000, mse_grad=   0.0000\n",
      "w (final) = <tf.Variable 'Variable:0' shape=() dtype=float32, numpy=1.0>\n"
     ]
    }
   ],
   "source": [
    "w  = tf.Variable(5.0) ; # 임의로 initial w\n",
    "lr = tf.constant(0.1)  ; # learning rate\n",
    "\n",
    "for epoch in range(10):\n",
    "    c = tf_mse(w)\n",
    "    g = tf_mse_grad(w)\n",
    "    print(\"w =%8.4f, mse = %8.4f, mse_grad= %8.4f\"% (w,c,g))\n",
    "    # w = w - lr * g\n",
    "    w.assign_sub(lr*g)\n",
    "\n",
    "print(\"w (final) =\",w)\n"
   ]
  },
  {
   "cell_type": "code",
   "execution_count": 22,
   "metadata": {},
   "outputs": [
    {
     "name": "stdout",
     "output_type": "stream",
     "text": [
      "168.0\n",
      "4.6666665\n",
      "0.0\n",
      "74.666664\n",
      "378.0\n"
     ]
    }
   ],
   "source": [
    "print(tf_mse(-5,0,x,y).numpy())\n",
    "print(tf_mse( 0,0,x,y).numpy())\n",
    "print(tf_mse( 1,0,x,y).numpy())\n",
    "print(tf_mse( 5,0,x,y).numpy())\n",
    "print(tf_mse(10,0,x,y).numpy())\n"
   ]
  },
  {
   "cell_type": "code",
   "execution_count": 24,
   "metadata": {},
   "outputs": [
    {
     "name": "stdout",
     "output_type": "stream",
     "text": [
      " -5.0000,168.0000\n",
      " -3.8889,111.5391\n",
      " -2.7778, 66.6008\n",
      " -1.6667, 33.1852\n",
      " -0.5556, 11.2922\n",
      "  0.5556,  0.9218\n",
      "  1.6667,  2.0741\n",
      "  2.7778, 14.7490\n",
      "  3.8889, 38.9465\n",
      "  5.0000, 74.6667\n"
     ]
    },
    {
     "data": {
      "text/plain": [
       "(0.0, 80.0)"
      ]
     },
     "execution_count": 24,
     "metadata": {},
     "output_type": "execute_result"
    },
    {
     "data": {
      "image/png": "[encoded data removed]",
      "text/plain": [
       "<Figure size 640x480 with 1 Axes>"
      ]
     },
     "metadata": {},
     "output_type": "display_data"
    }
   ],
   "source": [
    "for w in tf.constant(np.linspace(-5,5,10),dtype=tf.float32):\n",
    "    cost=tf_mse(w,0,x,y)\n",
    "    print(\"%8.4f,%8.4f\"%(w,cost))\n",
    "    plt.plot(w,cost,'ro')\n",
    "plt.xlabel('w')\n",
    "plt.ylabel('mse')\n",
    "plt.xlim(-5,5)\n",
    "plt.ylim(0,80)"
   ]
  },
  {
   "cell_type": "code",
   "execution_count": null,
   "metadata": {},
   "outputs": [],
   "source": []
  }
 ],
 "metadata": {
  "kernelspec": {
   "display_name": "Python 3",
   "language": "python",
   "name": "python3"
  },
  "language_info": {
   "codemirror_mode": {
    "name": "ipython",
    "version": 3
   },
   "file_extension": ".py",
   "mimetype": "text/x-python",
   "name": "python",
   "nbconvert_exporter": "python",
   "pygments_lexer": "ipython3",
   "version": "3.10.9"
  }
 },
 "nbformat": 4,
 "nbformat_minor": 2
}
