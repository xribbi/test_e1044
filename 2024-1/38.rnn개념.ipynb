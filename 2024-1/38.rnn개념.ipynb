{
 "cells": [
  {
   "cell_type": "code",
   "execution_count": 1,
   "id": "c4429937-3db1-4e9b-b2ee-5e94f966390d",
   "metadata": {},
   "outputs": [],
   "source": [
    "import tensorflow as tf\n",
    "import numpy as np\n",
    "from tensorflow.keras.models import Sequential\n",
    "from tensorflow.keras.layers import Dense, SimpleRNN"
   ]
  },
  {
   "cell_type": "code",
   "execution_count": 7,
   "id": "e3934479-187e-4b94-b2e6-ff399a62027f",
   "metadata": {},
   "outputs": [
    {
     "name": "stdout",
     "output_type": "stream",
     "text": [
      "(1, 4, 2)\n"
     ]
    }
   ],
   "source": [
    "x = np.array( [[[1,2],[3,4],[5,6],[7,8]]], np.float32)\n",
    "print(x.shape)  #(데이터갯수, 타임스텝, 특성갯수)"
   ]
  },
  {
   "cell_type": "code",
   "execution_count": 8,
   "id": "7d6d0a23-bc95-48e6-8e7c-a7a2b298c317",
   "metadata": {},
   "outputs": [],
   "source": [
    "rnn = SimpleRNN( 3, return_sequences=True  )"
   ]
  },
  {
   "cell_type": "code",
   "execution_count": 9,
   "id": "f3045eb7-d1e3-430e-89b9-d021438d78c6",
   "metadata": {},
   "outputs": [
    {
     "data": {
      "text/plain": [
       "<tf.Tensor: shape=(1, 4, 3), dtype=float32, numpy=\n",
       "array([[[ 0.7903166 , -0.422457  , -0.50443906],\n",
       "        [ 0.64841676, -0.86312   , -0.68279374],\n",
       "        [ 0.8352502 , -0.92482376, -0.90502423],\n",
       "        [ 0.9158091 , -0.9708939 , -0.9349646 ]]], dtype=float32)>"
      ]
     },
     "execution_count": 9,
     "metadata": {},
     "output_type": "execute_result"
    }
   ],
   "source": [
    "rnn(x)"
   ]
  },
  {
   "cell_type": "code",
   "execution_count": 10,
   "id": "c1249cc7-5cf9-403d-b4c9-844fb6caa877",
   "metadata": {},
   "outputs": [],
   "source": [
    "w = rnn.get_weights()"
   ]
  },
  {
   "cell_type": "code",
   "execution_count": 11,
   "id": "7104364c-7310-4ea0-849d-d14ebbeeef2e",
   "metadata": {},
   "outputs": [
    {
     "data": {
      "text/plain": [
       "3"
      ]
     },
     "execution_count": 11,
     "metadata": {},
     "output_type": "execute_result"
    }
   ],
   "source": [
    "len(w)"
   ]
  },
  {
   "cell_type": "code",
   "execution_count": 14,
   "id": "4579dfcd-d706-4ce4-aa21-f455ddc257ef",
   "metadata": {},
   "outputs": [
    {
     "name": "stdout",
     "output_type": "stream",
     "text": [
      "(2, 3)\n",
      "(3, 3)\n",
      "(3,)\n"
     ]
    }
   ],
   "source": [
    "print( w[0].shape )\n",
    "print( w[1].shape )\n",
    "print( w[2].shape ) # b"
   ]
  },
  {
   "cell_type": "code",
   "execution_count": 17,
   "id": "f6ec18a7-6b68-48e5-8703-8544c2f76926",
   "metadata": {},
   "outputs": [
    {
     "data": {
      "text/plain": [
       "array([[ 0.79031658, -0.42245704, -0.50443907]])"
      ]
     },
     "execution_count": 17,
     "metadata": {},
     "output_type": "execute_result"
    }
   ],
   "source": [
    "xt1 = np.tanh( np.matmul( [[1,2]], w[0]) ) + w[2]\n",
    "xt1"
   ]
  },
  {
   "cell_type": "code",
   "execution_count": 19,
   "id": "9a2d56b0-faf8-4f16-b181-58c261989410",
   "metadata": {},
   "outputs": [
    {
     "data": {
      "text/plain": [
       "array([[ 0.64841671, -0.86311995, -0.68279371]])"
      ]
     },
     "execution_count": 19,
     "metadata": {},
     "output_type": "execute_result"
    }
   ],
   "source": [
    "xt2 = np.tanh( np.matmul( [[3,4]], w[0]) + np.matmul( xt1, w[1] ) ) + w[2] \n",
    "xt2"
   ]
  },
  {
   "cell_type": "code",
   "execution_count": 20,
   "id": "fa5a8900-657a-45cf-a961-8dce4141deda",
   "metadata": {},
   "outputs": [
    {
     "data": {
      "text/plain": [
       "array([[ 0.83525032, -0.92482382, -0.90502431]])"
      ]
     },
     "execution_count": 20,
     "metadata": {},
     "output_type": "execute_result"
    }
   ],
   "source": [
    "xt3 = np.tanh( np.matmul( [[5,6]], w[0]) + np.matmul( xt2, w[1] ) ) + w[2] \n",
    "xt3"
   ]
  },
  {
   "cell_type": "code",
   "execution_count": 21,
   "id": "09b19d95-8826-4a91-802a-22419157db2b",
   "metadata": {},
   "outputs": [
    {
     "data": {
      "text/plain": [
       "array([[ 0.9158091 , -0.97089397, -0.93496472]])"
      ]
     },
     "execution_count": 21,
     "metadata": {},
     "output_type": "execute_result"
    }
   ],
   "source": [
    "xt4 = np.tanh( np.matmul( [[7,8]], w[0]) + np.matmul( xt3, w[1] ) ) + w[2] \n",
    "xt4"
   ]
  },
  {
   "cell_type": "code",
   "execution_count": 22,
   "id": "47502b7f-4e73-4374-8f91-95f5298ccddb",
   "metadata": {},
   "outputs": [
    {
     "data": {
      "text/plain": [
       "<tf.Tensor: shape=(1, 3), dtype=float32, numpy=array([[-0.9998792 ,  0.99999344,  1.        ]], dtype=float32)>"
      ]
     },
     "execution_count": 22,
     "metadata": {},
     "output_type": "execute_result"
    }
   ],
   "source": [
    "rnn = SimpleRNN( 3, return_sequences=False  )\n",
    "rnn( x )"
   ]
  },
  {
   "cell_type": "code",
   "execution_count": null,
   "id": "a89b0f5b-e0a5-4df6-9c79-7cb0a05bb719",
   "metadata": {},
   "outputs": [],
   "source": []
  },
  {
   "cell_type": "code",
   "execution_count": null,
   "id": "cba8935a-ce7f-4c96-a7be-7de887f0730d",
   "metadata": {},
   "outputs": [],
   "source": []
  },
  {
   "cell_type": "code",
   "execution_count": null,
   "id": "eaa9a1b1-2abd-47e8-bd78-300f91a80cb3",
   "metadata": {},
   "outputs": [],
   "source": []
  }
 ],
 "metadata": {
  "kernelspec": {
   "display_name": "Python 3 (ipykernel)",
   "language": "python",
   "name": "python3"
  },
  "language_info": {
   "codemirror_mode": {
    "name": "ipython",
    "version": 3
   },
   "file_extension": ".py",
   "mimetype": "text/x-python",
   "name": "python",
   "nbconvert_exporter": "python",
   "pygments_lexer": "ipython3",
   "version": "3.8.8"
  }
 },
 "nbformat": 4,
 "nbformat_minor": 5
}
 

