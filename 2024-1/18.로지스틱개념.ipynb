{
 "cells": [
  {
   "cell_type": "code",
   "execution_count": 1,
   "id": "871baeb4-b549-44d9-80e4-7d98ced0ce2c",
   "metadata": {},
   "outputs": [],
   "source": [
    "import tensorflow as tf\n",
    "import numpy as np\n",
    "import matplotlib.pyplot as plt"
   ]
  },
  {
   "cell_type": "code",
   "execution_count": 10,
   "id": "20218f56-5b33-4050-b9b3-d7f1a52f67bd",
   "metadata": {},
   "outputs": [],
   "source": [
    "# x_data = [1,2,3]\n",
    "# y_data = [1,2,3]\n",
    "x_data = [1,2,3,4,5,6,7,8,9,10]\n",
    "y_data = [0,0,0,0,0,1,1,1,1,1]"
   ]
  },
  {
   "cell_type": "code",
   "execution_count": 11,
   "id": "62073bcb-db10-403f-be50-538f9d80a480",
   "metadata": {},
   "outputs": [],
   "source": [
    "x = tf.constant( x_data, tf.float32)\n",
    "y = tf.constant( y_data, tf.float32)"
   ]
  },
  {
   "cell_type": "code",
   "execution_count": 14,
   "id": "11df9763-3369-4b41-98f1-3de24857d8b6",
   "metadata": {},
   "outputs": [],
   "source": [
    "def cost( x,y,w):\n",
    "    # hx = w*x\n",
    "    z = w*x\n",
    "    hx =tf.nn.sigmoid( z ) \n",
    "    cost_i = -( y*tf.math.log( hx ) + (1-y)*(tf.math.log( 1-hx)) )\n",
    "    c = tf.reduce_mean( cost_i )\n",
    "    return c.numpy()"
   ]
  },
  {
   "cell_type": "code",
   "execution_count": 15,
   "id": "71579263-3643-442e-8948-12e88e6cba22",
   "metadata": {},
   "outputs": [
    {
     "name": "stdout",
     "output_type": "stream",
     "text": [
      "4.051753\n"
     ]
    }
   ],
   "source": [
    "print( cost( x, y, -1))"
   ]
  },
  {
   "cell_type": "code",
   "execution_count": 16,
   "id": "4c6e10ba-5a84-4693-b4b4-d9631955cec8",
   "metadata": {},
   "outputs": [
    {
     "data": {
      "image/png": "[encoded data removed]",
      "text/plain": [
       "<Figure size 640x480 with 1 Axes>"
      ]
     },
     "metadata": {},
     "output_type": "display_data"
    }
   ],
   "source": [
    "for w in np.linspace( -3,5,50):\n",
    "    c = cost( x,y, w )\n",
    "    plt.plot( w, c, 'ro')\n",
    "plt.show()"
   ]
  }
 ],
 "metadata": {
  "kernelspec": {
   "display_name": "Python 3 (ipykernel)",
   "language": "python",
   "name": "python3"
  },
  "language_info": {
   "codemirror_mode": {
    "name": "ipython",
    "version": 3
   },
   "file_extension": ".py",
   "mimetype": "text/x-python",
   "name": "python",
   "nbconvert_exporter": "python",
   "pygments_lexer": "ipython3",
   "version": "3.8.8"
  }
 },
 "nbformat": 4,
 "nbformat_minor": 5
}
