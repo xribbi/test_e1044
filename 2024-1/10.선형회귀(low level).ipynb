{
 "cells": [
  {
   "cell_type": "code",
   "execution_count": 2,
   "id": "ab4cc91f-e646-4e78-934c-a1cbcc953907",
   "metadata": {},
   "outputs": [
    {
     "name": "stdout",
     "output_type": "stream",
     "text": [
      "Requirement already satisfied: pandas in c:\\python38\\lib\\site-packages (2.0.3)\n",
      "Requirement already satisfied: python-dateutil>=2.8.2 in c:\\python38\\lib\\site-packages (from pandas) (2.9.0.post0)\n",
      "Requirement already satisfied: pytz>=2020.1 in c:\\python38\\lib\\site-packages (from pandas) (2024.1)\n",
      "Requirement already satisfied: tzdata>=2022.1 in c:\\python38\\lib\\site-packages (from pandas) (2024.1)\n",
      "Requirement already satisfied: numpy>=1.20.3 in c:\\python38\\lib\\site-packages (from pandas) (1.24.3)\n",
      "Requirement already satisfied: six>=1.5 in c:\\python38\\lib\\site-packages (from python-dateutil>=2.8.2->pandas) (1.16.0)\n"
     ]
    }
   ],
   "source": [
    "!pip install pandas"
   ]
  },
  {
   "cell_type": "code",
   "execution_count": 15,
   "id": "61458629-60b1-40fd-a0b3-a6828b9467c0",
   "metadata": {},
   "outputs": [],
   "source": [
    "import tensorflow as tf\n",
    "from tensorflow.keras.optimizers import SGD, Adam\n",
    "import numpy as np\n",
    "import matplotlib.pyplot as plt\n",
    "import pandas as pd"
   ]
  },
  {
   "cell_type": "code",
   "execution_count": null,
   "id": "3ee2ea9a-48e9-4546-a55f-0b46c03675c2",
   "metadata": {},
   "outputs": [],
   "source": [
    "df = pd.read_csv('data/cars.csv' ,index_col='Unnamed: 0')\n",
    "df"
   ]
  },
  {
   "cell_type": "code",
   "execution_count": 8,
   "id": "0e725642-74f9-41c4-81cc-054e4187925c",
   "metadata": {},
   "outputs": [],
   "source": [
    "x_data = df['speed'].values\n",
    "y_data = df['dist'].values"
   ]
  },
  {
   "cell_type": "code",
   "execution_count": null,
   "id": "20c195e9-d01e-4ea0-9fb7-c2bb59efdfe9",
   "metadata": {},
   "outputs": [],
   "source": [
    "plt.scatter(x_data, y_data )\n",
    "plt.show()"
   ]
  },
  {
   "cell_type": "code",
   "execution_count": 10,
   "id": "0570a924-9ffe-4e6a-aafc-fd21f7ca3e74",
   "metadata": {},
   "outputs": [],
   "source": [
    "x = tf.constant( x_data, tf.float32)\n",
    "y = tf.constant( y_data, tf.float32)"
   ]
  },
  {
   "cell_type": "code",
   "execution_count": 11,
   "id": "c78d4ca7-fc4d-44bb-b397-ca2d89eebd92",
   "metadata": {},
   "outputs": [],
   "source": [
    "w = tf.Variable( tf.random.uniform([1]))\n",
    "b = tf.Variable( tf.random.uniform([1]))"
   ]
  },
  {
   "cell_type": "code",
   "execution_count": 14,
   "id": "87f159a7-ac7e-4dec-b4d4-a89c851cbe13",
   "metadata": {},
   "outputs": [],
   "source": [
    "def compute_loss():\n",
    "    hx = w*x + b\n",
    "    c = tf.reduce_mean( (hx-y)**2 )\n",
    "    return c"
   ]
  },
  {
   "cell_type": "code",
   "execution_count": null,
   "id": "8653b9a0-9c90-40b7-9896-bb34524abb08",
   "metadata": {},
   "outputs": [],
   "source": [
    "optimizer = Adam(learning_rate=0.01)\n",
    "hist_cost=[]\n",
    "for i in range( 1000):\n",
    "    optimizer.minimize( compute_loss, var_list=[w,b])\n",
    "    c = compute_loss().numpy()\n",
    "    hist_cost.append( c ) \n",
    "    print( i, 'cost=', c)"
   ]
  },
  {
   "cell_type": "code",
   "execution_count": 19,
   "id": "51de4aa5-7c27-404d-9778-95bdff3bf6f1",
   "metadata": {},
   "outputs": [
    {
     "name": "stdout",
     "output_type": "stream",
     "text": [
      "[2.793962] [1.8418279]\n"
     ]
    }
   ],
   "source": [
    "print( w.numpy(), b.numpy())"
   ]
  },
  {
   "cell_type": "code",
   "execution_count": 20,
   "id": "820a9ac2-3b8a-4c19-8aa9-2a0145c39918",
   "metadata": {},
   "outputs": [],
   "source": [
    "def hxFn( xdata ):\n",
    "    hx = w*xdata + b\n",
    "    return hx.numpy()"
   ]
  },
  {
   "cell_type": "code",
   "execution_count": 21,
   "id": "e8f9e2cf-507d-4b43-a771-f989781beff2",
   "metadata": {},
   "outputs": [
    {
     "data": {
      "text/plain": [
       "array([29.781448], dtype=float32)"
      ]
     },
     "execution_count": 21,
     "metadata": {},
     "output_type": "execute_result"
    }
   ],
   "source": [
    "hxFn( 10 )"
   ]
  },
  {
   "cell_type": "code",
   "execution_count": 22,
   "id": "a507682f-11f8-49b2-a711-389724dd101b",
   "metadata": {},
   "outputs": [
    {
     "data": {
      "text/plain": [
       "array([15.811638, 18.605598], dtype=float32)"
      ]
     },
     "execution_count": 22,
     "metadata": {},
     "output_type": "execute_result"
    }
   ],
   "source": [
    "hxFn( [5,6])   # [5,6]*[2.79,2.79] + [1.8,1.8]"
   ]
  },
  {
   "cell_type": "code",
   "execution_count": null,
   "id": "d0f98287-99f7-479d-8e97-546e8c909046",
   "metadata": {},
   "outputs": [],
   "source": [
    "pred = hxFn( x )\n",
    "pred"
   ]
  },
  {
   "cell_type": "code",
   "execution_count": null,
   "id": "57d8b417-e59a-4556-853e-397b087bcd70",
   "metadata": {},
   "outputs": [],
   "source": [
    "plt.scatter( x,y)\n",
    "plt.plot( x, pred,'r--')\n",
    "plt.show()"
   ]
  },
  {
   "cell_type": "code",
   "execution_count": 28,
   "id": "e1067c97-edc1-4b0b-91a8-d358a304e0ed",
   "metadata": {},
   "outputs": [
    {
     "data": {
      "image/png": "[encoded data removed]",
      "text/plain": [
       "<Figure size 640x480 with 1 Axes>"
      ]
     },
     "metadata": {},
     "output_type": "display_data"
    }
   ],
   "source": [
    "plt.plot( hist_cost )\n",
    "plt.show()"
   ]
  }
 ],
 "metadata": {
  "kernelspec": {
   "display_name": "Python 3 (ipykernel)",
   "language": "python",
   "name": "python3"
  },
  "language_info": {
   "codemirror_mode": {
    "name": "ipython",
    "version": 3
   },
   "file_extension": ".py",
   "mimetype": "text/x-python",
   "name": "python",
   "nbconvert_exporter": "python",
   "pygments_lexer": "ipython3",
   "version": "3.8.8"
  }
 },
 "nbformat": 4,
 "nbformat_minor": 5
}
