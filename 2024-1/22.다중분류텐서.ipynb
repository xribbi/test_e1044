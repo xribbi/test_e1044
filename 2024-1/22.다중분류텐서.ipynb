{
 "cells": [
  {
   "cell_type": "code",
   "execution_count": 1,
   "id": "8878591e-b02f-4f54-9c01-daac71abb9d3",
   "metadata": {},
   "outputs": [],
   "source": [
    "import tensorflow as tf\n",
    "from tensorflow.keras.optimizers import Adam\n",
    "import numpy as np\n",
    "import matplotlib.pyplot as plt\n",
    "import pandas as pd"
   ]
  },
  {
   "cell_type": "code",
   "execution_count": null,
   "id": "1c094593-7634-4b2f-96b9-635eb8992f0d",
   "metadata": {},
   "outputs": [],
   "source": [
    "df = pd.read_csv( 'data/softmax.txt', sep=' ', header=None)\n",
    "df"
   ]
  },
  {
   "cell_type": "code",
   "execution_count": 5,
   "id": "75deaa41-340d-414c-9690-98c505d344ea",
   "metadata": {},
   "outputs": [],
   "source": [
    "x_data = df.iloc[:, :2]\n",
    "y_data = df.iloc[:, 2:]"
   ]
  },
  {
   "cell_type": "code",
   "execution_count": 12,
   "id": "455db234-c84a-47b5-8cbf-8f4d81648d19",
   "metadata": {},
   "outputs": [],
   "source": [
    "x = tf.constant( x_data, tf.float32)\n",
    "y = tf.constant( y_data, tf.float32)"
   ]
  },
  {
   "cell_type": "code",
   "execution_count": 6,
   "id": "36e61c16-1670-4491-abdf-a0fabd551563",
   "metadata": {},
   "outputs": [
    {
     "data": {
      "text/plain": [
       "(8, 2)"
      ]
     },
     "execution_count": 6,
     "metadata": {},
     "output_type": "execute_result"
    }
   ],
   "source": [
    "x_data.shape"
   ]
  },
  {
   "cell_type": "code",
   "execution_count": 7,
   "id": "1fb6fb43-ebd8-42db-b39b-bff2d2918369",
   "metadata": {},
   "outputs": [
    {
     "data": {
      "text/plain": [
       "(8, 3)"
      ]
     },
     "execution_count": 7,
     "metadata": {},
     "output_type": "execute_result"
    }
   ],
   "source": [
    "y_data.shape"
   ]
  },
  {
   "cell_type": "code",
   "execution_count": null,
   "id": "f530c50b-56fc-4db9-afec-79243281e66c",
   "metadata": {},
   "outputs": [],
   "source": [
    "initX = tf.initializers.GlorotUniform()\n",
    "w = tf.Variable( initX(shape=[2,3]) ) #[특성데이터, 라벨]\n",
    "b = tf.Variable( initX(shape=[3]) ) #[라벨]"
   ]
  },
  {
   "cell_type": "code",
   "execution_count": 14,
   "id": "24b02236-14e3-42e0-831f-c9f108d7b2a2",
   "metadata": {},
   "outputs": [],
   "source": [
    "def compute_loss():\n",
    "    z = tf.matmul( x,w ) +b\n",
    "    cost_i = tf.nn.softmax_cross_entropy_with_logits( labels=y, logits=z )\n",
    "    c = tf.reduce_mean( cost_i )\n",
    "    return c"
   ]
  },
  {
   "cell_type": "code",
   "execution_count": null,
   "id": "f6de6b1a-cb73-4ef5-a11b-18065165e3a4",
   "metadata": {},
   "outputs": [],
   "source": [
    "optimizer = Adam( 0.1 )\n",
    "for i in range(1000):\n",
    "    optimizer.minimize( compute_loss, var_list=[w,b] )\n",
    "    c = compute_loss().numpy()\n",
    "    print( i, 'cost=', c )"
   ]
  },
  {
   "cell_type": "code",
   "execution_count": 20,
   "id": "f68a709a-823c-4fc4-aab6-85cc04594382",
   "metadata": {},
   "outputs": [],
   "source": [
    "def hxfn( xdata ):\n",
    "    xd = tf.constant( xdata, tf.float32)\n",
    "    z = tf.matmul( xd, w ) + b\n",
    "    hx = tf.nn.softmax( z )\n",
    "    # return z.numpy(), hx.numpy()\n",
    "    return hx.numpy()"
   ]
  },
  {
   "cell_type": "code",
   "execution_count": 21,
   "id": "7a080080-88c6-48f6-ab97-fa8b80ae5c81",
   "metadata": {},
   "outputs": [
    {
     "data": {
      "text/plain": [
       "array([[7.9884660e-01, 2.0093505e-01, 2.1833637e-04]], dtype=float32)"
      ]
     },
     "execution_count": 21,
     "metadata": {},
     "output_type": "execute_result"
    }
   ],
   "source": [
    "hxfn( [[5,6]] )"
   ]
  },
  {
   "cell_type": "code",
   "execution_count": 22,
   "id": "c0ba0d9a-f3cc-455c-8b3c-93e8fda9eb5b",
   "metadata": {},
   "outputs": [
    {
     "data": {
      "text/plain": [
       "array([0], dtype=int64)"
      ]
     },
     "execution_count": 22,
     "metadata": {},
     "output_type": "execute_result"
    }
   ],
   "source": [
    "hxfn( [[5,6]] ).argmax(axis=1)"
   ]
  },
  {
   "cell_type": "code",
   "execution_count": 24,
   "id": "ba2beb39-4ed6-4bac-94fc-0c7d4c1eb662",
   "metadata": {},
   "outputs": [
    {
     "data": {
      "text/plain": [
       "array([2], dtype=int64)"
      ]
     },
     "execution_count": 24,
     "metadata": {},
     "output_type": "execute_result"
    }
   ],
   "source": [
    "hxfn( [[1,2]]).argmax(axis=1)"
   ]
  },
  {
   "cell_type": "code",
   "execution_count": 28,
   "id": "bddeabef-7890-4106-b108-5be7ccf43ce7",
   "metadata": {},
   "outputs": [
    {
     "data": {
      "text/plain": [
       "array([2, 2, 2, 1, 1, 1, 0, 0], dtype=int64)"
      ]
     },
     "execution_count": 28,
     "metadata": {},
     "output_type": "execute_result"
    }
   ],
   "source": [
    "p = hxfn( x_data ).argmax( axis=1)\n",
    "p"
   ]
  },
  {
   "cell_type": "code",
   "execution_count": 31,
   "id": "9b56d4a1-21ed-4373-a40d-e293df98976c",
   "metadata": {},
   "outputs": [
    {
     "data": {
      "text/plain": [
       "array([2, 2, 2, 1, 1, 1, 0, 0], dtype=int64)"
      ]
     },
     "execution_count": 31,
     "metadata": {},
     "output_type": "execute_result"
    }
   ],
   "source": [
    "y_data.values.argmax(axis=1)"
   ]
  }
 ],
 "metadata": {
  "kernelspec": {
   "display_name": "Python 3 (ipykernel)",
   "language": "python",
   "name": "python3"
  },
  "language_info": {
   "codemirror_mode": {
    "name": "ipython",
    "version": 3
   },
   "file_extension": ".py",
   "mimetype": "text/x-python",
   "name": "python",
   "nbconvert_exporter": "python",
   "pygments_lexer": "ipython3",
   "version": "3.8.8"
  }
 },
 "nbformat": 4,
 "nbformat_minor": 5
}
 

