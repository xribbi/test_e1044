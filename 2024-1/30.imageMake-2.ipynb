{
 "cells": [
  {
   "cell_type": "code",
   "execution_count": 4,
   "id": "e3d5fa73-ba0b-4cf0-acda-af497f0b9496",
   "metadata": {},
   "outputs": [],
   "source": [
    "import tensorflow as tf\n",
    "from tensorflow.keras import Sequential\n",
    "from tensorflow.keras.layers import Dense, Flatten\n",
    "from tensorflow.keras.optimizers import Adam\n",
    "from tensorflow.keras.datasets.mnist import load_data\n",
    "from tensorflow.keras.utils import to_categorical\n",
    "from tensorflow.keras.preprocessing.image import load_img, ImageDataGenerator, img_to_array\n",
    "import numpy as np\n",
    "import pandas as pd\n",
    "import matplotlib.pyplot as plt"
   ]
  },
  {
   "cell_type": "code",
   "execution_count": 5,
   "id": "55456bb2-ea3a-4fa5-afa5-72c2a93a06ab",
   "metadata": {},
   "outputs": [
    {
     "name": "stdout",
     "output_type": "stream",
     "text": [
      "Found 20 images belonging to 2 classes.\n"
     ]
    }
   ],
   "source": [
    "dataGen = ImageDataGenerator( rescale=1./255)\n",
    "imgGen = dataGen.flow_from_directory( './image', target_size=(98,98))"
   ]
  },
  {
   "cell_type": "code",
   "execution_count": null,
   "id": "84359340-0b5c-4e66-9599-a34d38d39bdb",
   "metadata": {},
   "outputs": [],
   "source": [
    "## 100개의"
   ]
  },
  {
   "cell_type": "code",
   "execution_count": 7,
   "id": "dcd26814-4666-41f4-9f8f-67b7d2cfdfbf",
   "metadata": {},
   "outputs": [],
   "source": [
    "x_data, y_data = imgGen.next()"
   ]
  },
  {
   "cell_type": "code",
   "execution_count": 9,
   "id": "a2c59892-da51-4fc1-b364-28e19510bbaa",
   "metadata": {},
   "outputs": [
    {
     "data": {
      "text/plain": [
       "(20, 98, 98, 3)"
      ]
     },
     "execution_count": 9,
     "metadata": {},
     "output_type": "execute_result"
    }
   ],
   "source": [
    "x_data.shape"
   ]
  },
  {
   "cell_type": "code",
   "execution_count": 11,
   "id": "7ffa00eb-fc92-4bbf-9d48-381f3d0f8e09",
   "metadata": {},
   "outputs": [
    {
     "data": {
      "text/plain": [
       "{'cat': 0, 'dog': 1}"
      ]
     },
     "execution_count": 11,
     "metadata": {},
     "output_type": "execute_result"
    }
   ],
   "source": [
    "imgGen.class_indices"
   ]
  },
  {
   "cell_type": "code",
   "execution_count": 12,
   "id": "1bb671b9-2528-41ad-9feb-d41446c6cd22",
   "metadata": {},
   "outputs": [
    {
     "data": {
      "text/plain": [
       "(98, 98, 3)"
      ]
     },
     "execution_count": 12,
     "metadata": {},
     "output_type": "execute_result"
    }
   ],
   "source": [
    "x_data[0].shape"
   ]
  },
  {
   "cell_type": "code",
   "execution_count": null,
   "id": "fca77cbb-8499-4e12-9fd5-f7484feb46b4",
   "metadata": {},
   "outputs": [],
   "source": [
    "plt.imshow( x_data[0] )\n",
    "plt.plot()"
   ]
  },
  {
   "cell_type": "code",
   "execution_count": 15,
   "id": "1971fd01-3a14-4932-9125-189ca9c7d2f8",
   "metadata": {},
   "outputs": [
    {
     "data": {
      "text/plain": [
       "array([0., 1.], dtype=float32)"
      ]
     },
     "execution_count": 15,
     "metadata": {},
     "output_type": "execute_result"
    }
   ],
   "source": [
    "y_data[0]"
   ]
  },
  {
   "cell_type": "code",
   "execution_count": null,
   "id": "ab96c13c-706c-4001-a384-47aa98f053e5",
   "metadata": {},
   "outputs": [],
   "source": [
    "model = Sequential()\n",
    "model.add( Flatten( input_shape=(98,98,3)) )\n",
    "model.add( Dense( units=64,  activation='relu') )\n",
    "model.add( Dense( units=32,  activation='relu') )\n",
    "model.add( Dense( units=2,  activation='softmax') )\n",
    "model.compile( loss='categorical_crossentropy', \n",
    "              optimizer=Adam( 0.001 ), metrics=['acc'])\n",
    "#model.fit( x_data, y_data, epochs= 100 )/\n",
    "model.fit( imgGen, epochs=100)"
   ]
  },
  {
   "cell_type": "code",
   "execution_count": 21,
   "id": "45895356-d9fe-47f9-aa3d-6450b21a2daa",
   "metadata": {},
   "outputs": [
    {
     "name": "stdout",
     "output_type": "stream",
     "text": [
      "<class 'PIL.Image.Image'>\n"
     ]
    },
    {
     "data": {
      "image/jpeg": "[encoded data removed]",
      "image/png": "[encoded data removed]",
      "text/plain": [
       "<PIL.Image.Image image mode=RGB size=98x98>"
      ]
     },
     "execution_count": 21,
     "metadata": {},
     "output_type": "execute_result"
    }
   ],
   "source": [
    "testImg = load_img( 'test.jpg', target_size=(98,98))\n",
    "print( type(testImg))\n",
    "testImg"
   ]
  },
  {
   "cell_type": "code",
   "execution_count": 24,
   "id": "e8261be0-317f-4eef-b9cd-cc1da7c7151b",
   "metadata": {},
   "outputs": [
    {
     "data": {
      "text/plain": [
       "(98, 98, 3)"
      ]
     },
     "execution_count": 24,
     "metadata": {},
     "output_type": "execute_result"
    }
   ],
   "source": [
    "imgArr = img_to_array(testImg)/255\n",
    "imgArr.shape"
   ]
  },
  {
   "cell_type": "code",
   "execution_count": 25,
   "id": "d6bfd361-4e22-40ab-a9a3-642c3009ed9e",
   "metadata": {},
   "outputs": [
    {
     "data": {
      "text/plain": [
       "28812"
      ]
     },
     "execution_count": 25,
     "metadata": {},
     "output_type": "execute_result"
    }
   ],
   "source": [
    "98*98*3"
   ]
  },
  {
   "cell_type": "code",
   "execution_count": null,
   "id": "44999f71-2a8e-4ba4-95dc-c8cad1673717",
   "metadata": {},
   "outputs": [],
   "source": [
    "1x28812 28812x64 = 1x64 64x32  1x32 32x2  =1x2"
   ]
  },
  {
   "cell_type": "code",
   "execution_count": 27,
   "id": "7a7e0b72-a74d-4498-bf10-434a01e2c918",
   "metadata": {},
   "outputs": [
    {
     "name": "stdout",
     "output_type": "stream",
     "text": [
      "1/1 [==============================] - 0s 22ms/step\n"
     ]
    },
    {
     "data": {
      "text/plain": [
       "array([1], dtype=int64)"
      ]
     },
     "execution_count": 27,
     "metadata": {},
     "output_type": "execute_result"
    }
   ],
   "source": [
    "model.predict( imgArr.reshape(1,98, 98, 3)).argmax(axis=1)"
   ]
  },
  {
   "cell_type": "code",
   "execution_count": null,
   "id": "2b8c5b93-ca68-4421-8f07-29d42903af67",
   "metadata": {},
   "outputs": [],
   "source": []
  }
 ],
 "metadata": {
  "kernelspec": {
   "display_name": "Python 3 (ipykernel)",
   "language": "python",
   "name": "python3"
  },
  "language_info": {
   "codemirror_mode": {
    "name": "ipython",
    "version": 3
   },
   "file_extension": ".py",
   "mimetype": "text/x-python",
   "name": "python",
   "nbconvert_exporter": "python",
   "pygments_lexer": "ipython3",
   "version": "3.8.8"
  }
 },
 "nbformat": 4,
 "nbformat_minor": 5
}
