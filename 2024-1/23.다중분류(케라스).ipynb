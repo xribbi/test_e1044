{
 "cells": [
  {
   "cell_type": "code",
   "execution_count": 1,
   "id": "67e5263b-3955-4211-a0b8-f8692001ef88",
   "metadata": {},
   "outputs": [],
   "source": [
    "import tensorflow as tf\n",
    "from tensorflow.keras import Sequential\n",
    "from tensorflow.keras.layers import Dense\n",
    "from tensorflow.keras.optimizers import Adam\n",
    "import numpy as np\n",
    "import pandas as pd\n",
    "import matplotlib.pyplot as plt"
   ]
  },
  {
   "cell_type": "code",
   "execution_count": null,
   "id": "07255e10-bbfe-4932-b26e-517ea18e2c67",
   "metadata": {},
   "outputs": [],
   "source": [
    "df = pd.read_csv( 'data/softmax.txt', sep=' ', header=None)\n",
    "df"
   ]
  },
  {
   "cell_type": "code",
   "execution_count": 3,
   "id": "b17a54a9-8b0f-4764-ac45-d9084a0c733e",
   "metadata": {},
   "outputs": [],
   "source": [
    "x_data = df.iloc[:, :2].values\n",
    "y_data = df.iloc[:, 2:].values"
   ]
  },
  {
   "cell_type": "code",
   "execution_count": 4,
   "id": "c0e65c7a-3472-4cfd-bcb4-1d6d0e2b666e",
   "metadata": {},
   "outputs": [
    {
     "data": {
      "text/plain": [
       "<tf.Tensor: shape=(8, 3), dtype=float32, numpy=\n",
       "array([[0.20825028, 0.4765577 , 0.315192  ],\n",
       "       [0.17402773, 0.56327635, 0.26269597],\n",
       "       [0.2423875 , 0.5995795 , 0.15803295],\n",
       "       [0.13076253, 0.74020153, 0.12903589],\n",
       "       [0.05527846, 0.8190979 , 0.12562369],\n",
       "       [0.3818339 , 0.5103536 , 0.10781251],\n",
       "       [0.10009388, 0.8013962 , 0.09850993],\n",
       "       [0.07515463, 0.8510765 , 0.07376894]], dtype=float32)>"
      ]
     },
     "execution_count": 4,
     "metadata": {},
     "output_type": "execute_result"
    }
   ],
   "source": [
    "# w: 2x3, b:3\n",
    "# z = matmul( x, w ) + b\n",
    "# hx = softmax( z )\n",
    "dense = Dense( units=3, input_dim=2, activation='softmax')\n",
    "dense(x_data)"
   ]
  },
  {
   "cell_type": "code",
   "execution_count": 5,
   "id": "87454f4a-2b28-4c6a-a8be-3126bf2c9cb3",
   "metadata": {},
   "outputs": [
    {
     "name": "stdout",
     "output_type": "stream",
     "text": [
      "[[-0.885616   -0.4044757  -0.46851617]\n",
      " [-0.30102736 -0.43545985 -0.7207857 ]]\n",
      "-----------\n",
      "[0. 0. 0.]\n"
     ]
    }
   ],
   "source": [
    "w, b= dense.get_weights()\n",
    "print( w )\n",
    "print('-----------')\n",
    "print( b )"
   ]
  },
  {
   "cell_type": "code",
   "execution_count": null,
   "id": "af6595cb-6ed1-417a-92ff-b8474c402b2a",
   "metadata": {},
   "outputs": [],
   "source": [
    "dense = Dense( units=3, input_dim=2, activation='softmax')\n",
    "model = Sequential( [dense])\n",
    "model.compile( loss='categorical_crossentropy', optimizer=Adam(0.1), metrics=['acc'])\n",
    "model.fit( x_data, y_data, epochs=500)"
   ]
  },
  {
   "cell_type": "code",
   "execution_count": 9,
   "id": "82545806-8fad-4418-9a92-65f4715d8b0c",
   "metadata": {},
   "outputs": [
    {
     "data": {
      "text/plain": [
       "array([2, 2, 2, 1, 1, 1, 0, 0], dtype=int64)"
      ]
     },
     "execution_count": 9,
     "metadata": {},
     "output_type": "execute_result"
    }
   ],
   "source": [
    "dense(x_data).numpy().argmax( axis=1)"
   ]
  },
  {
   "cell_type": "code",
   "execution_count": 11,
   "id": "21c76307-7792-4dbd-84e0-891019b91223",
   "metadata": {},
   "outputs": [
    {
     "name": "stdout",
     "output_type": "stream",
     "text": [
      "1/1 [==============================] - 0s 12ms/step\n"
     ]
    },
    {
     "data": {
      "text/plain": [
       "array([2, 2, 2, 1, 1, 1, 0, 0], dtype=int64)"
      ]
     },
     "execution_count": 11,
     "metadata": {},
     "output_type": "execute_result"
    }
   ],
   "source": [
    "model.predict( x_data).argmax( axis=1)"
   ]
  },
  {
   "cell_type": "code",
   "execution_count": 12,
   "id": "f04ff44b-9d4d-4c25-aa2f-a333fb24ab7a",
   "metadata": {},
   "outputs": [],
   "source": [
    "from sklearn.metrics import accuracy_score"
   ]
  },
  {
   "cell_type": "code",
   "execution_count": 13,
   "id": "0ec1491e-df27-44db-b386-aea719c7e496",
   "metadata": {},
   "outputs": [
    {
     "name": "stdout",
     "output_type": "stream",
     "text": [
      "1/1 [==============================] - 0s 18ms/step\n"
     ]
    }
   ],
   "source": [
    "p= model.predict( x_data).argmax( axis=1)"
   ]
  },
  {
   "cell_type": "code",
   "execution_count": 16,
   "id": "b32fab00-2b76-4baa-91ce-490ff4632612",
   "metadata": {},
   "outputs": [],
   "source": [
    "r = y_data.argmax( axis=1)"
   ]
  },
  {
   "cell_type": "code",
   "execution_count": 17,
   "id": "b70308fd-0c0d-4227-9097-4660698b8878",
   "metadata": {},
   "outputs": [
    {
     "data": {
      "text/plain": [
       "1.0"
      ]
     },
     "execution_count": 17,
     "metadata": {},
     "output_type": "execute_result"
    }
   ],
   "source": [
    "accuracy_score( r, p )"
   ]
  },
  {
   "cell_type": "code",
   "execution_count": 18,
   "id": "8dad00b5-9513-4878-a66c-b0afa39501a9",
   "metadata": {},
   "outputs": [],
   "source": [
    "from sklearn.datasets import load_iris"
   ]
  },
  {
   "cell_type": "code",
   "execution_count": 21,
   "id": "2217dce0-d411-4d91-bc31-a91049920b34",
   "metadata": {},
   "outputs": [],
   "source": [
    "iris = load_iris(as_frame=True)"
   ]
  },
  {
   "cell_type": "code",
   "execution_count": 23,
   "id": "d58fcfd4-7d5a-42e1-a2b2-4f48752204df",
   "metadata": {},
   "outputs": [
    {
     "data": {
      "text/plain": [
       "dict_keys(['data', 'target', 'frame', 'target_names', 'DESCR', 'feature_names', 'filename', 'data_module'])"
      ]
     },
     "execution_count": 23,
     "metadata": {},
     "output_type": "execute_result"
    }
   ],
   "source": [
    "iris.keys()"
   ]
  },
  {
   "cell_type": "code",
   "execution_count": 26,
   "id": "d5badab4-e476-43cc-85f4-27ae6b77ee0d",
   "metadata": {},
   "outputs": [
    {
     "data": {
      "text/plain": [
       "array(['setosa', 'versicolor', 'virginica'], dtype='<U10')"
      ]
     },
     "execution_count": 26,
     "metadata": {},
     "output_type": "execute_result"
    }
   ],
   "source": [
    "iris['target_names']"
   ]
  },
  {
   "cell_type": "code",
   "execution_count": null,
   "id": "b65621c9-ea71-4eb5-8aff-2777562b980b",
   "metadata": {},
   "outputs": [],
   "source": [
    "df = iris['frame']\n",
    "df"
   ]
  },
  {
   "cell_type": "markdown",
   "id": "1dd68c50-655e-484b-960e-4678114a023a",
   "metadata": {},
   "source": [
    "## 케라스 :15분 퀴즈\n",
    "1. sl:5.1 sw:3.5\tpl:1.4 pw: 0.2 종분류예측\n",
    "2. 정확도"
   ]
  },
  {
   "cell_type": "code",
   "execution_count": 29,
   "id": "7d00aa3e-916a-4568-b92c-bbf67dadaf81",
   "metadata": {},
   "outputs": [],
   "source": [
    "from tensorflow.keras.utils import to_categorical"
   ]
  },
  {
   "cell_type": "code",
   "execution_count": 34,
   "id": "32ce5517-7e56-4f16-9b86-f1e6530557ff",
   "metadata": {},
   "outputs": [],
   "source": [
    "x_data = df.iloc[:, :-1].values\n",
    "y_data = to_categorical( df['target'].values )"
   ]
  },
  {
   "cell_type": "code",
   "execution_count": null,
   "id": "16998db6-1e5d-4a32-ab45-18f114e52340",
   "metadata": {},
   "outputs": [],
   "source": [
    "df.corr()"
   ]
  },
  {
   "cell_type": "code",
   "execution_count": null,
   "id": "21d92260-a838-40f5-a88b-854b0bcba663",
   "metadata": {},
   "outputs": [],
   "source": [
    "dense = Dense( units=3, input_dim=4, activation='softmax')\n",
    "model = Sequential( [dense])\n",
    "model.compile( loss='categorical_crossentropy', optimizer=Adam(0.1), metrics=['acc'])\n",
    "model.fit( x_data, y_data, epochs=500)"
   ]
  },
  {
   "cell_type": "code",
   "execution_count": 42,
   "id": "ca9b7488-f4f6-487f-a19b-63d942aab2e3",
   "metadata": {},
   "outputs": [
    {
     "name": "stdout",
     "output_type": "stream",
     "text": [
      "1/1 [==============================] - 0s 42ms/step\n"
     ]
    }
   ],
   "source": [
    " # sl:5.1 sw:3.5\tpl:1.4 pw: 0.2\n",
    "p =model.predict( [[5.1,3.5,1.4,0.2]]).argmax( axis=1)"
   ]
  },
  {
   "cell_type": "code",
   "execution_count": 44,
   "id": "44d5dafd-e461-4720-9a65-076196d840d5",
   "metadata": {},
   "outputs": [
    {
     "data": {
      "text/plain": [
       "0"
      ]
     },
     "execution_count": 44,
     "metadata": {},
     "output_type": "execute_result"
    }
   ],
   "source": [
    "int(p )"
   ]
  },
  {
   "cell_type": "code",
   "execution_count": 45,
   "id": "a13eab52-31ca-4567-a611-615f88fc3d44",
   "metadata": {},
   "outputs": [
    {
     "data": {
      "text/plain": [
       "'setosa'"
      ]
     },
     "execution_count": 45,
     "metadata": {},
     "output_type": "execute_result"
    }
   ],
   "source": [
    "iris['target_names'][int(p) ]"
   ]
  },
  {
   "cell_type": "code",
   "execution_count": 47,
   "id": "1961b851-31cb-4c29-959c-426693829e9b",
   "metadata": {},
   "outputs": [
    {
     "data": {
      "text/plain": [
       "(150, 4)"
      ]
     },
     "execution_count": 47,
     "metadata": {},
     "output_type": "execute_result"
    }
   ],
   "source": [
    "x_data.shape"
   ]
  },
  {
   "cell_type": "code",
   "execution_count": 49,
   "id": "ae16d5e3-743b-4293-90f8-ac376dbe1710",
   "metadata": {},
   "outputs": [
    {
     "name": "stdout",
     "output_type": "stream",
     "text": [
      "5/5 [==============================] - 0s 1ms/step\n"
     ]
    }
   ],
   "source": [
    "pred = model.predict( x_data ).argmax(axis=1)"
   ]
  },
  {
   "cell_type": "code",
   "execution_count": 52,
   "id": "fdeb5c55-3385-463a-91b1-4939cef3075e",
   "metadata": {},
   "outputs": [],
   "source": [
    "r = y_data.argmax(axis=1)"
   ]
  },
  {
   "cell_type": "code",
   "execution_count": 53,
   "id": "8da3c889-851d-478b-b228-3c39f0a57fba",
   "metadata": {},
   "outputs": [
    {
     "data": {
      "text/plain": [
       "0.98"
      ]
     },
     "execution_count": 53,
     "metadata": {},
     "output_type": "execute_result"
    }
   ],
   "source": [
    "accuracy_score( r, pred)"
   ]
  }
 ],
 "metadata": {
  "kernelspec": {
   "display_name": "Python 3 (ipykernel)",
   "language": "python",
   "name": "python3"
  },
  "language_info": {
   "codemirror_mode": {
    "name": "ipython",
    "version": 3
   },
   "file_extension": ".py",
   "mimetype": "text/x-python",
   "name": "python",
   "nbconvert_exporter": "python",
   "pygments_lexer": "ipython3",
   "version": "3.8.8"
  }
 },
 "nbformat": 4,
 "nbformat_minor": 5
}
