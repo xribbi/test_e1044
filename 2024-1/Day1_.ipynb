{
 "cells": [
  {
   "cell_type": "markdown",
   "id": "98bfda84-3f03-4d94-a161-a09c40dcc018",
   "metadata": {},
   "source": [
    "### 1. y= (x+3)^3 의 미분과정"
   ]
  },
  {
   "cell_type": "markdown",
   "id": "36b80032-0812-4bbd-a6bf-412e2283b71d",
   "metadata": {},
   "source": [
    "## dy/dx = 3 * (x+3)^ 2 * (1) "
   ]
  },
  {
   "cell_type": "markdown",
   "id": "86076cbe-32c9-47fb-aac1-46db1d1456f2",
   "metadata": {},
   "source": [
    "### 2. x= [1,2,3,4,5,6,7]; y=[5,8,11,14,17,20,23]인 경우 W와 b는?"
   ]
  },
  {
   "cell_type": "markdown",
   "id": "5a7ad3b4-548b-4441-9afc-cb1065bfe28c",
   "metadata": {},
   "source": [
    "### 2.1 직접구현"
   ]
  },
  {
   "cell_type": "code",
   "execution_count": 14,
   "id": "efcc2624-9037-40dd-a11a-e608faac16f8",
   "metadata": {},
   "outputs": [
    {
     "data": {
      "image/png": "[encoded data removed]",
      "text/plain": [
       "<Figure size 640x480 with 1 Axes>"
      ]
     },
     "metadata": {},
     "output_type": "display_data"
    },
    {
     "name": "stdout",
     "output_type": "stream",
     "text": [
      "w= 6.5600004 b= 9.28 gradientW= 344.0 gradientB= 72.0 mse= 1492.0\n",
      "w= 2.1339443 b= 6.288656 gradientW= -0.33426613 gradientB= 1.6552304 mse= 3.7083619\n",
      "w= 2.4108176 b= 4.917597 gradientW= -0.22739466 gradientB= 1.126064 mse= 1.7162869\n",
      "w= 2.5991757 b= 3.984859 gradientW= -0.15470178 gradientB= 0.7660675 mse= 0.7943261\n",
      "w= 2.7273169 b= 3.350311 gradientW= -0.105245315 gradientB= 0.5211601 mse= 0.36762697\n",
      "w= 2.814492 b= 2.9186244 gradientW= -0.071596965 gradientB= 0.3545483 mse= 0.17014332\n",
      "w= 2.873798 b= 2.624946 gradientW= -0.04870483 gradientB= 0.24120235 mse= 0.07874534\n",
      "w= 2.914144 b= 2.4251542 gradientW= -0.033129554 gradientB= 0.16409193 mse= 0.036444448\n",
      "w= 2.9415915 b= 2.289235 gradientW= -0.022537367 gradientB= 0.11163317 mse= 0.01686716\n",
      "w= 2.9602642 b= 2.196769 gradientW= -0.015335356 gradientB= 0.07594436 mse= 0.007806447\n",
      "w= 2.9729679 b= 2.133862 gradientW= -0.010435513 gradientB= 0.05166449 mse= 0.0036129032\n",
      "w= 2.9816098 b= 2.091068 gradientW= -0.007095337 gradientB= 0.03514862 mse= 0.0016721241\n",
      "w= 2.9874887 b= 2.0619552 gradientW= -0.0048299516 gradientB= 0.023911612 mse= 0.00077391043\n",
      "w= 2.9914885 b= 2.0421486 gradientW= -0.0032890865 gradientB= 0.016266687 mse= 0.0003581838\n",
      "w= 2.9942095 b= 2.0286741 gradientW= -0.002235685 gradientB= 0.01106671 mse= 0.0001657733\n",
      "w= 2.9960606 b= 2.019508 gradientW= -0.0015231541 gradientB= 0.00752885 mse= 7.673328e-05\n",
      "w= 2.9973202 b= 2.0132706 gradientW= -0.0010296957 gradientB= 0.005122866 mse= 3.550846e-05\n",
      "w= 2.9981768 b= 2.009028 gradientW= -0.0006997245 gradientB= 0.0034849984 mse= 1.6431388e-05\n",
      "w= 2.9987595 b= 2.006142 gradientW= -0.000485284 gradientB= 0.0023691994 mse= 7.605969e-06\n",
      "w= 2.9991562 b= 2.0041785 gradientW= -0.000327519 gradientB= 0.0016125271 mse= 3.5210755e-06\n",
      "최종:w 2.9994237 최종:b 2.002854\n"
     ]
    }
   ],
   "source": [
    "import numpy as np\n",
    "import tensorflow as tf\n",
    "import matplotlib.pyplot as plt\n",
    "\n",
    "# Common data preparation \n",
    "x_data = np.array([1,2,3,4,5,6,7])\n",
    "y_data = np.array([5,8,11,14,17,20,23])\n",
    "\n",
    "# Common hyper parameter setting\n",
    "epoch  = 1000\n",
    "step   =  100\n",
    "\n",
    "x = tf.constant( x_data, tf.float32)\n",
    "y = tf.constant( y_data, tf.float32)\n",
    "plt.xlim( 0,10 )\n",
    "plt.ylim( 0,30 )\n",
    "plt.scatter( x, y)\n",
    "plt.show()\n",
    "w = 10\n",
    "b = 10\n",
    "epochs = 2000\n",
    "learning_rate = 0.01\n",
    "n = len(x)\n",
    "for i in range( epochs ):\n",
    "    hx = w*x + b\n",
    "    c = tf.reduce_sum( (hx-y)**2)/n\n",
    "    gradientW = tf.reduce_sum( (w*x + b-y)*2*x)/n\n",
    "    gradientB = tf.reduce_sum( (w*x + b-y)*2 )/n\n",
    "    w = w-learning_rate*gradientW\n",
    "    b = b-learning_rate*gradientB\n",
    "    if (i % step == 0):\n",
    "        print( 'w=',w.numpy(),'b=',b.numpy(), 'gradientW=',gradientW.numpy(),\n",
    "              'gradientB=',gradientB.numpy(), 'mse=', c.numpy() )    \n",
    "print( '최종:w',w.numpy(), '최종:b', b.numpy() )"
   ]
  },
  {
   "cell_type": "markdown",
   "id": "dbbe53b3-4198-4df2-9142-f77823758c26",
   "metadata": {},
   "source": [
    "### 2.2 텐서라이브리사용버전"
   ]
  },
  {
   "cell_type": "code",
   "execution_count": 15,
   "id": "e1232347-14a6-4252-9a40-a8d7cbf7aa4c",
   "metadata": {},
   "outputs": [
    {
     "name": "stdout",
     "output_type": "stream",
     "text": [
      "0 w= 6.5599995 b= 9.28 cost= 513.8046\n",
      "100 w= 2.1339443 b= 6.288656 cost= 3.6799016\n",
      "200 w= 2.4108176 b= 4.917597 cost= 1.7031155\n",
      "300 w= 2.5991757 b= 3.984859 cost= 0.78823006\n",
      "400 w= 2.7273169 b= 3.350311 cost= 0.36480564\n",
      "500 w= 2.814492 b= 2.9186244 cost= 0.16883758\n",
      "600 w= 2.873798 b= 2.624946 cost= 0.07814093\n",
      "700 w= 2.914144 b= 2.4251542 cost= 0.0361649\n",
      "800 w= 2.9415915 b= 2.289235 cost= 0.01673771\n",
      "900 w= 2.9602642 b= 2.196769 cost= 0.007746474\n"
     ]
    }
   ],
   "source": [
    "from tensorflow.keras.optimizers import SGD\n",
    "\n",
    "w = tf.Variable( 10.0, tf.float32)\n",
    "b = tf.Variable( 10.0, tf.float32)\n",
    "\n",
    "def compute_loss():\n",
    "    hx = w*x + b\n",
    "    c = tf.reduce_mean( (hx-y)**2)\n",
    "    return c\n",
    "\n",
    "optimizer = SGD( learning_rate=0.01 )\n",
    "\n",
    "for i in range(epoch):\n",
    "    optimizer.minimize( compute_loss, var_list=[w,b] )\n",
    "    c = compute_loss().numpy()\n",
    "    if (i % step == 0):\n",
    "        print( i, 'w=',w.numpy(),'b=',b.numpy(), 'cost=', c )    \n",
    "    "
   ]
  },
  {
   "cell_type": "markdown",
   "id": "6cf368ff-0cc9-4d79-8132-964c1b18db06",
   "metadata": {},
   "source": [
    "### 2.3 x=10 인경우 예측값"
   ]
  },
  {
   "cell_type": "code",
   "execution_count": 18,
   "id": "219a942e-c998-4f70-8ec4-de853eb69c67",
   "metadata": {},
   "outputs": [
    {
     "name": "stdout",
     "output_type": "stream",
     "text": [
      "y_pred = [31.863012]\n"
     ]
    }
   ],
   "source": [
    "x_pred = tf.constant( [10], tf.float32)\n",
    "y_pred = w*x_pred + b\n",
    "print(\"y_pred =\",y_pred.numpy())"
   ]
  }
 ],
 "metadata": {
  "kernelspec": {
   "display_name": "Python 3 (ipykernel)",
   "language": "python",
   "name": "python3"
  },
  "language_info": {
   "codemirror_mode": {
    "name": "ipython",
    "version": 3
   },
   "file_extension": ".py",
   "mimetype": "text/x-python",
   "name": "python",
   "nbconvert_exporter": "python",
   "pygments_lexer": "ipython3",
   "version": "3.8.8"
  }
 },
 "nbformat": 4,
 "nbformat_minor": 5
}
