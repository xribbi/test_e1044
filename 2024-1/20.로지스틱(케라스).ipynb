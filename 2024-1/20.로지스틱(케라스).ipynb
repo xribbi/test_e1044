{
 "cells": [
  {
   "cell_type": "code",
   "execution_count": 1,
   "id": "0ca47291-bc28-40f9-bf03-9b3ac7a30af2",
   "metadata": {},
   "outputs": [],
   "source": [
    "import tensorflow as tf\n",
    "from tensorflow.keras import Sequential\n",
    "from tensorflow.keras.layers import Dense\n",
    "from tensorflow.keras.optimizers import Adam\n",
    "import numpy as np\n",
    "import pandas as pd\n",
    "import matplotlib.pyplot as plt"
   ]
  },
  {
   "cell_type": "code",
   "execution_count": 3,
   "id": "243f65d5-3ee1-4b03-aff7-69a3c7375972",
   "metadata": {},
   "outputs": [],
   "source": [
    "x_data =np.array( [[1,3],[2,2],[3,1],[4,6],[5,5],[6,4]] ) #공부한시간 ,출석일수\n",
    "y_data = np.array( [[0],[0],[0],[1],[1],[1]] )"
   ]
  },
  {
   "cell_type": "code",
   "execution_count": 4,
   "id": "ed27c74c-a299-4ed7-9c02-e525ffe52cd4",
   "metadata": {},
   "outputs": [
    {
     "data": {
      "text/plain": [
       "<tf.Tensor: shape=(6, 1), dtype=float32, numpy=\n",
       "array([[0.983714  ],\n",
       "       [0.9565136 ],\n",
       "       [0.8890095 ],\n",
       "       [0.99983954],\n",
       "       [0.99955946],\n",
       "       [0.9987912 ]], dtype=float32)>"
      ]
     },
     "execution_count": 4,
     "metadata": {},
     "output_type": "execute_result"
    }
   ],
   "source": [
    "dense = Dense( units=1, input_dim=2, activation='sigmoid')\n",
    "dense(x_data ) \n",
    "# z = matmul( x_data, w) + b\n",
    "# hx = sigmoid( z )"
   ]
  },
  {
   "cell_type": "code",
   "execution_count": 5,
   "id": "4768af99-f1f9-4f57-8059-0133d9623a6f",
   "metadata": {},
   "outputs": [
    {
     "name": "stdout",
     "output_type": "stream",
     "text": [
      "[[0.26761997]\n",
      " [1.2778031 ]]\n",
      "[0.]\n"
     ]
    }
   ],
   "source": [
    "w, b = dense.get_weights()\n",
    "print( w )\n",
    "print( b )"
   ]
  },
  {
   "cell_type": "code",
   "execution_count": null,
   "id": "7c84e9d8-658b-4a58-8cba-971cf9e4c792",
   "metadata": {},
   "outputs": [],
   "source": [
    "dense = Dense( units=1, input_dim=2, activation='sigmoid')\n",
    "model = Sequential( [dense] )\n",
    "model.compile( loss='binary_crossentropy', optimizer= Adam(0.1), metrics=['acc'] )\n",
    "h = model.fit( x_data, y_data, epochs=500)"
   ]
  },
  {
   "cell_type": "code",
   "execution_count": 10,
   "id": "d57e82ca-000b-463c-8470-fbc2499e9eb3",
   "metadata": {},
   "outputs": [
    {
     "data": {
      "text/plain": [
       "1"
      ]
     },
     "execution_count": 10,
     "metadata": {},
     "output_type": "execute_result"
    }
   ],
   "source": [
    "True+0"
   ]
  },
  {
   "cell_type": "code",
   "execution_count": 11,
   "id": "6275969e-1739-4653-b7b4-4ebe3450c33b",
   "metadata": {},
   "outputs": [
    {
     "data": {
      "text/plain": [
       "0"
      ]
     },
     "execution_count": 11,
     "metadata": {},
     "output_type": "execute_result"
    }
   ],
   "source": [
    "False + 0 "
   ]
  },
  {
   "cell_type": "code",
   "execution_count": 12,
   "id": "7bb3c6c0-15b5-4318-ab7b-d77d52aba02a",
   "metadata": {},
   "outputs": [
    {
     "data": {
      "text/plain": [
       "1"
      ]
     },
     "execution_count": 12,
     "metadata": {},
     "output_type": "execute_result"
    }
   ],
   "source": [
    "(0.7>0.5) + 0"
   ]
  },
  {
   "cell_type": "code",
   "execution_count": 20,
   "id": "cdc6fc37-0142-4ef8-ad77-11b1695e2dc4",
   "metadata": {},
   "outputs": [
    {
     "name": "stdout",
     "output_type": "stream",
     "text": [
      "1/1 [==============================] - 0s 10ms/step\n"
     ]
    },
    {
     "data": {
      "text/plain": [
       "array([[0],\n",
       "       [0],\n",
       "       [0],\n",
       "       [1],\n",
       "       [1],\n",
       "       [1]])"
      ]
     },
     "execution_count": 20,
     "metadata": {},
     "output_type": "execute_result"
    }
   ],
   "source": [
    "# dense(x_data ) > 0.5 \n",
    "p = (model.predict( x_data ) > 0.5 ) + 0\n",
    "p"
   ]
  },
  {
   "cell_type": "code",
   "execution_count": 19,
   "id": "5da7e204-5e05-4cee-80f4-69eab2b9b0ee",
   "metadata": {},
   "outputs": [
    {
     "name": "stdout",
     "output_type": "stream",
     "text": [
      "1/1 [==============================] - 0s 35ms/step\n"
     ]
    },
    {
     "data": {
      "text/plain": [
       "array([[0.9981926]], dtype=float32)"
      ]
     },
     "execution_count": 19,
     "metadata": {},
     "output_type": "execute_result"
    }
   ],
   "source": [
    "model.predict( [[5,6]])"
   ]
  },
  {
   "cell_type": "code",
   "execution_count": 23,
   "id": "67f2f890-a76a-4b35-bbb5-47a942c7238e",
   "metadata": {},
   "outputs": [
    {
     "data": {
      "text/plain": [
       "1.0"
      ]
     },
     "execution_count": 23,
     "metadata": {},
     "output_type": "execute_result"
    }
   ],
   "source": [
    "(y_data == p).mean()"
   ]
  }
 ],
 "metadata": {
  "kernelspec": {
   "display_name": "Python 3 (ipykernel)",
   "language": "python",
   "name": "python3"
  },
  "language_info": {
   "codemirror_mode": {
    "name": "ipython",
    "version": 3
   },
   "file_extension": ".py",
   "mimetype": "text/x-python",
   "name": "python",
   "nbconvert_exporter": "python",
   "pygments_lexer": "ipython3",
   "version": "3.8.8"
  }
 },
 "nbformat": 4,
 "nbformat_minor": 5
}
 

