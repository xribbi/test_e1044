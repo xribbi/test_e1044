{
 "cells": [
  {
   "cell_type": "code",
   "execution_count": 7,
   "id": "49bb800c-479f-4bc7-849d-e4b3c95f069e",
   "metadata": {},
   "outputs": [
    {
     "name": "stdout",
     "output_type": "stream",
     "text": [
      "Requirement already satisfied: scikit-learn in c:\\python38\\lib\\site-packages (1.3.2)\n",
      "Requirement already satisfied: numpy<2.0,>=1.17.3 in c:\\python38\\lib\\site-packages (from scikit-learn) (1.24.3)\n",
      "Requirement already satisfied: scipy>=1.5.0 in c:\\python38\\lib\\site-packages (from scikit-learn) (1.10.1)\n",
      "Requirement already satisfied: joblib>=1.1.1 in c:\\python38\\lib\\site-packages (from scikit-learn) (1.4.0)\n",
      "Requirement already satisfied: threadpoolctl>=2.0.0 in c:\\python38\\lib\\site-packages (from scikit-learn) (3.4.0)\n"
     ]
    }
   ],
   "source": [
    "!pip install scikit-learn"
   ]
  },
  {
   "cell_type": "code",
   "execution_count": 8,
   "id": "72ef14af-28d5-4b0e-a22f-e90b9c2f1f8d",
   "metadata": {},
   "outputs": [],
   "source": [
    "import tensorflow as tf\n",
    "from tensorflow.keras import Sequential\n",
    "from tensorflow.keras.layers import Dense\n",
    "from tensorflow.keras.optimizers import Adam\n",
    "from sklearn.preprocessing import MinMaxScaler, StandardScaler\n",
    "import numpy as np\n",
    "import pandas as pd\n",
    "import matplotlib.pyplot as plt"
   ]
  },
  {
   "cell_type": "code",
   "execution_count": 2,
   "id": "0397f7f2-6ca1-4821-a4f9-574c058e551d",
   "metadata": {},
   "outputs": [],
   "source": [
    "data = [[828, 920, 1234567, 1020, 1111],\n",
    "            [824, 910, 2345612, 1090, 1234],\n",
    "            [880, 900, 3456123, 1010, 1000],\n",
    "            [870, 990, 2312123, 1001, 1122],\n",
    "            [860, 980, 3223123, 1008, 1133],\n",
    "            [850, 970, 2432123, 1100, 1221]]\n",
    "data = np.float32(data)"
   ]
  },
  {
   "cell_type": "code",
   "execution_count": null,
   "id": "b5f8ef69-53e0-4013-9879-424b714a602b",
   "metadata": {
    "scrolled": true
   },
   "outputs": [],
   "source": [
    "df = pd.DataFrame( data )\n",
    "df"
   ]
  },
  {
   "cell_type": "code",
   "execution_count": 6,
   "id": "2c36a080-9fd2-4fee-b2aa-a01dc50e5cfe",
   "metadata": {},
   "outputs": [],
   "source": [
    "x_data = df.iloc[:,:-1]\n",
    "y_data = df.iloc[:,[-1] ]"
   ]
  },
  {
   "cell_type": "code",
   "execution_count": 9,
   "id": "4e9ab91e-5255-47c0-a2f7-0529176400d8",
   "metadata": {},
   "outputs": [],
   "source": [
    "scaleF = MinMaxScaler()\n",
    "x_dataN = scaleF.fit_transform( x_data )"
   ]
  },
  {
   "cell_type": "code",
   "execution_count": 15,
   "id": "98580f5c-c5c8-4fe7-a366-06f03c40c00a",
   "metadata": {},
   "outputs": [
    {
     "data": {
      "text/plain": [
       "(6, 4)"
      ]
     },
     "execution_count": 15,
     "metadata": {},
     "output_type": "execute_result"
    }
   ],
   "source": [
    "x_dataN.shape"
   ]
  },
  {
   "cell_type": "code",
   "execution_count": 13,
   "id": "0f8abd3a-738c-499f-9336-2007ff2905d7",
   "metadata": {},
   "outputs": [],
   "source": [
    "scaleL = MinMaxScaler()\n",
    "y_dataN = scaleL.fit_transform( y_data )"
   ]
  },
  {
   "cell_type": "code",
   "execution_count": null,
   "id": "9751cc61-821d-4fa4-a3a7-7337b61f360c",
   "metadata": {},
   "outputs": [],
   "source": [
    "dense = Dense( units=1, input_dim=4)\n",
    "model = Sequential( [dense] )\n",
    "model.compile( loss='mse', optimizer=Adam(0.1))\n",
    "h = model.fit( x_dataN, y_dataN, epochs=500)"
   ]
  },
  {
   "cell_type": "code",
   "execution_count": 18,
   "id": "82b096c3-ca46-4b26-bfe2-1d2bf8a3a03e",
   "metadata": {},
   "outputs": [
    {
     "data": {
      "text/plain": [
       "array([[7.14281425e-02, 2.22222470e-01, 1.00739044e-08, 1.91919606e-01]])"
      ]
     },
     "execution_count": 18,
     "metadata": {},
     "output_type": "execute_result"
    }
   ],
   "source": [
    "#828, 920, 1234567, 1020\n",
    "xn = scaleF.transform( [[828, 920, 1234567, 1020]])\n",
    "xn"
   ]
  },
  {
   "cell_type": "code",
   "execution_count": 20,
   "id": "e292fd9b-36f3-43bf-8d23-70423df11512",
   "metadata": {},
   "outputs": [
    {
     "name": "stdout",
     "output_type": "stream",
     "text": [
      "1/1 [==============================] - 0s 19ms/step\n"
     ]
    },
    {
     "data": {
      "text/plain": [
       "array([[1122.8623]], dtype=float32)"
      ]
     },
     "execution_count": 20,
     "metadata": {},
     "output_type": "execute_result"
    }
   ],
   "source": [
    "p = model.predict( xn )\n",
    "scaleL.inverse_transform( p )"
   ]
  },
  {
   "cell_type": "code",
   "execution_count": 17,
   "id": "8ed66ced-3235-4da5-bfa0-7bb2f7170eeb",
   "metadata": {},
   "outputs": [
    {
     "data": {
      "text/html": [
       "<div>\n",
       "<style scoped>\n",
       "    .dataframe tbody tr th:only-of-type {\n",
       "        vertical-align: middle;\n",
       "    }\n",
       "\n",
       "    .dataframe tbody tr th {\n",
       "        vertical-align: top;\n",
       "    }\n",
       "\n",
       "    .dataframe thead th {\n",
       "        text-align: right;\n",
       "    }\n",
       "</style>\n",
       "<table border=\"1\" class=\"dataframe\">\n",
       "  <thead>\n",
       "    <tr style=\"text-align: right;\">\n",
       "      <th></th>\n",
       "      <th>0</th>\n",
       "      <th>1</th>\n",
       "      <th>2</th>\n",
       "      <th>3</th>\n",
       "      <th>4</th>\n",
       "    </tr>\n",
       "  </thead>\n",
       "  <tbody>\n",
       "    <tr>\n",
       "      <th>0</th>\n",
       "      <td>828.0</td>\n",
       "      <td>920.0</td>\n",
       "      <td>1234567.0</td>\n",
       "      <td>1020.0</td>\n",
       "      <td>1111.0</td>\n",
       "    </tr>\n",
       "    <tr>\n",
       "      <th>1</th>\n",
       "      <td>824.0</td>\n",
       "      <td>910.0</td>\n",
       "      <td>2345612.0</td>\n",
       "      <td>1090.0</td>\n",
       "      <td>1234.0</td>\n",
       "    </tr>\n",
       "    <tr>\n",
       "      <th>2</th>\n",
       "      <td>880.0</td>\n",
       "      <td>900.0</td>\n",
       "      <td>3456123.0</td>\n",
       "      <td>1010.0</td>\n",
       "      <td>1000.0</td>\n",
       "    </tr>\n",
       "    <tr>\n",
       "      <th>3</th>\n",
       "      <td>870.0</td>\n",
       "      <td>990.0</td>\n",
       "      <td>2312123.0</td>\n",
       "      <td>1001.0</td>\n",
       "      <td>1122.0</td>\n",
       "    </tr>\n",
       "    <tr>\n",
       "      <th>4</th>\n",
       "      <td>860.0</td>\n",
       "      <td>980.0</td>\n",
       "      <td>3223123.0</td>\n",
       "      <td>1008.0</td>\n",
       "      <td>1133.0</td>\n",
       "    </tr>\n",
       "    <tr>\n",
       "      <th>5</th>\n",
       "      <td>850.0</td>\n",
       "      <td>970.0</td>\n",
       "      <td>2432123.0</td>\n",
       "      <td>1100.0</td>\n",
       "      <td>1221.0</td>\n",
       "    </tr>\n",
       "  </tbody>\n",
       "</table>\n",
       "</div>"
      ],
      "text/plain": [
       "       0      1          2       3       4\n",
       "0  828.0  920.0  1234567.0  1020.0  1111.0\n",
       "1  824.0  910.0  2345612.0  1090.0  1234.0\n",
       "2  880.0  900.0  3456123.0  1010.0  1000.0\n",
       "3  870.0  990.0  2312123.0  1001.0  1122.0\n",
       "4  860.0  980.0  3223123.0  1008.0  1133.0\n",
       "5  850.0  970.0  2432123.0  1100.0  1221.0"
      ]
     },
     "execution_count": 17,
     "metadata": {},
     "output_type": "execute_result"
    }
   ],
   "source": [
    "df"
   ]
  }
 ],
 "metadata": {
  "kernelspec": {
   "display_name": "Python 3 (ipykernel)",
   "language": "python",
   "name": "python3"
  },
  "language_info": {
   "codemirror_mode": {
    "name": "ipython",
    "version": 3
   },
   "file_extension": ".py",
   "mimetype": "text/x-python",
   "name": "python",
   "nbconvert_exporter": "python",
   "pygments_lexer": "ipython3",
   "version": "3.8.8"
  }
 },
 "nbformat": 4,
 "nbformat_minor": 5
}
