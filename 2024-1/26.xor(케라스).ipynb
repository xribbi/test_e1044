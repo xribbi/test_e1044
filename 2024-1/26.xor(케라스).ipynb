{
 "cells": [
  {
   "cell_type": "code",
   "execution_count": 1,
   "id": "9a0d8b46-b570-45e2-b364-7fc08ccf0b9c",
   "metadata": {},
   "outputs": [],
   "source": [
    "import tensorflow as tf\n",
    "from tensorflow.keras import Sequential\n",
    "from tensorflow.keras.layers import Dense\n",
    "from tensorflow.keras.optimizers import Adam\n",
    "import numpy as np\n",
    "import pandas as pd\n",
    "import matplotlib.pyplot as plt"
   ]
  },
  {
   "cell_type": "code",
   "execution_count": 2,
   "id": "723cd681-72de-413a-a451-a550ade31f2e",
   "metadata": {},
   "outputs": [],
   "source": [
    "x_data = np.array( [[0,0],[0,1],[1,0],[1,1]])\n",
    "y_data = np.array( [[0],[1],[1],[0]] )"
   ]
  },
  {
   "cell_type": "code",
   "execution_count": null,
   "id": "24055c35-f0bd-468a-8a46-79380ec4b6a8",
   "metadata": {},
   "outputs": [],
   "source": [
    "# z = matmul( x, w ) +b  hx = sigmoid( z )\n",
    "dense = Dense( units=1, input_dim=2, activation='sigmoid')\n",
    "dense(x_data)>0.5"
   ]
  },
  {
   "cell_type": "code",
   "execution_count": 5,
   "id": "b1921f99-65ff-4a25-81e7-f7e1601c5eba",
   "metadata": {},
   "outputs": [
    {
     "name": "stdout",
     "output_type": "stream",
     "text": [
      "[[ 0.07128453]\n",
      " [-0.57855386]]\n"
     ]
    }
   ],
   "source": [
    "w, b= dense.get_weights()\n",
    "print( w )"
   ]
  },
  {
   "cell_type": "code",
   "execution_count": null,
   "id": "7815bcf5-6268-4ca0-b0be-eca27e84ea7d",
   "metadata": {},
   "outputs": [],
   "source": [
    "# w: 2x1, b:1\n",
    "dense = Dense( units=1, input_dim=2, activation='sigmoid')\n",
    "model = Sequential( [dense] )\n",
    "model.compile( loss='binary_crossentropy', optimizer=Adam( 0.1 ), metrics=['acc'])\n",
    "model.fit( x_data, y_data, epochs= 500 )"
   ]
  },
  {
   "cell_type": "code",
   "execution_count": null,
   "id": "4fb69943-cc10-4f92-9570-8c9f06b6242f",
   "metadata": {},
   "outputs": [],
   "source": [
    "# w1: 2x100, b1:100\n",
    "dense1 = Dense( units=100, input_dim=2, activation='sigmoid')\n",
    "# w2: 100x1, b2:1\n",
    "dense2 = Dense( units=1, input_dim=100, activation='sigmoid')\n",
    "model = Sequential( [dense1, dense2] )\n",
    "model.compile( loss='binary_crossentropy', optimizer=Adam( 0.1 ), metrics=['acc'])\n",
    "model.fit( x_data, y_data, epochs= 500 )"
   ]
  },
  {
   "cell_type": "markdown",
   "id": "ff84b54f-6e82-4060-98d8-d6e6c0d5f8b2",
   "metadata": {},
   "source": [
    "# dense1 학습된 weight\n",
    "z1 = matmul( x_data, w1 ) + b1\n",
    "hx1 = sigmoid( z1 )\n",
    "# dense2 학습된 weight\n",
    "z = matmul( hx1, w2) + b2\n",
    "hx = sigmoid( z )\n",
    "hx"
   ]
  },
  {
   "cell_type": "code",
   "execution_count": 11,
   "id": "a2857d08-7044-4408-b3e0-7aa06a424286",
   "metadata": {},
   "outputs": [
    {
     "data": {
      "text/plain": [
       "<tf.Tensor: shape=(4, 1), dtype=float32, numpy=\n",
       "array([[1.9606766e-04],\n",
       "       [9.9927181e-01],\n",
       "       [9.9926186e-01],\n",
       "       [8.2410732e-03]], dtype=float32)>"
      ]
     },
     "execution_count": 11,
     "metadata": {},
     "output_type": "execute_result"
    }
   ],
   "source": [
    "# z1 = matmul( x_data, w1 ) + b1\n",
    "# hx1 = sigmoid( z1 )\n",
    "hx1 = dense1( x_data ) # 4x2 2x100 ==> 4x100\n",
    "# z = matmul( hx1, w2 ) + b2\n",
    "# hx = sigmoid( z )\n",
    "hx = dense2( hx1 ) # 4x100 100x1  = 4x1\n",
    "hx"
   ]
  },
  {
   "cell_type": "code",
   "execution_count": 12,
   "id": "05c8a6c5-47f9-466b-aaff-0e80cccb76bb",
   "metadata": {},
   "outputs": [
    {
     "name": "stdout",
     "output_type": "stream",
     "text": [
      "1/1 [==============================] - 0s 21ms/step\n"
     ]
    },
    {
     "data": {
      "text/plain": [
       "array([[1.9606766e-04],\n",
       "       [9.9927181e-01],\n",
       "       [9.9926186e-01],\n",
       "       [8.2410732e-03]], dtype=float32)"
      ]
     },
     "execution_count": 12,
     "metadata": {},
     "output_type": "execute_result"
    }
   ],
   "source": [
    "model.predict( x_data )"
   ]
  },
  {
   "cell_type": "code",
   "execution_count": 9,
   "id": "f2550c3c-eb4a-43d4-a4e4-755b8088ab49",
   "metadata": {},
   "outputs": [
    {
     "name": "stdout",
     "output_type": "stream",
     "text": [
      "1/1 [==============================] - 0s 17ms/step\n"
     ]
    },
    {
     "data": {
      "text/plain": [
       "array([[False],\n",
       "       [ True],\n",
       "       [ True],\n",
       "       [False]])"
      ]
     },
     "execution_count": 9,
     "metadata": {},
     "output_type": "execute_result"
    }
   ],
   "source": [
    "model.predict( x_data )>0.5"
   ]
  },
  {
   "cell_type": "code",
   "execution_count": null,
   "id": "24e5cff6-ad48-4225-8d20-9084eb029bd7",
   "metadata": {},
   "outputs": [],
   "source": [
    "# w1: 2x64, b:64\n",
    "# w2: 64x32, b:32\n",
    "# w3: 32x1, b:1\n",
    "dense1 = Dense( units=64, input_dim=2, activation='sigmoid')\n",
    "dense2 = Dense( units=32, input_dim=64, activation='sigmoid')\n",
    "dense3 = Dense( units=1, input_dim=32, activation='sigmoid')\n",
    "model = Sequential( [dense1, dense2,dense3] )\n",
    "model.compile( loss='binary_crossentropy', optimizer=Adam( 0.1 ), metrics=['acc'])\n",
    "model.fit( x_data, y_data, epochs= 500 )"
   ]
  },
  {
   "cell_type": "code",
   "execution_count": null,
   "id": "ea3a1c0d-767a-41cc-b012-b4a627635f95",
   "metadata": {},
   "outputs": [],
   "source": []
  }
 ],
 "metadata": {
  "kernelspec": {
   "display_name": "Python 3 (ipykernel)",
   "language": "python",
   "name": "python3"
  },
  "language_info": {
   "codemirror_mode": {
    "name": "ipython",
    "version": 3
   },
   "file_extension": ".py",
   "mimetype": "text/x-python",
   "name": "python",
   "nbconvert_exporter": "python",
   "pygments_lexer": "ipython3",
   "version": "3.8.8"
  }
 },
 "nbformat": 4,
 "nbformat_minor": 5
}
 

