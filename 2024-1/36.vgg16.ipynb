{
 "cells": [
  {
   "cell_type": "code",
   "execution_count": 6,
   "id": "bae22ba1-c9d9-4a63-90b6-b1cd63c358be",
   "metadata": {},
   "outputs": [],
   "source": [
    "from tensorflow.keras.applications import vgg16\n",
    "from tensorflow.keras.preprocessing.image import load_img, img_to_array"
   ]
  },
  {
   "cell_type": "code",
   "execution_count": 4,
   "id": "cfec4aca-16ca-4a05-8080-7d15e947c3a6",
   "metadata": {},
   "outputs": [
    {
     "name": "stdout",
     "output_type": "stream",
     "text": [
      "Downloading data from https://storage.googleapis.com/tensorflow/keras-applications/vgg16/vgg16_weights_tf_dim_ordering_tf_kernels.h5\n",
      "553467096/553467096 [==============================] - 52s 0us/step\n"
     ]
    }
   ],
   "source": [
    "modelVgg16 = vgg16.VGG16()"
   ]
  },
  {
   "cell_type": "code",
   "execution_count": null,
   "id": "2198e2c6-1f78-44b1-897d-3d38516c9993",
   "metadata": {},
   "outputs": [],
   "source": [
    "modelVgg16.summary()"
   ]
  },
  {
   "cell_type": "code",
   "execution_count": null,
   "id": "dca89ae6-636e-4fdf-8965-059e60ed2049",
   "metadata": {},
   "outputs": [],
   "source": [
    "testImg = load_img( 'test.jpg', target_size=(224,224))\n",
    "testImg"
   ]
  },
  {
   "cell_type": "code",
   "execution_count": 10,
   "id": "6234caf1-0f46-40da-93a1-bfef904d8852",
   "metadata": {},
   "outputs": [
    {
     "data": {
      "text/plain": [
       "(224, 224, 3)"
      ]
     },
     "execution_count": 10,
     "metadata": {},
     "output_type": "execute_result"
    }
   ],
   "source": [
    "imgArr = img_to_array( testImg )\n",
    "imgArr.shape"
   ]
  },
  {
   "cell_type": "code",
   "execution_count": null,
   "id": "3e5331e2-8e71-4ee3-b00d-2f712dd2ad99",
   "metadata": {},
   "outputs": [],
   "source": [
    "pred = modelVgg16.predict( vgg16.preprocess_input( imgArr.reshape(1,224,224,3)) ) \n",
    "pred"
   ]
  },
  {
   "cell_type": "code",
   "execution_count": 13,
   "id": "dbcecfe2-5cf8-4d05-a8cf-6852933c3fa5",
   "metadata": {},
   "outputs": [
    {
     "name": "stdout",
     "output_type": "stream",
     "text": [
      "Downloading data from https://storage.googleapis.com/download.tensorflow.org/data/imagenet_class_index.json\n",
      "35363/35363 [==============================] - 0s 3us/step\n"
     ]
    },
    {
     "data": {
      "text/plain": [
       "[[('n02123394', 'Persian_cat', 0.43839672),\n",
       "  ('n02120079', 'Arctic_fox', 0.42778412),\n",
       "  ('n02114548', 'white_wolf', 0.020798575),\n",
       "  ('n02111889', 'Samoyed', 0.01607536),\n",
       "  ('n02109961', 'Eskimo_dog', 0.013662888)]]"
      ]
     },
     "execution_count": 13,
     "metadata": {},
     "output_type": "execute_result"
    }
   ],
   "source": [
    "vgg16.decode_predictions( pred )"
   ]
  },
  {
   "cell_type": "code",
   "execution_count": null,
   "id": "0b4b21b3-726c-4c7c-999c-f7ffdc6eaedd",
   "metadata": {},
   "outputs": [],
   "source": [
    "### 머그컵 이미지 예측"
   ]
  },
  {
   "cell_type": "code",
   "execution_count": 12,
   "id": "7350d215-04d4-4486-ae68-8b8f3faa7d15",
   "metadata": {},
   "outputs": [
    {
     "data": {
      "text/plain": [
       "(1, 1000)"
      ]
     },
     "execution_count": 12,
     "metadata": {},
     "output_type": "execute_result"
    }
   ],
   "source": [
    "pred.shape"
   ]
  }
 ],
 "metadata": {
  "kernelspec": {
   "display_name": "Python 3 (ipykernel)",
   "language": "python",
   "name": "python3"
  },
  "language_info": {
   "codemirror_mode": {
    "name": "ipython",
    "version": 3
   },
   "file_extension": ".py",
   "mimetype": "text/x-python",
   "name": "python",
   "nbconvert_exporter": "python",
   "pygments_lexer": "ipython3",
   "version": "3.8.8"
  }
 },
 "nbformat": 4,
 "nbformat_minor": 5
}
 

