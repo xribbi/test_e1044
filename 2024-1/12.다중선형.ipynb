{
 "cells": [
  {
   "cell_type": "code",
   "execution_count": 1,
   "id": "d5c30950-debe-4c73-ae04-2e987a386881",
   "metadata": {},
   "outputs": [],
   "source": [
    "import tensorflow as tf\n",
    "from tensorflow.keras.optimizers import Adam\n",
    "import numpy as np\n",
    "import matplotlib.pyplot as plt\n",
    "import pandas as pd"
   ]
  },
  {
   "cell_type": "code",
   "execution_count": 3,
   "id": "25c42495-afbe-493d-9004-760828c8d533",
   "metadata": {},
   "outputs": [],
   "source": [
    "x1_data = [1,0,3,4,5] # 공부한시간\n",
    "x2_data = [0,1,2,3,4] # 출석일수\n",
    "y_data = [1,2,3,4,5] #점수"
   ]
  },
  {
   "cell_type": "code",
   "execution_count": 4,
   "id": "2fd7be07-1d8f-4155-a53b-901a835d078d",
   "metadata": {},
   "outputs": [],
   "source": [
    "x1 = tf.constant( x1_data, tf.float32)\n",
    "x2 = tf.constant( x2_data, tf.float32)\n",
    "y = tf.constant( y_data, tf.float32)"
   ]
  },
  {
   "cell_type": "code",
   "execution_count": 6,
   "id": "babd6dca-4214-4177-90d2-bf6f3b3fe76f",
   "metadata": {},
   "outputs": [],
   "source": [
    "w1 = tf.Variable( tf.random.uniform( [1] ) )\n",
    "w2 = tf.Variable( tf.random.uniform( [1] ) )\n",
    "b = tf.Variable( tf.random.uniform( [1] ) )"
   ]
  },
  {
   "cell_type": "code",
   "execution_count": 7,
   "id": "dfc39496-13be-4a88-aedc-0388b0286726",
   "metadata": {},
   "outputs": [],
   "source": [
    "def compute_loss():\n",
    "    hx = w1*x1 + w2*x2 + b\n",
    "    c = tf.reduce_mean( (hx-y)**2 )\n",
    "    return c"
   ]
  },
  {
   "cell_type": "code",
   "execution_count": null,
   "id": "0ff9fc32-c2e7-48ca-8746-362fb4585dd2",
   "metadata": {},
   "outputs": [],
   "source": [
    "optimizer = Adam( 0.1)\n",
    "for i in range(1000):\n",
    "    optimizer.minimize( compute_loss, var_list=[w1,w2,b] )\n",
    "    print( 'i=', i, compute_loss().numpy() )"
   ]
  },
  {
   "cell_type": "code",
   "execution_count": 9,
   "id": "4daee403-95e7-468c-9d3b-fb7103aa6977",
   "metadata": {},
   "outputs": [
    {
     "data": {
      "text/plain": [
       "<tf.Variable 'Variable:0' shape=(1,) dtype=float32, numpy=array([5.5142003e-08], dtype=float32)>"
      ]
     },
     "execution_count": 9,
     "metadata": {},
     "output_type": "execute_result"
    }
   ],
   "source": [
    "w1"
   ]
  }
 ],
 "metadata": {
  "kernelspec": {
   "display_name": "Python 3 (ipykernel)",
   "language": "python",
   "name": "python3"
  },
  "language_info": {
   "codemirror_mode": {
    "name": "ipython",
    "version": 3
   },
   "file_extension": ".py",
   "mimetype": "text/x-python",
   "name": "python",
   "nbconvert_exporter": "python",
   "pygments_lexer": "ipython3",
   "version": "3.8.8"
  }
 },
 "nbformat": 4,
 "nbformat_minor": 5
}
 

