{
 "cells": [
  {
   "cell_type": "code",
   "execution_count": 127,
   "id": "43143ec9-3889-4260-a51e-a6d6d3cd4ca7",
   "metadata": {},
   "outputs": [],
   "source": [
    "## boston data (low, high)\n",
    "## 1. 정규화 (특성데이터만)\n",
    "## 2. train, test \n",
    "## 3. train 0번째 행의 medv 예측\n",
    "## 4. train, test 결정계수값을 구하시오."
   ]
  },
  {
   "cell_type": "code",
   "execution_count": 1,
   "id": "22396ce6-106e-4fc0-9e42-76ed5bb78879",
   "metadata": {},
   "outputs": [],
   "source": [
    "import tensorflow as tf\n",
    "from tensorflow.keras import Sequential\n",
    "from tensorflow.keras.layers import Dense\n",
    "from tensorflow.keras.optimizers import Adam\n",
    "from sklearn.preprocessing import MinMaxScaler, StandardScaler\n",
    "from sklearn.model_selection import train_test_split\n",
    "from sklearn.metrics import r2_score\n",
    "import numpy as np\n",
    "import pandas as pd\n",
    "import matplotlib.pyplot as plt"
   ]
  },
  {
   "cell_type": "code",
   "execution_count": null,
   "id": "d9fcbcaa-32b7-405e-8a30-83159fdda2cc",
   "metadata": {},
   "outputs": [],
   "source": [
    "bostonDF = pd.read_csv('data/BostonHousing.csv')\n",
    "bostonDF"
   ]
  },
  {
   "cell_type": "code",
   "execution_count": 3,
   "id": "163a197d-39cc-47e4-be16-b5877a700061",
   "metadata": {},
   "outputs": [],
   "source": [
    "x_data = bostonDF.iloc[:,:-1].values\n",
    "y_data = bostonDF.iloc[:,[-1]].values"
   ]
  },
  {
   "cell_type": "code",
   "execution_count": 131,
   "id": "ade9e666-4263-4719-a530-1d9829ec05ec",
   "metadata": {},
   "outputs": [],
   "source": [
    "## 정규화"
   ]
  },
  {
   "cell_type": "code",
   "execution_count": 4,
   "id": "f448641c-296d-4458-a115-0de7e6e1cadf",
   "metadata": {},
   "outputs": [],
   "source": [
    "scaleF = MinMaxScaler()\n",
    "x_dataN = scaleF.fit_transform(x_data)"
   ]
  },
  {
   "cell_type": "code",
   "execution_count": 6,
   "id": "fe64d0cf-aee1-4599-80e1-d17148e12bf1",
   "metadata": {},
   "outputs": [],
   "source": [
    "## train/test set 분리"
   ]
  },
  {
   "cell_type": "code",
   "execution_count": 5,
   "id": "e7b64058-d0db-4b7d-abf9-5467994156c7",
   "metadata": {},
   "outputs": [],
   "source": [
    "x_train, x_test, y_train,y_test = train_test_split(x_dataN, y_data, test_size = 0.3)"
   ]
  },
  {
   "cell_type": "code",
   "execution_count": 7,
   "id": "43af5025-591e-4dc2-b39b-d29d7890fb47",
   "metadata": {},
   "outputs": [],
   "source": [
    "## high level"
   ]
  },
  {
   "cell_type": "code",
   "execution_count": 8,
   "id": "6b710ebc-88c3-49d9-bbba-8561b5ed52c1",
   "metadata": {},
   "outputs": [
    {
     "data": {
      "text/plain": [
       "(354, 13)"
      ]
     },
     "execution_count": 8,
     "metadata": {},
     "output_type": "execute_result"
    }
   ],
   "source": [
    "x_train.shape"
   ]
  },
  {
   "cell_type": "code",
   "execution_count": null,
   "id": "1625c478-7dab-4d7e-9f0f-9ed37cb73cbb",
   "metadata": {},
   "outputs": [],
   "source": [
    "dense = Dense (units = 1, input_dim =13)\n",
    "model_high = Sequential( [dense] )\n",
    "model_high.compile (loss = 'mse', optimizer = Adam (learning_rate = 0.1))\n",
    "h = model_high.fit(x_train, y_train, epochs = 500)"
   ]
  },
  {
   "cell_type": "code",
   "execution_count": 137,
   "id": "8256fc3e-7b80-41c0-ac0d-b97b2435c094",
   "metadata": {},
   "outputs": [],
   "source": [
    "## train 0번행 medv 예측"
   ]
  },
  {
   "cell_type": "code",
   "execution_count": 16,
   "id": "9ee363f4-d75c-4d01-9843-06f5f247fe88",
   "metadata": {},
   "outputs": [
    {
     "name": "stdout",
     "output_type": "stream",
     "text": [
      "1/1 [==============================] - 0s 53ms/step\n"
     ]
    },
    {
     "data": {
      "text/plain": [
       "array([[35.60463]], dtype=float32)"
      ]
     },
     "execution_count": 16,
     "metadata": {},
     "output_type": "execute_result"
    }
   ],
   "source": [
    "model_high.predict( x_train[0].reshape(1,-1) )"
   ]
  },
  {
   "cell_type": "code",
   "execution_count": 141,
   "id": "dd515573-0834-490c-91e4-c1905c8b7fc3",
   "metadata": {},
   "outputs": [],
   "source": [
    "## 결정계수 "
   ]
  },
  {
   "cell_type": "code",
   "execution_count": 17,
   "id": "ce234ab4-d05e-467a-8426-dd4996d5825a",
   "metadata": {},
   "outputs": [
    {
     "name": "stdout",
     "output_type": "stream",
     "text": [
      "12/12 [==============================] - 0s 0s/step\n"
     ]
    }
   ],
   "source": [
    "pred_high = model_high.predict(x_train)"
   ]
  },
  {
   "cell_type": "code",
   "execution_count": 18,
   "id": "0d9677e5-d853-4c7b-8680-86a7338414c8",
   "metadata": {},
   "outputs": [
    {
     "data": {
      "text/plain": [
       "0.7531510924876552"
      ]
     },
     "execution_count": 18,
     "metadata": {},
     "output_type": "execute_result"
    }
   ],
   "source": [
    "r2_score(y_train, pred_high)"
   ]
  },
  {
   "cell_type": "code",
   "execution_count": 20,
   "id": "0e9d2393-bd73-47a4-9deb-336e8635c1b0",
   "metadata": {},
   "outputs": [
    {
     "name": "stdout",
     "output_type": "stream",
     "text": [
      "5/5 [==============================] - 0s 1ms/step\n"
     ]
    }
   ],
   "source": [
    "pred_test_high = model_high.predict(x_test)"
   ]
  },
  {
   "cell_type": "code",
   "execution_count": 21,
   "id": "0ec54337-c322-456b-9416-6c73a90b2f24",
   "metadata": {},
   "outputs": [
    {
     "data": {
      "text/plain": [
       "0.6954780279642503"
      ]
     },
     "execution_count": 21,
     "metadata": {},
     "output_type": "execute_result"
    }
   ],
   "source": [
    "r2_score(y_test, pred_test_high)"
   ]
  },
  {
   "cell_type": "code",
   "execution_count": 22,
   "id": "22e32b93-6070-4be4-a23f-c97963e2f828",
   "metadata": {},
   "outputs": [],
   "source": [
    "## low level"
   ]
  },
  {
   "cell_type": "code",
   "execution_count": 25,
   "id": "5db95102-7ed0-4f54-80fa-1aa0e1c8237b",
   "metadata": {},
   "outputs": [],
   "source": [
    "x = tf.constant(x_train, tf.float32)\n",
    "y = tf.constant(y_train, tf.float32)"
   ]
  },
  {
   "cell_type": "code",
   "execution_count": 24,
   "id": "2bd62ba5-1575-47d2-a4bf-fac9501b7846",
   "metadata": {},
   "outputs": [],
   "source": [
    "w = tf.Variable(tf.random.uniform([13,1]))\n",
    "b = tf.Variable(tf.random.uniform([1]))"
   ]
  },
  {
   "cell_type": "code",
   "execution_count": 26,
   "id": "0ebdfad8-0578-4767-b7b7-306f47c4cc3c",
   "metadata": {},
   "outputs": [],
   "source": [
    "def compute_loss():\n",
    "    hx = tf.matmul(x,w) + b\n",
    "    c = tf.reduce_mean((hx - y)**2)\n",
    "    return c"
   ]
  },
  {
   "cell_type": "code",
   "execution_count": null,
   "id": "aca0ddf2-5b28-495c-9bff-fe2055dbd66d",
   "metadata": {},
   "outputs": [],
   "source": [
    "optimizer = Adam(0.1)\n",
    "for i in range(500):\n",
    "    optimizer.minimize(compute_loss, var_list = [w,b])\n",
    "    c = compute_loss().numpy()\n",
    "    print ('epoch=',i+1, 'cost = ',c)"
   ]
  },
  {
   "cell_type": "code",
   "execution_count": 28,
   "id": "3dce770b-19c1-4a59-bddf-a614b6ccdae9",
   "metadata": {},
   "outputs": [],
   "source": [
    "def hxfn (xdata):\n",
    "    xd = tf.constant(xdata, tf.float32) \n",
    "    hx = tf.matmul(xd, w) + b\n",
    "    return hx.numpy()"
   ]
  },
  {
   "cell_type": "code",
   "execution_count": 29,
   "id": "f4c0d38d-1d2c-498e-934a-4f59e9029e74",
   "metadata": {},
   "outputs": [
    {
     "data": {
      "text/plain": [
       "array([[29.25648]], dtype=float32)"
      ]
     },
     "execution_count": 29,
     "metadata": {},
     "output_type": "execute_result"
    }
   ],
   "source": [
    "hxfn( x_train[0].reshape(1,-1) )"
   ]
  },
  {
   "cell_type": "code",
   "execution_count": 166,
   "id": "3e789fdf-2e0f-424c-94a3-d815892c9394",
   "metadata": {},
   "outputs": [],
   "source": [
    "## 결정계수"
   ]
  },
  {
   "cell_type": "code",
   "execution_count": 30,
   "id": "e194bcb3-07b1-4062-816d-36dc3d0c171d",
   "metadata": {},
   "outputs": [],
   "source": [
    "pred_low = hxfn(x_train)"
   ]
  },
  {
   "cell_type": "code",
   "execution_count": 31,
   "id": "9b9dec94-5ee4-4bc8-bb12-04de700b1617",
   "metadata": {},
   "outputs": [
    {
     "data": {
      "text/plain": [
       "0.6371757716132929"
      ]
     },
     "execution_count": 31,
     "metadata": {},
     "output_type": "execute_result"
    }
   ],
   "source": [
    "r2_score(y_train, pred_low)"
   ]
  },
  {
   "cell_type": "code",
   "execution_count": 32,
   "id": "f4dbdcae-1163-49ca-b3ec-009f090df8bf",
   "metadata": {},
   "outputs": [],
   "source": [
    "pred_low_test = hxfn(x_test)"
   ]
  },
  {
   "cell_type": "code",
   "execution_count": 33,
   "id": "03bdfabe-452c-4d40-bb9a-2c0648dac0d8",
   "metadata": {},
   "outputs": [
    {
     "data": {
      "text/plain": [
       "0.5668740132718499"
      ]
     },
     "execution_count": 33,
     "metadata": {},
     "output_type": "execute_result"
    }
   ],
   "source": [
    "r2_score(y_test, pred_low_test)"
   ]
  }
 ],
 "metadata": {
  "kernelspec": {
   "display_name": "Python 3 (ipykernel)",
   "language": "python",
   "name": "python3"
  },
  "language_info": {
   "codemirror_mode": {
    "name": "ipython",
    "version": 3
   },
   "file_extension": ".py",
   "mimetype": "text/x-python",
   "name": "python",
   "nbconvert_exporter": "python",
   "pygments_lexer": "ipython3",
   "version": "3.8.8"
  }
 },
 "nbformat": 4,
 "nbformat_minor": 5
}
