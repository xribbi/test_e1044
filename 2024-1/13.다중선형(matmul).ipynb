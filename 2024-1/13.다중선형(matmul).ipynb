{
 "cells": [
  {
   "cell_type": "code",
   "execution_count": 1,
   "id": "24260006-49fb-4fb3-a8f3-f1c7755e12f6",
   "metadata": {},
   "outputs": [],
   "source": [
    "import tensorflow as tf\n",
    "from tensorflow.keras.optimizers import Adam\n",
    "import numpy as np\n",
    "import matplotlib.pyplot as plt\n",
    "import pandas as pd"
   ]
  },
  {
   "cell_type": "code",
   "execution_count": 7,
   "id": "c7327ca7-ce7d-4fa5-ad79-fccaf8286e71",
   "metadata": {},
   "outputs": [
    {
     "data": {
      "text/plain": [
       "'2.13.0'"
      ]
     },
     "execution_count": 7,
     "metadata": {},
     "output_type": "execute_result"
    }
   ],
   "source": [
    "tf.__version__"
   ]
  },
  {
   "cell_type": "code",
   "execution_count": 4,
   "id": "58489462-244e-4ba3-bc79-aa885e7f5bbb",
   "metadata": {},
   "outputs": [],
   "source": [
    "# x1_data = [1,0,3,4,5] # 공부한시간\n",
    "# x2_data = [0,1,2,3,4] # 출석일수\n",
    "x_data = [[1,0],[0,1],[3,2],[4,3],[5,4]]\n",
    "y_data = [1,2,3,4,5] #점수"
   ]
  },
  {
   "cell_type": "code",
   "execution_count": 5,
   "id": "dc47a7dc-b175-47fd-b2cd-401a59ac7f57",
   "metadata": {},
   "outputs": [],
   "source": [
    "x = tf.constant( x_data, tf.float32) #5x2\n",
    "y = tf.constant( y_data, tf.float32)"
   ]
  },
  {
   "cell_type": "code",
   "execution_count": 6,
   "id": "6e408df5-2e38-477a-bca1-552e0907edba",
   "metadata": {},
   "outputs": [],
   "source": [
    "# w1 = tf.Variable( tf.random.uniform( [1] ) )\n",
    "# w2 = tf.Variable( tf.random.uniform( [1] ) )\n",
    "w = tf.Variable( tf.random.uniform( [2,1] ) ) #[특성데이터갯수, 라벨의갯수]\n",
    "b = tf.Variable( tf.random.uniform( [1] ) ) #[라벨의 갯수]"
   ]
  },
  {
   "cell_type": "code",
   "execution_count": null,
   "id": "df1a4579-ccd8-4cac-be5e-a8a2118e8a33",
   "metadata": {},
   "outputs": [],
   "source": [
    "def compute_loss():\n",
    "    # hx = w1*x1 + w2*x2 + b\n",
    "    hx = tf.matmul( x, w ) +b \n",
    "    c = tf.reduce_mean( (hx-y)**2 )\n",
    "    return c"
   ]
  },
  {
   "cell_type": "code",
   "execution_count": null,
   "id": "83a74ea4-7264-4892-ab11-323f2951500f",
   "metadata": {},
   "outputs": [],
   "source": [
    "df = pd.read_csv('data/test.csv', header=None)\n",
    "df.columns = ['q1','q2','mid','final']\n",
    "df"
   ]
  },
  {
   "cell_type": "code",
   "execution_count": 13,
   "id": "b1acd441-24f3-49ff-983f-27bbc192daef",
   "metadata": {},
   "outputs": [],
   "source": [
    "# df.iloc[행,열]\n",
    "x_data = df.iloc[:, :-1].values\n",
    "y_data = df.iloc[:, [-1]].values"
   ]
  },
  {
   "cell_type": "code",
   "execution_count": 15,
   "id": "c0d5c020-7c7c-4fce-8692-c7e13e27ba11",
   "metadata": {},
   "outputs": [
    {
     "data": {
      "text/plain": [
       "(25, 3)"
      ]
     },
     "execution_count": 15,
     "metadata": {},
     "output_type": "execute_result"
    }
   ],
   "source": [
    "x_data.shape"
   ]
  },
  {
   "cell_type": "code",
   "execution_count": 17,
   "id": "3cc42530-66a7-413a-bb5d-39a2f6a1896b",
   "metadata": {},
   "outputs": [
    {
     "data": {
      "text/plain": [
       "(25, 1)"
      ]
     },
     "execution_count": 17,
     "metadata": {},
     "output_type": "execute_result"
    }
   ],
   "source": [
    "y_data.shape"
   ]
  },
  {
   "cell_type": "code",
   "execution_count": 18,
   "id": "82dbf247-7c89-4a58-87fb-7f85d99fc579",
   "metadata": {},
   "outputs": [],
   "source": [
    "x = tf.constant( x_data, tf.float32)\n",
    "y = tf.constant( y_data, tf.float32)"
   ]
  },
  {
   "cell_type": "code",
   "execution_count": 19,
   "id": "f5f6e4d5-8856-47ff-973a-d96bf9e7d6f1",
   "metadata": {},
   "outputs": [],
   "source": [
    "w = tf.Variable( tf.random.uniform([3,1]))\n",
    "b = tf.Variable( tf.random.uniform([1]))"
   ]
  },
  {
   "cell_type": "code",
   "execution_count": 21,
   "id": "0b041043-e23a-4c48-b48b-ed1afd6c1755",
   "metadata": {},
   "outputs": [],
   "source": [
    "def compute_loss():\n",
    "    hx = tf.matmul( x, w) + b\n",
    "    c = tf.reduce_mean( (hx-y)**2)\n",
    "    return c"
   ]
  },
  {
   "cell_type": "code",
   "execution_count": null,
   "id": "8ce6047b-d61e-4fac-b708-5e834f78c0a7",
   "metadata": {},
   "outputs": [],
   "source": [
    "optimizer = Adam( 0.1 )\n",
    "for i in range(1000):\n",
    "    optimizer.minimize( compute_loss, var_list=[w,b])\n",
    "    c = compute_loss().numpy()\n",
    "    print( i, 'cost:', c)"
   ]
  },
  {
   "cell_type": "code",
   "execution_count": 27,
   "id": "c3a452f9-c855-442c-b0ed-3b3be39f3a0a",
   "metadata": {},
   "outputs": [],
   "source": [
    "def hxfn( xdata ):\n",
    "    xd = tf.constant( xdata, tf.float32)\n",
    "    hx = tf.matmul( xd, w) + b\n",
    "    return hx.numpy()"
   ]
  },
  {
   "cell_type": "code",
   "execution_count": 29,
   "id": "d6d6f474-ef88-4180-8dcd-cb7b3f639355",
   "metadata": {},
   "outputs": [
    {
     "data": {
      "text/plain": [
       "array([[189.41956]], dtype=float32)"
      ]
     },
     "execution_count": 29,
     "metadata": {},
     "output_type": "execute_result"
    }
   ],
   "source": [
    "hxfn( [[80,90,100]] )"
   ]
  },
  {
   "cell_type": "code",
   "execution_count": null,
   "id": "dc6a1be9-048d-4312-adc2-2a46d6a24299",
   "metadata": {},
   "outputs": [],
   "source": [
    "q1    q2   mid\n",
    "53,  46,  55\n",
    "47,  56,  60\n",
    "각각의 예측 최종점수를 구하시요"
   ]
  },
  {
   "cell_type": "code",
   "execution_count": 25,
   "id": "495488b2-a853-4ec9-868d-bf332df3bfff",
   "metadata": {},
   "outputs": [
    {
     "data": {
      "text/plain": [
       "array([[ 73,  80,  75],\n",
       "       [ 93,  88,  93],\n",
       "       [ 89,  91,  90],\n",
       "       [ 96,  98, 100],\n",
       "       [ 73,  66,  70],\n",
       "       [ 53,  46,  55],\n",
       "       [ 69,  74,  77],\n",
       "       [ 47,  56,  60],\n",
       "       [ 87,  79,  90],\n",
       "       [ 79,  70,  88],\n",
       "       [ 69,  70,  73],\n",
       "       [ 70,  65,  74],\n",
       "       [ 93,  95,  91],\n",
       "       [ 79,  80,  73],\n",
       "       [ 70,  73,  78],\n",
       "       [ 93,  89,  96],\n",
       "       [ 78,  75,  68],\n",
       "       [ 81,  90,  93],\n",
       "       [ 88,  92,  86],\n",
       "       [ 78,  83,  77],\n",
       "       [ 82,  86,  90],\n",
       "       [ 86,  82,  89],\n",
       "       [ 78,  83,  85],\n",
       "       [ 76,  83,  71],\n",
       "       [ 96,  93,  95]], dtype=int64)"
      ]
     },
     "execution_count": 25,
     "metadata": {},
     "output_type": "execute_result"
    }
   ],
   "source": [
    "x_data"
   ]
  }
 ],
 "metadata": {
  "kernelspec": {
   "display_name": "Python 3 (ipykernel)",
   "language": "python",
   "name": "python3"
  },
  "language_info": {
   "codemirror_mode": {
    "name": "ipython",
    "version": 3
   },
   "file_extension": ".py",
   "mimetype": "text/x-python",
   "name": "python",
   "nbconvert_exporter": "python",
   "pygments_lexer": "ipython3",
   "version": "3.8.8"
  }
 },
 "nbformat": 4,
 "nbformat_minor": 5
}
 

