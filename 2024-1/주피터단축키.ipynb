{
 "cells": [
  {
   "cell_type": "code",
   "execution_count": 3,
   "id": "f86a992d-1284-4ba8-b9d9-ddbdf98e1912",
   "metadata": {},
   "outputs": [
    {
     "name": "stdout",
     "output_type": "stream",
     "text": [
      "hello...\n"
     ]
    }
   ],
   "source": [
    "print('hello...')"
   ]
  },
  {
   "cell_type": "code",
   "execution_count": null,
   "id": "5666a52e-4f4c-404e-b0ed-fbb915439f86",
   "metadata": {},
   "outputs": [],
   "source": [
    "# print()"
   ]
  },
  {
   "cell_type": "code",
   "execution_count": null,
   "id": "17d872e1-d997-49e9-9d8d-3214e529377d",
   "metadata": {},
   "outputs": [],
   "source": [
    "- edit mode: ctrl + enter(실행), shift+enter(실행후 아래 셀추ㅁ가), \n",
    "shift+tab(도큐먼트), tab(자동완성), ctrl + / (주석및 제거)\n",
    "- command mode: a(위에 셀추가), b(아래셀추가), x(셀삭제), z(삭제된셀복원)\n",
    "\n",
    "ctrl + s : 저장"
   ]
  },
  {
   "cell_type": "code",
   "execution_count": 7,
   "id": "85cb0a12-ddcc-4b21-a290-145da298aeba",
   "metadata": {},
   "outputs": [
    {
     "name": "stdout",
     "output_type": "stream",
     "text": [
      "10\n"
     ]
    },
    {
     "data": {
      "text/plain": [
       "20"
      ]
     },
     "execution_count": 7,
     "metadata": {},
     "output_type": "execute_result"
    }
   ],
   "source": [
    "a = 10\n",
    "b = 20\n",
    "print( a )\n",
    "a # jupyter 스타일 적용\n",
    "b"
   ]
  },
  {
   "cell_type": "code",
   "execution_count": 8,
   "id": "662033ad-4624-4112-8f63-35308445eeb1",
   "metadata": {},
   "outputs": [
    {
     "data": {
      "text/plain": [
       "10"
      ]
     },
     "execution_count": 8,
     "metadata": {},
     "output_type": "execute_result"
    }
   ],
   "source": [
    "a"
   ]
  }
 ],
 "metadata": {
  "kernelspec": {
   "display_name": "Python 3 (ipykernel)",
   "language": "python",
   "name": "python3"
  },
  "language_info": {
   "codemirror_mode": {
    "name": "ipython",
    "version": 3
   },
   "file_extension": ".py",
   "mimetype": "text/x-python",
   "name": "python",
   "nbconvert_exporter": "python",
   "pygments_lexer": "ipython3",
   "version": "3.8.8"
  }
 },
 "nbformat": 4,
 "nbformat_minor": 5
}
 

