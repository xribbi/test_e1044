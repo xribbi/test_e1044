{
 "cells": [
  {
   "cell_type": "code",
   "execution_count": 3,
   "id": "58e26023-74c4-4e56-9108-ea4455f8c57c",
   "metadata": {},
   "outputs": [],
   "source": [
    "import tensorflow as tf\n",
    "from tensorflow.keras import Sequential\n",
    "from tensorflow.keras.layers import Dense, Flatten\n",
    "from tensorflow.keras.optimizers import Adam\n",
    "from tensorflow.keras.datasets.fashion_mnist import load_data\n",
    "from tensorflow.keras.utils import to_categorical\n",
    "import numpy as np\n",
    "import pandas as pd\n",
    "import matplotlib.pyplot as plt"
   ]
  },
  {
   "cell_type": "code",
   "execution_count": 4,
   "id": "86a33b06-8995-47ae-b12e-c6d458966a37",
   "metadata": {},
   "outputs": [],
   "source": [
    "(x_train, y_train), (x_test,y_test) = load_data()"
   ]
  },
  {
   "cell_type": "markdown",
   "id": "f8c88a0c-e8e8-4d08-8f22-76f48127b050",
   "metadata": {},
   "source": [
    "# 1. 정규화"
   ]
  },
  {
   "cell_type": "code",
   "execution_count": 5,
   "id": "a5f36af1-8346-45f3-a0dc-4bc7417ce2b1",
   "metadata": {},
   "outputs": [],
   "source": [
    "x_trainN, x_testN = x_train/255, x_test/255"
   ]
  },
  {
   "cell_type": "markdown",
   "id": "881daae9-a9fd-4d80-83f8-45fdd04b3a4e",
   "metadata": {},
   "source": [
    "# 2. 딥러닝으로 학습"
   ]
  },
  {
   "cell_type": "code",
   "execution_count": 15,
   "id": "fa2a5f35-33f5-4391-8b3e-cb3fd6af4655",
   "metadata": {},
   "outputs": [
    {
     "data": {
      "text/plain": [
       "(60000, 28, 28)"
      ]
     },
     "execution_count": 15,
     "metadata": {},
     "output_type": "execute_result"
    }
   ],
   "source": [
    "x_trainN.shape"
   ]
  },
  {
   "cell_type": "code",
   "execution_count": 11,
   "id": "ee8a66d2-427d-41d1-a195-507795f17fba",
   "metadata": {},
   "outputs": [
    {
     "data": {
      "text/plain": [
       "(60000,)"
      ]
     },
     "execution_count": 11,
     "metadata": {},
     "output_type": "execute_result"
    }
   ],
   "source": [
    "y_train.shape"
   ]
  },
  {
   "cell_type": "code",
   "execution_count": null,
   "id": "40c693a1-28df-48da-ae23-a24e0729970d",
   "metadata": {},
   "outputs": [],
   "source": [
    "model = Sequential()\n",
    "model.add( Flatten( input_shape=x_trainN[0].shape) )\n",
    "model.add( Dense( units=64, activation='relu') )\n",
    "model.add( Dense( units=32, activation='relu') )\n",
    "model.add( Dense( units=10, activation='softmax') )\n",
    "model.compile( loss='sparse_categorical_crossentropy', \n",
    "              optimizer=Adam( 0.001 ), metrics=['acc'])\n",
    "model.fit( x_trainN, y_train, epochs= 10 )"
   ]
  },
  {
   "cell_type": "markdown",
   "id": "2a41e81c-a4a1-4e11-bf3a-32efbbb0105a",
   "metadata": {},
   "source": [
    "# 3. train: 정확도, f1_score, confusion"
   ]
  },
  {
   "cell_type": "code",
   "execution_count": 25,
   "id": "944c6a1c-0a4b-4ff2-ac7c-c9eef996467c",
   "metadata": {},
   "outputs": [
    {
     "name": "stdout",
     "output_type": "stream",
     "text": [
      "1875/1875 [==============================] - 2s 1ms/step\n"
     ]
    },
    {
     "data": {
      "text/plain": [
       "(60000, 10)"
      ]
     },
     "execution_count": 25,
     "metadata": {},
     "output_type": "execute_result"
    }
   ],
   "source": [
    "pred_train = model.predict( x_trainN )\n",
    "pred_train.shape"
   ]
  },
  {
   "cell_type": "code",
   "execution_count": 26,
   "id": "606e7a32-3c32-4cf3-8aa9-39a46f80d618",
   "metadata": {},
   "outputs": [],
   "source": [
    "p_train = pred_train.argmax(axis=1)"
   ]
  },
  {
   "cell_type": "code",
   "execution_count": 27,
   "id": "58de66da-797d-40be-9166-31e93ec5168f",
   "metadata": {},
   "outputs": [],
   "source": [
    "from sklearn.metrics import f1_score, accuracy_score, confusion_matrix"
   ]
  },
  {
   "cell_type": "code",
   "execution_count": 28,
   "id": "37edc220-c0f5-48df-b107-1206dd7de52d",
   "metadata": {},
   "outputs": [
    {
     "data": {
      "text/plain": [
       "0.9081833333333333"
      ]
     },
     "execution_count": 28,
     "metadata": {},
     "output_type": "execute_result"
    }
   ],
   "source": [
    "accuracy_score( y_train,p_train )"
   ]
  },
  {
   "cell_type": "code",
   "execution_count": 29,
   "id": "fec45de4-9afd-49d8-8682-8d6040d97088",
   "metadata": {},
   "outputs": [
    {
     "name": "stdout",
     "output_type": "stream",
     "text": [
      "0.906964866604613\n"
     ]
    }
   ],
   "source": [
    "print( f1_score(y_train, p_train, average='macro') )"
   ]
  },
  {
   "cell_type": "code",
   "execution_count": 30,
   "id": "dd5bbc6e-9e10-4469-9f44-dbc38570f0be",
   "metadata": {},
   "outputs": [
    {
     "data": {
      "text/plain": [
       "array([[5467,   15,   55,   93,   21,    0,  338,    0,   11,    0],\n",
       "       [   3, 5948,    3,   33,    5,    0,    8,    0,    0,    0],\n",
       "       [  70,    3, 4948,   57,  670,    0,  247,    0,    5,    0],\n",
       "       [ 142,  105,   32, 5472,  158,    0,   75,    0,   16,    0],\n",
       "       [   8,   10,  345,  166, 5355,    0,  109,    0,    7,    0],\n",
       "       [   0,    0,    0,    0,    0, 5779,    0,  169,   13,   39],\n",
       "       [ 831,   14,  443,  107,  631,    0, 3945,    0,   29,    0],\n",
       "       [   0,    0,    0,    0,    0,   12,    0, 5932,    5,   51],\n",
       "       [   8,    3,   13,    9,   23,    0,   23,    4, 5916,    1],\n",
       "       [   0,    1,    1,    0,    0,    5,    0,  261,    3, 5729]],\n",
       "      dtype=int64)"
      ]
     },
     "execution_count": 30,
     "metadata": {},
     "output_type": "execute_result"
    }
   ],
   "source": [
    "c = confusion_matrix( y_train, p_train )\n",
    "c"
   ]
  },
  {
   "cell_type": "markdown",
   "id": "535d65cd-5dab-4764-b863-5262fba2817c",
   "metadata": {},
   "source": [
    "# 4. test: 정확도, f1_score, confusion"
   ]
  },
  {
   "cell_type": "code",
   "execution_count": 31,
   "id": "b762d1fa-a948-4111-88cb-0ccf0a9e0d4d",
   "metadata": {},
   "outputs": [
    {
     "name": "stdout",
     "output_type": "stream",
     "text": [
      "313/313 [==============================] - 0s 1ms/step\n"
     ]
    },
    {
     "data": {
      "text/plain": [
       "(10000, 10)"
      ]
     },
     "execution_count": 31,
     "metadata": {},
     "output_type": "execute_result"
    }
   ],
   "source": [
    "pred_test = model.predict( x_testN )\n",
    "pred_test.shape"
   ]
  },
  {
   "cell_type": "code",
   "execution_count": 32,
   "id": "bbc65812-af12-4e6b-91d2-a8c0ff8780bb",
   "metadata": {},
   "outputs": [],
   "source": [
    "p_test = pred_test.argmax(axis=1)"
   ]
  },
  {
   "cell_type": "code",
   "execution_count": 33,
   "id": "ab36c7f3-5e12-421b-890d-de2c92fc7dab",
   "metadata": {},
   "outputs": [
    {
     "data": {
      "text/plain": [
       "0.8768"
      ]
     },
     "execution_count": 33,
     "metadata": {},
     "output_type": "execute_result"
    }
   ],
   "source": [
    "accuracy_score( y_test,p_test )"
   ]
  },
  {
   "cell_type": "code",
   "execution_count": 35,
   "id": "7b9e1a1f-6d0b-41c3-837f-ec66df3b08e1",
   "metadata": {},
   "outputs": [
    {
     "name": "stdout",
     "output_type": "stream",
     "text": [
      "0.875198360211652\n"
     ]
    }
   ],
   "source": [
    "print(f1_score(y_test, p_test, average='macro'))"
   ]
  },
  {
   "cell_type": "code",
   "execution_count": 34,
   "id": "110bfaba-fb43-45d8-b356-9d70e5366380",
   "metadata": {},
   "outputs": [
    {
     "data": {
      "text/plain": [
       "array([[875,   5,  10,  18,   4,   1,  81,   0,   6,   0],\n",
       "       [  2, 974,   1,  18,   2,   0,   2,   0,   1,   0],\n",
       "       [ 13,   2, 791,  14, 129,   0,  50,   0,   1,   0],\n",
       "       [ 30,  25,  12, 875,  31,   0,  23,   0,   4,   0],\n",
       "       [  0,   2,  95,  35, 841,   0,  26,   0,   1,   0],\n",
       "       [  0,   0,   0,   0,   0, 941,   0,  42,   2,  15],\n",
       "       [165,   3,  95,  27, 114,   0, 588,   0,   8,   0],\n",
       "       [  0,   0,   0,   0,   0,   6,   0, 979,   1,  14],\n",
       "       [  9,   0,   2,   3,   5,   1,   5,   5, 970,   0],\n",
       "       [  0,   0,   0,   1,   0,   7,   1,  57,   0, 934]], dtype=int64)"
      ]
     },
     "execution_count": 34,
     "metadata": {},
     "output_type": "execute_result"
    }
   ],
   "source": [
    "c = confusion_matrix( y_test, p_test )\n",
    "c"
   ]
  },
  {
   "cell_type": "markdown",
   "id": "3b6452a1-fecf-4fe4-a167-898af32feab0",
   "metadata": {},
   "source": [
    "# 5. test 3번째 이미지에 대한 예측값"
   ]
  },
  {
   "cell_type": "code",
   "execution_count": 46,
   "id": "5bf4d2ee-5b5f-455b-8622-fee79862f5f1",
   "metadata": {},
   "outputs": [
    {
     "name": "stdout",
     "output_type": "stream",
     "text": [
      "1/1 [==============================] - 0s 20ms/step\n"
     ]
    }
   ],
   "source": [
    "pred_3 = model.predict( x_testN[3].reshape(1, 28, 28 ))"
   ]
  },
  {
   "cell_type": "code",
   "execution_count": 47,
   "id": "bf85b2bb-6433-4c87-91cc-6e9ac57b2995",
   "metadata": {},
   "outputs": [
    {
     "name": "stdout",
     "output_type": "stream",
     "text": [
      "[1]\n"
     ]
    }
   ],
   "source": [
    "print(pred_3.argmax(axis=1))"
   ]
  }
 ],
 "metadata": {
  "kernelspec": {
   "display_name": "Python 3 (ipykernel)",
   "language": "python",
   "name": "python3"
  },
  "language_info": {
   "codemirror_mode": {
    "name": "ipython",
    "version": 3
   },
   "file_extension": ".py",
   "mimetype": "text/x-python",
   "name": "python",
   "nbconvert_exporter": "python",
   "pygments_lexer": "ipython3",
   "version": "3.8.8"
  }
 },
 "nbformat": 4,
 "nbformat_minor": 5
}
