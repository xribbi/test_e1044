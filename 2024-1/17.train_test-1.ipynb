{
 "cells": [
  {
   "cell_type": "code",
   "execution_count": 1,
   "id": "55c608eb-b347-4c69-ab32-413071fef65f",
   "metadata": {},
   "outputs": [],
   "source": [
    "import tensorflow as tf\n",
    "from tensorflow.keras import Sequential\n",
    "from tensorflow.keras.layers import Dense\n",
    "from tensorflow.keras.optimizers import Adam\n",
    "from sklearn.preprocessing import MinMaxScaler, StandardScaler\n",
    "from sklearn.model_selection import train_test_split\n",
    "from sklearn.metrics import r2_score\n",
    "import numpy as np\n",
    "import pandas as pd\n",
    "import matplotlib.pyplot as plt"
   ]
  },
  {
   "cell_type": "code",
   "execution_count": 2,
   "id": "da939c38-b1db-4dd4-a30a-e8c05a878052",
   "metadata": {},
   "outputs": [],
   "source": [
    "df = pd.read_csv('data/cars.csv', index_col='Unnamed: 0')"
   ]
  },
  {
   "cell_type": "code",
   "execution_count": 3,
   "id": "a15abf0a-6ce8-4246-afb2-8ad0cea94bc3",
   "metadata": {},
   "outputs": [],
   "source": [
    "x_data = df['speed'].values\n",
    "y_data = df['dist'].values"
   ]
  },
  {
   "cell_type": "code",
   "execution_count": 5,
   "id": "5caa140d-71b2-4d80-bc77-fc3e812a17b9",
   "metadata": {},
   "outputs": [
    {
     "data": {
      "text/plain": [
       "(50,)"
      ]
     },
     "execution_count": 5,
     "metadata": {},
     "output_type": "execute_result"
    }
   ],
   "source": [
    "x_data.shape"
   ]
  },
  {
   "cell_type": "code",
   "execution_count": 4,
   "id": "20398efb-d32a-42df-a38f-c3f7f2e8cba4",
   "metadata": {},
   "outputs": [],
   "source": [
    "x_train, x_test, y_train, y_test = train_test_split(x_data, y_data, test_size=0.3)"
   ]
  },
  {
   "cell_type": "code",
   "execution_count": 9,
   "id": "80cc6057-2e5d-444d-854d-1dd1b7db052b",
   "metadata": {},
   "outputs": [
    {
     "data": {
      "text/plain": [
       "(35,)"
      ]
     },
     "execution_count": 9,
     "metadata": {},
     "output_type": "execute_result"
    }
   ],
   "source": [
    "x_train.shape"
   ]
  },
  {
   "cell_type": "code",
   "execution_count": null,
   "id": "f1e8227d-6a05-45df-83ce-cf3e682e2d36",
   "metadata": {},
   "outputs": [],
   "source": [
    "dense = Dense( units=1, input_dim=1)\n",
    "model = Sequential( [dense] )\n",
    "model.compile( loss='mse', optimizer=Adam(0.1))\n",
    "h = model.fit( x_train, y_train, epochs=500)"
   ]
  },
  {
   "cell_type": "code",
   "execution_count": null,
   "id": "e9a78b8f-a388-4733-9719-704a9084a567",
   "metadata": {},
   "outputs": [],
   "source": [
    "### 결정계수: 회귀계수(w,b) 검정지표로 활용\n",
    "- 0.5 이상인경우 예측계수로 활용된다.\n",
    "- 1 에 가까울 수록 높은 예측 \n",
    "- 상관관계수와 관련\n",
    "- train > test: 과적합( 학습횟수를 줄인다 )\n",
    "- train < test: 과소적합( 학습횟수를 늘린다 )"
   ]
  },
  {
   "cell_type": "markdown",
   "id": "552cb0b7-d141-46cf-83f8-c68fb4672195",
   "metadata": {},
   "source": [
    "### train 결정계수"
   ]
  },
  {
   "cell_type": "code",
   "execution_count": 12,
   "id": "1d7cb8eb-5596-4b18-b3ea-9e4753f89ace",
   "metadata": {},
   "outputs": [
    {
     "name": "stdout",
     "output_type": "stream",
     "text": [
      "2/2 [==============================] - 0s 0s/step\n"
     ]
    }
   ],
   "source": [
    "pred = model.predict( x_train )"
   ]
  },
  {
   "cell_type": "code",
   "execution_count": 13,
   "id": "075c00a5-d072-44d8-954c-324341c07291",
   "metadata": {},
   "outputs": [
    {
     "data": {
      "text/plain": [
       "0.6392742124805499"
      ]
     },
     "execution_count": 13,
     "metadata": {},
     "output_type": "execute_result"
    }
   ],
   "source": [
    "r2_score( y_train, pred)"
   ]
  },
  {
   "cell_type": "code",
   "execution_count": 14,
   "id": "8523a2e1-2138-4c7c-8546-ffcd6ffde10e",
   "metadata": {},
   "outputs": [
    {
     "name": "stdout",
     "output_type": "stream",
     "text": [
      "1/1 [==============================] - 0s 21ms/step\n"
     ]
    }
   ],
   "source": [
    "predt = model.predict( x_test )"
   ]
  },
  {
   "cell_type": "code",
   "execution_count": 15,
   "id": "d92f4e4b-58b8-4654-ac03-367d545c7d92",
   "metadata": {},
   "outputs": [
    {
     "data": {
      "text/plain": [
       "0.6640262360981535"
      ]
     },
     "execution_count": 15,
     "metadata": {},
     "output_type": "execute_result"
    }
   ],
   "source": [
    "r2_score( y_test, predt)"
   ]
  }
 ],
 "metadata": {
  "kernelspec": {
   "display_name": "Python 3 (ipykernel)",
   "language": "python",
   "name": "python3"
  },
  "language_info": {
   "codemirror_mode": {
    "name": "ipython",
    "version": 3
   },
   "file_extension": ".py",
   "mimetype": "text/x-python",
   "name": "python",
   "nbconvert_exporter": "python",
   "pygments_lexer": "ipython3",
   "version": "3.8.8"
  }
 },
 "nbformat": 4,
 "nbformat_minor": 5
}
 

