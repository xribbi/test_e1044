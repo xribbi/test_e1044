{
 "cells": [
  {
   "cell_type": "markdown",
   "id": "ea0d08ef",
   "metadata": {},
   "source": [
    "https://syj9700.tistory.com/37"
   ]
  },
  {
   "cell_type": "markdown",
   "id": "178b8761",
   "metadata": {},
   "source": [
    "### 활성함수 사용이유"
   ]
  },
  {
   "cell_type": "markdown",
   "id": "47f3060a",
   "metadata": {},
   "source": [
    "- 활성화 함수는 이전 층(layer)의 결과값을 변환하여 다른 층의 뉴런으로 신호를 전달하는 역할을 한다. \n",
    "- '활성화 함수가 필요한 이유는 모델의 복잡도를 올리기 위함인데 xor의 예와 같이 비선형 문제를 해결하는데 중요한 역할을 한다. \n",
    "- 비선형 문제를 해결하기 위해 단층 퍼셉트론을 쌓는 방법을 이용했는데 은닉층(hidden layer)를 무작정 쌓기만 한다고 해서 비선형 문제를 해결할 수 있는 것은 아니다. \n",
    "- 활성 함수를 사용하면 입력값에 대한 출력값이 비선형(nonlinear)적으로 나오므로 선형분류기를 비선형분류기로 만들 수 있다.\n"
   ]
  },
  {
   "cell_type": "markdown",
   "id": "b0595459",
   "metadata": {},
   "source": [
    "<img src='https://img1.daumcdn.net/thumb/R1280x0/?scode=mtistory2&fname=https%3A%2F%2Fblog.kakaocdn.net%2Fdn%2FuXKzr%2FbtqYvefgqNd%2FvI1T7FmXdO3pgpjhFAdRC0%2Fimg.png'>"
   ]
  },
  {
   "cell_type": "markdown",
   "id": "23550c64",
   "metadata": {},
   "source": [
    "신경망에서는 활성화 함수로 비선형 함수만을 사용하게 되는데 선형 함수를 사용하면 신경망의 층을 깊게 쌓는 것에 의미가 없어지기 때문이다. 즉, 은닉층(hidden layers)이 없는 네트워크로도 똑같은 기능을 할 수 있다.\n",
    "예를 들어, 활성화 함수를 \n",
    "h(x)=cx\n",
    "라고 하자. 3층으로 구성된 네트워크라 할 때\n",
    "y(x)=h(h(h(x)))=c∗c∗c∗x=c3∗x\n",
    "이다. 이는 곧  y=ax에서 a=c3\n",
    "인 선형 함수이며 1층으로 구성된 네트워크와 다를 바가 없어진다."
   ]
  },
  {
   "cell_type": "markdown",
   "id": "b9e615a7",
   "metadata": {},
   "source": [
    "활성화 함수는 여러 종류가 있으며 종류에 따라서 신경망의 효율이 달라질 수 있다. 실제로 퍼셉트론은 임계값(이항하면 bias로 인식)을 경계로 출력이 바뀌는데 이는 계단함수를 활성화 함수로 사용하는 경우이다."
   ]
  },
  {
   "cell_type": "markdown",
   "id": "e74ee7e4",
   "metadata": {},
   "source": [
    "<img src='https://img1.daumcdn.net/thumb/R1280x0/?scode=mtistory2&fname=https%3A%2F%2Fblog.kakaocdn.net%2Fdn%2FbAJJjb%2FbtqYwg4UNvA%2FFg2J4CjSFwOxyUdqYx7VnK%2Fimg.png'>"
   ]
  },
  {
   "cell_type": "markdown",
   "id": "6e5267a2",
   "metadata": {},
   "source": [
    "신경망에서는 가중치를 학습시키는데 있어 미분을 사용해야했기 때문에(오차역전파법의 원리) 활성화 함수로 계단함수를 사용할 수 없었다(계단 함수는 미분이 불가능). 또한, 계단함수는 0/1과 같은 극단적인 값을 전달하기 때문에 데이터의 정보를 손실시켰다."
   ]
  },
  {
   "cell_type": "markdown",
   "id": "7129ec46",
   "metadata": {},
   "source": [
    "## sigmoid"
   ]
  },
  {
   "cell_type": "markdown",
   "id": "e4617802",
   "metadata": {},
   "source": [
    "https://icim.nims.re.kr/post/easyMath/64\n",
    "\n",
    "https://m.blog.naver.com/je_un/222229440878"
   ]
  },
  {
   "cell_type": "markdown",
   "id": "1d754142",
   "metadata": {},
   "source": [
    "계단함수를 곡선의 형태로 변형시킨 형태의 시그모이드(sigmoid) 함수를 적용하게 되었다. \n",
    "시그모이드는 우리가 흔히 알고 있는 로지스틱(logistic) 함수이다."
   ]
  },
  {
   "cell_type": "markdown",
   "id": "2e98f7cf",
   "metadata": {},
   "source": [
    "계단함수와 비교해보면, 시그모이드 함수는 선이 매끄럽기 때문에 입력에 따라 연속적인 실수값을 출력하는데 입력이 중요하면 큰 값을, 중요하지 않으면 작은값을 출력한다. 이처럼 시그모이드 함수를 이용하면 계단함수보다 데이터의 정보를 보존할 수 있다. "
   ]
  },
  {
   "cell_type": "markdown",
   "id": "0b499cb7",
   "metadata": {},
   "source": [
    "승산(유무비, odds)\n",
    "\n",
    "예를 들어 간단하게 설명하면, 1이 나올 주사위 횟수 1회, 1이 나오지 않을 주사위 횟수 5회, 승산은 1:5가 된다.\n",
    "\n",
    "조금 더 자세하게 설명하면, 동일 집단 내에서 어떤 사건이 발생할 확률과 발생하지 않을 확률의 비교값이다. 즉, 일어날 확률이 일어나지 않을 확률의 몇 배인가를 보여주는 수치이다. \n",
    "\n",
    "주사위를 던져 1이 나올 확률은 1/6이고, 나오지 않을 확률은 5/6 인 경우 승산은 (1/6)/(5/6)=1/5가 되어 0.2배가 된다.\n",
    "\n",
    "기호로 표시하는 경우 아래와 같이 된다. \n",
    "\n",
    "P:확률\n",
    "odds = P/(1-P)\n",
    "\n",
    "승산비(유무비 비율, odds ratio) \n",
    "두 집단 간의 승산을 비교한 값이다."
   ]
  },
  {
   "cell_type": "markdown",
   "id": "1a469488",
   "metadata": {},
   "source": [
    "log odds ==> logit( odds 에 자연로그를 씌운값)"
   ]
  },
  {
   "cell_type": "markdown",
   "id": "c6a0f572",
   "metadata": {},
   "source": [
    "<img src='https://stats.idre.ucla.edu/wp-content/uploads/2016/02/odds_r1.gif'>\n"
   ]
  },
  {
   "cell_type": "markdown",
   "id": "2c925fa7",
   "metadata": {},
   "source": [
    "<img src='https://mathworld.wolfram.com/images/eps-svg/LogitTransformation_1000.svg'>"
   ]
  },
  {
   "cell_type": "code",
   "execution_count": 2,
   "id": "f7d410d4",
   "metadata": {},
   "outputs": [],
   "source": [
    "import numpy as np\n",
    "import math\n",
    "import matplotlib.pyplot as plt"
   ]
  },
  {
   "cell_type": "code",
   "execution_count": 5,
   "id": "ab52e852",
   "metadata": {
    "collapsed": true
   },
   "outputs": [
    {
     "name": "stdout",
     "output_type": "stream",
     "text": [
      "4\n",
      "0.25\n",
      "8\n",
      "0.125\n",
      "2.718281828459045\n"
     ]
    }
   ],
   "source": [
    "print( 2**2 )\n",
    "print( 2**-2)\n",
    "print( 2**3)\n",
    "print( 2**-3)\n",
    "print( math.e)"
   ]
  },
  {
   "cell_type": "code",
   "execution_count": 7,
   "id": "fa74d2c4",
   "metadata": {},
   "outputs": [],
   "source": [
    "def sigmoid( z ):\n",
    "    return 1/( 1+math.e**-z)"
   ]
  },
  {
   "cell_type": "code",
   "execution_count": 8,
   "id": "6d3b0906",
   "metadata": {
    "collapsed": true
   },
   "outputs": [
    {
     "name": "stdout",
     "output_type": "stream",
     "text": [
      "4.539786870243442e-05\n",
      "0.2689414213699951\n",
      "0.5\n",
      "0.7310585786300049\n",
      "0.9999546021312976\n"
     ]
    }
   ],
   "source": [
    "print( sigmoid( -10) )\n",
    "print( sigmoid(-1))\n",
    "print( sigmoid(0))\n",
    "print( sigmoid(1))\n",
    "print( sigmoid(10))"
   ]
  },
  {
   "cell_type": "code",
   "execution_count": 10,
   "id": "4cfe380c",
   "metadata": {
    "collapsed": true
   },
   "outputs": [
    {
     "data": {
      "text/plain": [
       "array([-10.        ,  -9.59183673,  -9.18367347,  -8.7755102 ,\n",
       "        -8.36734694,  -7.95918367,  -7.55102041,  -7.14285714,\n",
       "        -6.73469388,  -6.32653061,  -5.91836735,  -5.51020408,\n",
       "        -5.10204082,  -4.69387755,  -4.28571429,  -3.87755102,\n",
       "        -3.46938776,  -3.06122449,  -2.65306122,  -2.24489796,\n",
       "        -1.83673469,  -1.42857143,  -1.02040816,  -0.6122449 ,\n",
       "        -0.20408163,   0.20408163,   0.6122449 ,   1.02040816,\n",
       "         1.42857143,   1.83673469,   2.24489796,   2.65306122,\n",
       "         3.06122449,   3.46938776,   3.87755102,   4.28571429,\n",
       "         4.69387755,   5.10204082,   5.51020408,   5.91836735,\n",
       "         6.32653061,   6.73469388,   7.14285714,   7.55102041,\n",
       "         7.95918367,   8.36734694,   8.7755102 ,   9.18367347,\n",
       "         9.59183673,  10.        ])"
      ]
     },
     "execution_count": 10,
     "metadata": {},
     "output_type": "execute_result"
    }
   ],
   "source": [
    "np.linspace( -10,10, 50)"
   ]
  },
  {
   "cell_type": "code",
   "execution_count": 11,
   "id": "491426cc",
   "metadata": {
    "scrolled": true
   },
   "outputs": [
    {
     "data": {
      "image/png": "[encoded data removed]",
      "text/plain": [
       "<Figure size 432x288 with 1 Axes>"
      ]
     },
     "metadata": {
      "needs_background": "light"
     },
     "output_type": "display_data"
    }
   ],
   "source": [
    "for z in np.linspace( -10,10, 50):\n",
    "    s = sigmoid( z )\n",
    "    plt.plot( z, s, 'ro')\n",
    "plt.show()"
   ]
  },
  {
   "cell_type": "markdown",
   "id": "f8af9c06",
   "metadata": {},
   "source": [
    "Odds(p):= \\frac{p}{1-p}"
   ]
  },
  {
   "cell_type": "markdown",
   "id": "669debe2",
   "metadata": {},
   "source": [
    "층이 많아질수록 오차역전파 수행시 기울기가 소실되는 문제가 발생한다"
   ]
  },
  {
   "cell_type": "markdown",
   "id": "4c86665b",
   "metadata": {},
   "source": [
    "<img src='https://img1.daumcdn.net/thumb/R1280x0/?scode=mtistory2&fname=https%3A%2F%2Fblog.kakaocdn.net%2Fdn%2FywvvY%2FbtqYB5u1Dt8%2F1aPsmOMh2d5Bku9FlAWRQ0%2Fimg.png'>"
   ]
  },
  {
   "cell_type": "markdown",
   "id": "73380625",
   "metadata": {},
   "source": [
    "미분함수에 대해 x=0 에서 최대값(0.25)을 가지고, 입력값이 점점 작거나 커질수록 기울기가 거의 0에 수렴(saturation)하게 된다. 따라서, 가중치가 갱신이 되지 않으며 학습이 중단되게 된다."
   ]
  },
  {
   "cell_type": "markdown",
   "id": "74a69c0a",
   "metadata": {},
   "source": [
    "## softmax"
   ]
  },
  {
   "cell_type": "code",
   "execution_count": 1,
   "id": "9383f9ad",
   "metadata": {},
   "outputs": [],
   "source": [
    "import numpy as np\n",
    "import math"
   ]
  },
  {
   "cell_type": "code",
   "execution_count": 2,
   "id": "3653ce96",
   "metadata": {},
   "outputs": [],
   "source": [
    "def fn(x):\n",
    "    print( x/x.sum() )"
   ]
  },
  {
   "cell_type": "code",
   "execution_count": 6,
   "id": "69e9d438",
   "metadata": {},
   "outputs": [],
   "source": [
    "def softmax( x ):\n",
    "    e = np.exp( x)\n",
    "    print( e )\n",
    "    print(\"==============\")\n",
    "    print( e/e.sum() )"
   ]
  },
  {
   "cell_type": "code",
   "execution_count": 7,
   "id": "769300d8",
   "metadata": {},
   "outputs": [
    {
     "name": "stdout",
     "output_type": "stream",
     "text": [
      "[7.3890561  2.71828183 1.10517092]\n",
      "==============\n",
      "[0.65900114 0.24243297 0.09856589]\n"
     ]
    }
   ],
   "source": [
    "arr = np.array( [ 2.0, 1.0, 0.1 ] )\n",
    "# fn( arr )\n",
    "softmax( arr )"
   ]
  },
  {
   "cell_type": "markdown",
   "id": "f0449e9b",
   "metadata": {},
   "source": [
    "## relu\n",
    "-  연산이 간결해서 학습 속도가 빠르며, \n",
    "-  vanishing gradient 문제의 해결\n",
    "-  히든레이어에 주로 사용\n",
    "- 그러나 음수의 값이 무조건 0으로 변환되어서 데이터 손실의 가능성이 있다."
   ]
  },
  {
   "cell_type": "code",
   "execution_count": 13,
   "id": "17bda2d5",
   "metadata": {},
   "outputs": [],
   "source": [
    "def relu(x):\n",
    "    return 0 if x<0 else x\n",
    "#     return np.maximum(0, x)"
   ]
  },
  {
   "cell_type": "code",
   "execution_count": 14,
   "id": "35807843",
   "metadata": {},
   "outputs": [
    {
     "data": {
      "image/png": "[encoded data removed]",
      "text/plain": [
       "<Figure size 640x480 with 1 Axes>"
      ]
     },
     "metadata": {},
     "output_type": "display_data"
    }
   ],
   "source": [
    "for z in np.linspace( -10,10, 50):\n",
    "    s = relu( z )\n",
    "    plt.plot( z, s, 'ro')\n",
    "plt.show()"
   ]
  },
  {
   "cell_type": "markdown",
   "id": "1337dc43",
   "metadata": {},
   "source": [
    "### leaky relu \n",
    "- Leaky ReLu는 ReLu 함수에서 음수 값에 대한 기울기가 0인 문제를 해결합니다.\n",
    "- z가 음수일때 기울기가 0이 아닌 0.01을 갖게 하므로 ReLU보다 학습이 더 잘 된다."
   ]
  },
  {
   "cell_type": "code",
   "execution_count": 20,
   "id": "a0f84e38",
   "metadata": {},
   "outputs": [],
   "source": [
    "def leakyRelu(x):\n",
    "    return 0.01*x if x<0 else x\n",
    "#     return np.maximum(0.01*x, x)"
   ]
  },
  {
   "cell_type": "code",
   "execution_count": 21,
   "id": "64fdf779",
   "metadata": {},
   "outputs": [
    {
     "data": {
      "image/png": "[encoded data removed]",
      "text/plain": [
       "<Figure size 640x480 with 1 Axes>"
      ]
     },
     "metadata": {},
     "output_type": "display_data"
    }
   ],
   "source": [
    "for z in np.linspace( -10,10, 50):\n",
    "    s = leakyRelu( z )\n",
    "    plt.plot( z, s, 'ro')\n",
    "plt.show()"
   ]
  },
  {
   "cell_type": "markdown",
   "id": "eadcc448",
   "metadata": {},
   "source": [
    "## tanh\n",
    "- sigmoid의 vanishing gradient 문제는 여전히 남아있음\n",
    "- 그러나 중심을 원점으로 옮김으로써 학습 과정이 sigmoid에 비해 최적화되었다고 할 수 있다."
   ]
  },
  {
   "cell_type": "code",
   "execution_count": 22,
   "id": "b9418d41",
   "metadata": {},
   "outputs": [],
   "source": [
    "def tanh(x):\n",
    "    return (np.exp(x)-np.exp(-x))/(np.exp(x)+np.exp(-x))"
   ]
  },
  {
   "cell_type": "code",
   "execution_count": 24,
   "id": "510cee1c",
   "metadata": {},
   "outputs": [
    {
     "data": {
      "image/png": "[encoded data removed]",
      "text/plain": [
       "<Figure size 640x480 with 1 Axes>"
      ]
     },
     "metadata": {},
     "output_type": "display_data"
    }
   ],
   "source": [
    "for z in np.linspace( -10,10, 50):\n",
    "    s = tanh( z )\n",
    "    plt.plot( z, s, 'ro')\n",
    "plt.show()"
   ]
  }
 ],
 "metadata": {
  "kernelspec": {
   "display_name": "Python 3 (ipykernel)",
   "language": "python",
   "name": "python3"
  },
  "language_info": {
   "codemirror_mode": {
    "name": "ipython",
    "version": 3
   },
   "file_extension": ".py",
   "mimetype": "text/x-python",
   "name": "python",
   "nbconvert_exporter": "python",
   "pygments_lexer": "ipython3",
   "version": "3.10.9"
  }
 },
 "nbformat": 4,
 "nbformat_minor": 5
}
