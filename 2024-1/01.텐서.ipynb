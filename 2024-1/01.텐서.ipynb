{
 "cells": [
  {
   "cell_type": "code",
   "execution_count": 7,
   "id": "dde929ed-4e9b-4656-9929-37c6fcae50ea",
   "metadata": {},
   "outputs": [],
   "source": [
    "import tensorflow as tf\n",
    "import numpy as np"
   ]
  },
  {
   "cell_type": "markdown",
   "id": "98df3302-ab3e-4a84-9673-97d19abf374e",
   "metadata": {},
   "source": [
    "# 테스트\n",
    "## 테스트\n",
    "### 테스트\n",
    "<img src='a.jpg'>"
   ]
  },
  {
   "cell_type": "markdown",
   "id": "1c076207-c911-4845-b094-0d2cf4fc9a3c",
   "metadata": {},
   "source": [
    "#### 텐서종류"
   ]
  },
  {
   "cell_type": "markdown",
   "id": "5567a78c-2dcd-417a-ba84-b8c8e031eba9",
   "metadata": {},
   "source": [
    "#### scalar"
   ]
  },
  {
   "cell_type": "code",
   "execution_count": 2,
   "id": "97289a87-1097-4ef5-8076-5d358541ccec",
   "metadata": {},
   "outputs": [],
   "source": [
    "s1 = 10\n",
    "s2 = 'abc'\n",
    "s3 = 3.14"
   ]
  },
  {
   "cell_type": "markdown",
   "id": "ad0f53be-a468-4b6c-b9ae-52b52c62b4da",
   "metadata": {},
   "source": [
    "#### vector data"
   ]
  },
  {
   "cell_type": "code",
   "execution_count": 9,
   "id": "62d73af3-514e-4afb-bc26-94254ec2b6f2",
   "metadata": {},
   "outputs": [
    {
     "name": "stdout",
     "output_type": "stream",
     "text": [
      "<class 'numpy.ndarray'>\n"
     ]
    },
    {
     "data": {
      "text/plain": [
       "array([11, 22, 33])"
      ]
     },
     "execution_count": 9,
     "metadata": {},
     "output_type": "execute_result"
    }
   ],
   "source": [
    "v1 = [10,20,30]\n",
    "v2 = ['aa','bb','cc']\n",
    "arr = np.array( [11,22,33])\n",
    "print( type(arr))\n",
    "arr"
   ]
  },
  {
   "cell_type": "markdown",
   "id": "c83427cf-2166-4bc6-ba12-08571b81a327",
   "metadata": {},
   "source": [
    "#### matrix"
   ]
  },
  {
   "cell_type": "code",
   "execution_count": null,
   "id": "b2695313-84fb-4c3d-ad18-a68797f88993",
   "metadata": {},
   "outputs": [],
   "source": [
    "m =[ [10,20,30],[40,50,60] ] # 2x3"
   ]
  },
  {
   "cell_type": "markdown",
   "id": "d1c1228a-ae5a-4f31-9f6c-e022d731709d",
   "metadata": {},
   "source": [
    "#### 3d-tensor"
   ]
  },
  {
   "cell_type": "code",
   "execution_count": null,
   "id": "2c8cfb5e-fac3-4f99-a303-505117896b5b",
   "metadata": {},
   "outputs": [],
   "source": [
    "d3 =[ [ [10,20,30],[40,50,60] ],[ [10,20,30],[40,50,60] ] ] #2x2x3"
   ]
  },
  {
   "cell_type": "markdown",
   "id": "8a90815c-8f12-4d4b-a963-e7330f84d6b7",
   "metadata": {},
   "source": [
    "#### 4d-tensor"
   ]
  },
  {
   "cell_type": "code",
   "execution_count": null,
   "id": "236c0e60-5fcd-4f9e-b0c3-e6957ea39920",
   "metadata": {},
   "outputs": [],
   "source": [
    "d4 =[ [ [ [10,20,30],[40,50,60] ],[ [10,20,30],[40,50,60] ] ],\n",
    "[ [ [10,20,30],[40,50,60] ],[ [10,20,30],[40,50,60] ] ] ] #2x2x2x3"
   ]
  },
  {
   "cell_type": "code",
   "execution_count": null,
   "id": "64204a1e-bab8-4134-bbf8-984540bb78a5",
   "metadata": {},
   "outputs": [],
   "source": [
    "#### 텐서노드 만드는 방법\n",
    "- 1. constant:읽기전용\n",
    "- 2. Variable: 읽기 쓰기"
   ]
  },
  {
   "cell_type": "code",
   "execution_count": null,
   "id": "f78929d9-e699-4818-905b-00c28cf5fc09",
   "metadata": {},
   "outputs": [],
   "source": [
    "## 객체: 속성+메소드\n",
    "- 객체.속성\n",
    "- 객체.메소드()"
   ]
  },
  {
   "cell_type": "code",
   "execution_count": 5,
   "id": "1c0263c2-3a79-444b-aee3-8a150c740ae4",
   "metadata": {},
   "outputs": [
    {
     "name": "stdout",
     "output_type": "stream",
     "text": [
      "<class 'tensorflow.python.framework.ops.EagerTensor'>\n"
     ]
    },
    {
     "data": {
      "text/plain": [
       "<tf.Tensor: shape=(), dtype=int32, numpy=10>"
      ]
     },
     "execution_count": 5,
     "metadata": {},
     "output_type": "execute_result"
    }
   ],
   "source": [
    "s = 10\n",
    "c = tf.constant( s )\n",
    "print( type(c))\n",
    "c"
   ]
  },
  {
   "cell_type": "code",
   "execution_count": 6,
   "id": "bb6ba3d8-811e-4542-a452-d7e5c56c4e67",
   "metadata": {},
   "outputs": [
    {
     "data": {
      "text/plain": [
       "10"
      ]
     },
     "execution_count": 6,
     "metadata": {},
     "output_type": "execute_result"
    }
   ],
   "source": [
    "c.numpy()"
   ]
  },
  {
   "cell_type": "code",
   "execution_count": 12,
   "id": "96150659-73d1-42b9-9f32-51d315333beb",
   "metadata": {},
   "outputs": [
    {
     "name": "stdout",
     "output_type": "stream",
     "text": [
      "<class 'list'>\n",
      "<class 'numpy.ndarray'>\n"
     ]
    }
   ],
   "source": [
    "my =[10,20,30]\n",
    "my1 = np.array([10,20,30])\n",
    "print( type(my))\n",
    "print( type(my1))"
   ]
  },
  {
   "cell_type": "code",
   "execution_count": 10,
   "id": "cc3d163b-a86a-4de9-b6de-18a550cdafed",
   "metadata": {},
   "outputs": [
    {
     "data": {
      "text/plain": [
       "<tf.Tensor: shape=(3,), dtype=int32, numpy=array([10, 20, 30])>"
      ]
     },
     "execution_count": 10,
     "metadata": {},
     "output_type": "execute_result"
    }
   ],
   "source": [
    "v = [10,20,30]\n",
    "v1 = np.array([10,20,30])\n",
    "t1 = tf.constant( v ) #tf.constant( v1)\n",
    "t1"
   ]
  },
  {
   "cell_type": "code",
   "execution_count": 11,
   "id": "e5fd1364-cbe3-4f84-ac6c-1b6af9e1e009",
   "metadata": {},
   "outputs": [
    {
     "data": {
      "text/plain": [
       "array([10, 20, 30])"
      ]
     },
     "execution_count": 11,
     "metadata": {},
     "output_type": "execute_result"
    }
   ],
   "source": [
    "t1.numpy()"
   ]
  },
  {
   "cell_type": "code",
   "execution_count": 13,
   "id": "6afa4421-574a-4bff-9298-b659a486768e",
   "metadata": {},
   "outputs": [
    {
     "data": {
      "text/plain": [
       "<tf.Tensor: shape=(2, 3), dtype=int32, numpy=\n",
       "array([[10, 20, 30],\n",
       "       [40, 50, 60]])>"
      ]
     },
     "execution_count": 13,
     "metadata": {},
     "output_type": "execute_result"
    }
   ],
   "source": [
    "m =[ [10,20,30],[40,50,60] ]\n",
    "t2 = tf.constant( m )\n",
    "t2"
   ]
  },
  {
   "cell_type": "markdown",
   "id": "92a00b51-399c-4b50-83ac-8db82014e0c6",
   "metadata": {},
   "source": [
    "### 그래프 연산이유\n",
    "- 오차역전파를 쉽게 : backward\n",
    "- forward 연산"
   ]
  },
  {
   "cell_type": "markdown",
   "id": "e8e9998c-0af7-4bc0-b54d-84bc686e7fec",
   "metadata": {},
   "source": [
    "### 연산(산술,관계,논리, ...):\n",
    "- 1. broad casting:차원이 높은 쪽으로 자동확장\n",
    "- 2. element wise: 동일한 인덱스끼리 연산"
   ]
  },
  {
   "cell_type": "code",
   "execution_count": 14,
   "id": "ea815e2e-54ff-4d92-a484-e59948217bdb",
   "metadata": {},
   "outputs": [],
   "source": [
    "a = tf.constant( 3 )\n",
    "b = tf.constant( [1,2,3])"
   ]
  },
  {
   "cell_type": "code",
   "execution_count": 15,
   "id": "a879a094-73fa-4dd2-bc89-163b046b5cfe",
   "metadata": {},
   "outputs": [
    {
     "data": {
      "text/plain": [
       "<tf.Tensor: shape=(3,), dtype=int32, numpy=array([3, 6, 9])>"
      ]
     },
     "execution_count": 15,
     "metadata": {},
     "output_type": "execute_result"
    }
   ],
   "source": [
    "# c = tf.multiply( a,b ) #x 연산노드\n",
    "c = a*b\n",
    "c"
   ]
  },
  {
   "cell_type": "code",
   "execution_count": 17,
   "id": "af332ec5-a30b-42da-b6df-91eee28b3fc8",
   "metadata": {},
   "outputs": [
    {
     "data": {
      "text/plain": [
       "<tf.Tensor: shape=(3,), dtype=int32, numpy=array([4, 5, 6])>"
      ]
     },
     "execution_count": 17,
     "metadata": {},
     "output_type": "execute_result"
    }
   ],
   "source": [
    "d = tf.add( a,b)\n",
    "d"
   ]
  },
  {
   "cell_type": "code",
   "execution_count": 18,
   "id": "843353b3-cb59-446f-88d0-71f17693cd81",
   "metadata": {},
   "outputs": [
    {
     "data": {
      "text/plain": [
       "<tf.Tensor: shape=(3,), dtype=int32, numpy=array([ 7, 11, 15])>"
      ]
     },
     "execution_count": 18,
     "metadata": {},
     "output_type": "execute_result"
    }
   ],
   "source": [
    "e = c+d # tf.add(c,d)\n",
    "e"
   ]
  },
  {
   "cell_type": "code",
   "execution_count": 25,
   "id": "9c9f2821-818b-4ead-86cf-00156aeada40",
   "metadata": {},
   "outputs": [],
   "source": [
    "# f = tf.constant( [1,2,3])\n",
    "f = tf.constant( [[1],[2],[3]])\n",
    "# f = tf.constant( [[1],[2]])\n",
    "g = tf.constant( [[1,2,3],[4,5,6],[7,8,9]])\n",
    "h = f+g # tf.add( f,g)"
   ]
  },
  {
   "cell_type": "code",
   "execution_count": 26,
   "id": "5f484d0f-2d68-4700-8a46-0ae2daf4d030",
   "metadata": {},
   "outputs": [
    {
     "data": {
      "text/plain": [
       "<tf.Tensor: shape=(3, 3), dtype=int32, numpy=\n",
       "array([[ 2,  3,  4],\n",
       "       [ 6,  7,  8],\n",
       "       [10, 11, 12]])>"
      ]
     },
     "execution_count": 26,
     "metadata": {},
     "output_type": "execute_result"
    }
   ],
   "source": [
    "h"
   ]
  },
  {
   "cell_type": "markdown",
   "id": "b5901d5b-71b1-45d2-8504-26da2868bcf7",
   "metadata": {},
   "source": [
    "### 행렬곱"
   ]
  },
  {
   "cell_type": "code",
   "execution_count": 28,
   "id": "30307639-3ff6-4444-a0c6-364d38cc1220",
   "metadata": {},
   "outputs": [],
   "source": [
    "i = tf.constant( [[1,2],[3,4]])\n",
    "j = tf.constant( [[5,6],[7,8]])\n",
    "k = tf.multiply( i, j)\n",
    "l = tf.matmul( i,j)"
   ]
  },
  {
   "cell_type": "code",
   "execution_count": 32,
   "id": "77345bff-a7f1-42b4-b679-b593e2dc585d",
   "metadata": {},
   "outputs": [
    {
     "data": {
      "text/plain": [
       "<tf.Tensor: shape=(2, 2), dtype=int32, numpy=\n",
       "array([[ 5, 12],\n",
       "       [21, 32]])>"
      ]
     },
     "execution_count": 32,
     "metadata": {},
     "output_type": "execute_result"
    }
   ],
   "source": [
    "k"
   ]
  },
  {
   "cell_type": "code",
   "execution_count": 31,
   "id": "5581f13d-7ceb-4e88-8ba4-57612bf867bf",
   "metadata": {},
   "outputs": [
    {
     "data": {
      "text/plain": [
       "<tf.Tensor: shape=(2, 2), dtype=int32, numpy=\n",
       "array([[19, 22],\n",
       "       [43, 50]])>"
      ]
     },
     "execution_count": 31,
     "metadata": {},
     "output_type": "execute_result"
    }
   ],
   "source": [
    "l"
   ]
  },
  {
   "cell_type": "markdown",
   "id": "86337a98-aab2-45de-971e-e7358b17221f",
   "metadata": {},
   "source": [
    "### 기타 많이 사용 연산자"
   ]
  },
  {
   "cell_type": "code",
   "execution_count": 33,
   "id": "76bc543c-2763-46e9-b0e5-fe628c1fc8be",
   "metadata": {},
   "outputs": [
    {
     "data": {
      "text/plain": [
       "<tf.Tensor: shape=(3,), dtype=int32, numpy=array([1, 4, 9])>"
      ]
     },
     "execution_count": 33,
     "metadata": {},
     "output_type": "execute_result"
    }
   ],
   "source": [
    "s = [1,2,3]\n",
    "# s = tf.constant([1,2,3])\n",
    "t = tf.square( s ) #s**2\n",
    "t"
   ]
  },
  {
   "cell_type": "code",
   "execution_count": 34,
   "id": "bf125cdf-f5a7-4c6a-8caf-b8d60c6ed3a6",
   "metadata": {},
   "outputs": [
    {
     "data": {
      "text/plain": [
       "<tf.Tensor: shape=(), dtype=int32, numpy=2>"
      ]
     },
     "execution_count": 34,
     "metadata": {},
     "output_type": "execute_result"
    }
   ],
   "source": [
    "u = tf.reduce_mean( s )\n",
    "u"
   ]
  },
  {
   "cell_type": "code",
   "execution_count": 35,
   "id": "c4e029b4-7bc8-43b5-9883-b4aae1942654",
   "metadata": {},
   "outputs": [
    {
     "data": {
      "text/plain": [
       "<tf.Tensor: shape=(), dtype=int32, numpy=6>"
      ]
     },
     "execution_count": 35,
     "metadata": {},
     "output_type": "execute_result"
    }
   ],
   "source": [
    "v = tf.reduce_sum( s )\n",
    "v"
   ]
  },
  {
   "cell_type": "code",
   "execution_count": 36,
   "id": "3dd7f6df-395e-4b8b-8916-0fe35ee88703",
   "metadata": {},
   "outputs": [
    {
     "data": {
      "text/plain": [
       "<tf.Tensor: shape=(), dtype=int32, numpy=3>"
      ]
     },
     "execution_count": 36,
     "metadata": {},
     "output_type": "execute_result"
    }
   ],
   "source": [
    "w = tf.reduce_max( s )\n",
    "w"
   ]
  },
  {
   "cell_type": "markdown",
   "id": "9ca13b73-7c21-412b-a10f-62b5bb84b731",
   "metadata": {},
   "source": [
    "### Variable"
   ]
  },
  {
   "cell_type": "code",
   "execution_count": 37,
   "id": "62c1e4c8-3887-4f3c-a008-db47e0dae52d",
   "metadata": {},
   "outputs": [],
   "source": [
    "x = tf.Variable(10)"
   ]
  },
  {
   "cell_type": "code",
   "execution_count": 38,
   "id": "1c219887-0379-480e-8479-913306ceef4d",
   "metadata": {},
   "outputs": [
    {
     "data": {
      "text/plain": [
       "<tf.Variable 'UnreadVariable' shape=() dtype=int32, numpy=7>"
      ]
     },
     "execution_count": 38,
     "metadata": {},
     "output_type": "execute_result"
    }
   ],
   "source": [
    "# x.assign(3) \n",
    "# x.assign_add(3)\n",
    "x.assign_sub(3)"
   ]
  }
 ],
 "metadata": {
  "kernelspec": {
   "display_name": "Python 3 (ipykernel)",
   "language": "python",
   "name": "python3"
  },
  "language_info": {
   "codemirror_mode": {
    "name": "ipython",
    "version": 3
   },
   "file_extension": ".py",
   "mimetype": "text/x-python",
   "name": "python",
   "nbconvert_exporter": "python",
   "pygments_lexer": "ipython3",
   "version": "3.8.8"
  }
 },
 "nbformat": 4,
 "nbformat_minor": 5
}
