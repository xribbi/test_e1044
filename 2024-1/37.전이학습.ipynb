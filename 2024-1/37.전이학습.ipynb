{
 "cells": [
  {
   "cell_type": "code",
   "execution_count": 15,
   "id": "cbc3685b-c62e-449e-a190-89a0cb458fb2",
   "metadata": {},
   "outputs": [],
   "source": [
    "from tensorflow.keras.applications import vgg16\n",
    "from tensorflow.keras.preprocessing.image import load_img,ImageDataGenerator, img_to_array\n",
    "\n",
    "import tensorflow as tf\n",
    "from tensorflow.keras import Sequential\n",
    "from tensorflow.keras.layers import Dense, Flatten\n",
    "from tensorflow.keras.optimizers import Adam\n",
    "import numpy as np\n",
    "import pandas as pd\n",
    "import matplotlib.pyplot as plt"
   ]
  },
  {
   "cell_type": "code",
   "execution_count": 11,
   "id": "d7134fd3-c2da-47e4-bfad-7a022f7dc55f",
   "metadata": {},
   "outputs": [],
   "source": [
    "modelVgg16 = vgg16.VGG16(include_top=False, input_shape=(98,98,3))"
   ]
  },
  {
   "cell_type": "code",
   "execution_count": null,
   "id": "b96a2539-17c2-4cce-a293-8aceb5349290",
   "metadata": {},
   "outputs": [],
   "source": [
    "modelVgg16.summary()"
   ]
  },
  {
   "cell_type": "code",
   "execution_count": 13,
   "id": "7e31bbf6-1454-4e1e-a245-d49c54866319",
   "metadata": {},
   "outputs": [],
   "source": [
    "for lay in modelVgg16.layers:\n",
    "    lay.trainable = False"
   ]
  },
  {
   "cell_type": "code",
   "execution_count": null,
   "id": "24cc17d3-957e-409e-a2a5-61e523d1a83f",
   "metadata": {},
   "outputs": [],
   "source": [
    "len( modelVgg16.layers )\n",
    "# modelVgg16.layers[17].trainable= True\n",
    "# modelVgg16.layers[18].trainable= True"
   ]
  },
  {
   "cell_type": "code",
   "execution_count": 14,
   "id": "c94a8590-566c-42a4-b7da-3b18ffb48932",
   "metadata": {},
   "outputs": [
    {
     "name": "stdout",
     "output_type": "stream",
     "text": [
      "Found 20 images belonging to 2 classes.\n"
     ]
    }
   ],
   "source": [
    "dataGen = ImageDataGenerator( rescale=1/255)\n",
    "trainGen = dataGen.flow_from_directory( './image', target_size=(98,98))"
   ]
  },
  {
   "cell_type": "code",
   "execution_count": 18,
   "id": "d5f35e28-c252-40d9-b357-0bfff2e1c5ac",
   "metadata": {},
   "outputs": [
    {
     "name": "stdout",
     "output_type": "stream",
     "text": [
      "Epoch 1/10\n",
      "1/1 [==============================] - 1s 990ms/step - loss: 0.8668 - acc: 0.5000\n",
      "Epoch 2/10\n",
      "1/1 [==============================] - 0s 259ms/step - loss: 0.7451 - acc: 0.5500\n",
      "Epoch 3/10\n",
      "1/1 [==============================] - 0s 257ms/step - loss: 0.2757 - acc: 0.9500\n",
      "Epoch 4/10\n",
      "1/1 [==============================] - 0s 255ms/step - loss: 0.2717 - acc: 0.9000\n",
      "Epoch 5/10\n",
      "1/1 [==============================] - 0s 264ms/step - loss: 0.1682 - acc: 0.9500\n",
      "Epoch 6/10\n",
      "1/1 [==============================] - 0s 263ms/step - loss: 0.0811 - acc: 1.0000\n",
      "Epoch 7/10\n",
      "1/1 [==============================] - 0s 262ms/step - loss: 0.0497 - acc: 1.0000\n",
      "Epoch 8/10\n",
      "1/1 [==============================] - 0s 260ms/step - loss: 0.0405 - acc: 1.0000\n",
      "Epoch 9/10\n",
      "1/1 [==============================] - 0s 280ms/step - loss: 0.0353 - acc: 1.0000\n",
      "Epoch 10/10\n",
      "1/1 [==============================] - 0s 293ms/step - loss: 0.0290 - acc: 1.0000\n"
     ]
    },
    {
     "data": {
      "text/plain": [
       "<keras.src.callbacks.History at 0x14c8106f1c0>"
      ]
     },
     "execution_count": 18,
     "metadata": {},
     "output_type": "execute_result"
    }
   ],
   "source": [
    "model = Sequential()\n",
    "model.add( modelVgg16 )\n",
    "model.add( Flatten())\n",
    "model.add( Dense( units=64, activation='relu'))\n",
    "model.add( Dense( units=2, activation='softmax'))\n",
    "model.compile( loss='categorical_crossentropy', optimizer='adam', metrics=['acc'])\n",
    "model.fit( trainGen, epochs=10)"
   ]
  }
 ],
 "metadata": {
  "kernelspec": {
   "display_name": "Python 3 (ipykernel)",
   "language": "python",
   "name": "python3"
  },
  "language_info": {
   "codemirror_mode": {
    "name": "ipython",
    "version": 3
   },
   "file_extension": ".py",
   "mimetype": "text/x-python",
   "name": "python",
   "nbconvert_exporter": "python",
   "pygments_lexer": "ipython3",
   "version": "3.8.8"
  }
 },
 "nbformat": 4,
 "nbformat_minor": 5
}
 

