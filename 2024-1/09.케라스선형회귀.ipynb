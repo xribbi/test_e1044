{
 "cells": [
  {
   "cell_type": "code",
   "execution_count": 1,
   "id": "87839719-ff40-4ebe-9302-95848ea473ae",
   "metadata": {},
   "outputs": [],
   "source": [
    "import tensorflow as tf\n",
    "from tensorflow.keras import Sequential\n",
    "from tensorflow.keras.layers import Dense\n",
    "from tensorflow.keras.optimizers import SGD\n",
    "import numpy as np\n",
    "import matplotlib.pyplot as plt"
   ]
  },
  {
   "cell_type": "code",
   "execution_count": 2,
   "id": "5ec1b0c6-77b1-4365-8d43-fe47281214f1",
   "metadata": {},
   "outputs": [],
   "source": [
    "x = np.array( [1,2,3,4,5], np.float32)\n",
    "y = np.array( [3,5,7,9,11], np.float32)"
   ]
  },
  {
   "cell_type": "code",
   "execution_count": 8,
   "id": "02db29dc-9469-43ce-b526-41228bcc11b2",
   "metadata": {},
   "outputs": [
    {
     "name": "stdout",
     "output_type": "stream",
     "text": [
      "[10, 20, 30]\n"
     ]
    }
   ],
   "source": [
    "my=[10,20,30]\n",
    "print( my )"
   ]
  },
  {
   "cell_type": "code",
   "execution_count": 11,
   "id": "bacf0b8b-0159-4100-aa37-a8dd7992d894",
   "metadata": {},
   "outputs": [
    {
     "name": "stdout",
     "output_type": "stream",
     "text": [
      "생성자함수\n",
      "a=10 b=20\n",
      "add call\n",
      "30\n",
      "x= 100 y= 200\n",
      "10 20\n",
      "10 20\n"
     ]
    }
   ],
   "source": [
    "class Test:\n",
    "    def __init__(self, a, b):\n",
    "        print('생성자함수')\n",
    "        self.a = a\n",
    "        self.b = b\n",
    "    def show( self):\n",
    "        print( self.a, self.b)\n",
    "    def __repr__(self):\n",
    "        return f'a={self.a} b={self.b}'\n",
    "    def __add__( self, x):\n",
    "        print('add call')\n",
    "        return self.a + x\n",
    "    def __call__( self, x,y):\n",
    "        print( 'x=',x,'y=',y )\n",
    "    \n",
    "obj = Test(10,20)\n",
    "print(obj) #obj.__repr__()\n",
    "print( obj+20 ) # obj.__add__(20)\n",
    "obj(100,200) # obj.__call__(100,200) ## obj[10]  # obj.__setitem__(10)\n",
    "print( obj.a, obj.b )\n",
    "obj.show()\n"
   ]
  },
  {
   "cell_type": "code",
   "execution_count": 15,
   "id": "0d721e39-e970-448a-82cb-d5b2416c2f03",
   "metadata": {},
   "outputs": [
    {
     "data": {
      "text/plain": [
       "array([[1.],\n",
       "       [2.],\n",
       "       [3.],\n",
       "       [4.],\n",
       "       [5.]], dtype=float32)"
      ]
     },
     "execution_count": 15,
     "metadata": {},
     "output_type": "execute_result"
    }
   ],
   "source": [
    "x.reshape( 5,1 )"
   ]
  },
  {
   "cell_type": "code",
   "execution_count": 33,
   "id": "08de32f1-fb28-4374-b1b4-a012134f6422",
   "metadata": {},
   "outputs": [
    {
     "data": {
      "text/plain": [
       "<tf.Tensor: shape=(5, 1), dtype=float32, numpy=\n",
       "array([[1.0221864],\n",
       "       [2.0443728],\n",
       "       [3.0665593],\n",
       "       [4.0887456],\n",
       "       [5.110932 ]], dtype=float32)>"
      ]
     },
     "execution_count": 33,
     "metadata": {},
     "output_type": "execute_result"
    }
   ],
   "source": [
    "# 1.forward (__call__):  hx = w*x +b     #   hx = tf.matmul( x,w )+b\n",
    "# 2.w, b :random 하게 초기화(생성자함수\n",
    "dense = Dense( units=1, input_dim=1 ) # units(라벨의 갯수), input_dim(특성데이터갯수)\n",
    "dense( x.reshape( 5,1 ) ) #예측값"
   ]
  },
  {
   "cell_type": "code",
   "execution_count": 34,
   "id": "733f9a95-561d-4581-abcd-7865f5151172",
   "metadata": {},
   "outputs": [],
   "source": [
    "w, b = dense.get_weights()"
   ]
  },
  {
   "cell_type": "code",
   "execution_count": 35,
   "id": "8e6371be-8116-4eae-89eb-b6d46e01ff83",
   "metadata": {},
   "outputs": [
    {
     "data": {
      "text/plain": [
       "array([[1.0221864]], dtype=float32)"
      ]
     },
     "execution_count": 35,
     "metadata": {},
     "output_type": "execute_result"
    }
   ],
   "source": [
    "w"
   ]
  },
  {
   "cell_type": "code",
   "execution_count": 36,
   "id": "21b52688-e3aa-4e64-aced-a9ba5f5bc3d9",
   "metadata": {},
   "outputs": [
    {
     "data": {
      "text/plain": [
       "array([0.], dtype=float32)"
      ]
     },
     "execution_count": 36,
     "metadata": {},
     "output_type": "execute_result"
    }
   ],
   "source": [
    "b"
   ]
  },
  {
   "cell_type": "code",
   "execution_count": 30,
   "id": "4944e74e-2fd7-4237-b238-509db7050a01",
   "metadata": {},
   "outputs": [],
   "source": [
    "class MyDense:\n",
    "    def __init__(self):\n",
    "        self.w = tf.random.uniform([1])\n",
    "        self.b = tf.random.uniform([1])\n",
    "    def __call__(self, x ):\n",
    "        hx = self.w*x + self.b\n",
    "        return hx\n",
    "    def get_weights(self):\n",
    "        return self.w.numpy(), self.b.numpy()"
   ]
  },
  {
   "cell_type": "code",
   "execution_count": 31,
   "id": "ef2d4968-9bb5-494a-bee2-e8e38dc8d90b",
   "metadata": {},
   "outputs": [
    {
     "data": {
      "text/plain": [
       "<tf.Tensor: shape=(5,), dtype=float32, numpy=\n",
       "array([1.2958114, 1.6448132, 1.993815 , 2.3428168, 2.6918185],\n",
       "      dtype=float32)>"
      ]
     },
     "execution_count": 31,
     "metadata": {},
     "output_type": "execute_result"
    }
   ],
   "source": [
    "mydense = MyDense()\n",
    "mydense(x) # mydense.__call__(x)"
   ]
  },
  {
   "cell_type": "code",
   "execution_count": 32,
   "id": "a0cdb370-8f50-45b8-83ac-6fe9e57429c3",
   "metadata": {},
   "outputs": [
    {
     "name": "stdout",
     "output_type": "stream",
     "text": [
      "[0.34900177] [0.94680965]\n"
     ]
    }
   ],
   "source": [
    "w,b =mydense.get_weights()\n",
    "print( w, b)"
   ]
  },
  {
   "cell_type": "code",
   "execution_count": 21,
   "id": "cad4952c-2c8f-4a93-adb3-04445681056b",
   "metadata": {},
   "outputs": [
    {
     "data": {
      "text/plain": [
       "array([1., 2., 3., 4., 5.], dtype=float32)"
      ]
     },
     "execution_count": 21,
     "metadata": {},
     "output_type": "execute_result"
    }
   ],
   "source": [
    "x"
   ]
  },
  {
   "cell_type": "markdown",
   "id": "bed7970e-0f0c-4b8d-8c77-3e04676e22fd",
   "metadata": {},
   "source": [
    "### 케라스 이용 선형회귀"
   ]
  },
  {
   "cell_type": "code",
   "execution_count": null,
   "id": "b728817c-80c0-409d-95dd-042b9d82dff1",
   "metadata": {},
   "outputs": [],
   "source": [
    "dense = Dense( units=1, input_dim=1 )\n",
    "model = Sequential( [dense])\n",
    "model.compile( loss='mse', optimizer=SGD(learning_rate=0.01) )\n",
    "model.fit( x, y, epochs=1000) # w = w-0.01*w미분"
   ]
  },
  {
   "cell_type": "code",
   "execution_count": 38,
   "id": "2df31124-64f4-4055-aeea-10878c7f8743",
   "metadata": {},
   "outputs": [
    {
     "name": "stdout",
     "output_type": "stream",
     "text": [
      "[[2.0000064]] [0.99997795]\n"
     ]
    }
   ],
   "source": [
    "w,b =dense.get_weights()\n",
    "print( w, b)"
   ]
  },
  {
   "cell_type": "code",
   "execution_count": 40,
   "id": "6c2aeab8-ea81-4e0d-bcb2-f4832e7aeaca",
   "metadata": {},
   "outputs": [
    {
     "data": {
      "text/plain": [
       "<tf.Tensor: shape=(5, 1), dtype=float32, numpy=\n",
       "array([[ 2.9999843],\n",
       "       [ 4.999991 ],\n",
       "       [ 6.999997 ],\n",
       "       [ 9.000004 ],\n",
       "       [11.0000105]], dtype=float32)>"
      ]
     },
     "execution_count": 40,
     "metadata": {},
     "output_type": "execute_result"
    }
   ],
   "source": [
    "dense( x.reshape(5,1) )  #hx = w*x + b "
   ]
  },
  {
   "cell_type": "code",
   "execution_count": 42,
   "id": "e4ce32c3-b14c-463c-92f1-97ebbc1f9116",
   "metadata": {},
   "outputs": [
    {
     "name": "stdout",
     "output_type": "stream",
     "text": [
      "1/1 [==============================] - 0s 57ms/step\n"
     ]
    },
    {
     "data": {
      "text/plain": [
       "array([[ 2.9999843],\n",
       "       [ 4.999991 ],\n",
       "       [ 6.999997 ],\n",
       "       [ 9.000004 ],\n",
       "       [11.0000105]], dtype=float32)"
      ]
     },
     "execution_count": 42,
     "metadata": {},
     "output_type": "execute_result"
    }
   ],
   "source": [
    "model.predict( x ) # 전처리후 forward 연산 dense(x)   # numpy()"
   ]
  },
  {
   "cell_type": "code",
   "execution_count": 44,
   "id": "14856f7d-47b9-4e37-817e-2e8a5546a89b",
   "metadata": {},
   "outputs": [
    {
     "name": "stdout",
     "output_type": "stream",
     "text": [
      "1/1 [==============================] - 0s 50ms/step\n"
     ]
    },
    {
     "data": {
      "text/plain": [
       "array([[21.000042]], dtype=float32)"
      ]
     },
     "execution_count": 44,
     "metadata": {},
     "output_type": "execute_result"
    }
   ],
   "source": [
    "model.predict( [10] ) #dense( 10 ) hx = w*x +b"
   ]
  },
  {
   "cell_type": "code",
   "execution_count": 39,
   "id": "15b1533e-1f09-4c0c-860a-9d6beca17f19",
   "metadata": {},
   "outputs": [
    {
     "data": {
      "text/plain": [
       "array([1., 2., 3., 4., 5.], dtype=float32)"
      ]
     },
     "execution_count": 39,
     "metadata": {},
     "output_type": "execute_result"
    }
   ],
   "source": [
    "x"
   ]
  },
  {
   "cell_type": "code",
   "execution_count": 41,
   "id": "6b2ddc58-5ab6-4583-b983-b9acda6b5209",
   "metadata": {},
   "outputs": [
    {
     "data": {
      "text/plain": [
       "array([ 3.,  5.,  7.,  9., 11.], dtype=float32)"
      ]
     },
     "execution_count": 41,
     "metadata": {},
     "output_type": "execute_result"
    }
   ],
   "source": [
    "y"
   ]
  }
 ],
 "metadata": {
  "kernelspec": {
   "display_name": "Python 3 (ipykernel)",
   "language": "python",
   "name": "python3"
  },
  "language_info": {
   "codemirror_mode": {
    "name": "ipython",
    "version": 3
   },
   "file_extension": ".py",
   "mimetype": "text/x-python",
   "name": "python",
   "nbconvert_exporter": "python",
   "pygments_lexer": "ipython3",
   "version": "3.8.8"
  }
 },
 "nbformat": 4,
 "nbformat_minor": 5
}
