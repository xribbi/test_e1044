{
 "cells": [
  {
   "cell_type": "code",
   "execution_count": 1,
   "id": "7f26ea09-5165-4dd7-969c-ba2bf1994198",
   "metadata": {},
   "outputs": [],
   "source": [
    "import tensorflow as tf\n",
    "import numpy as np\n",
    "import matplotlib.pyplot as plt"
   ]
  },
  {
   "cell_type": "code",
   "execution_count": 3,
   "id": "19e9cc77-016f-43a9-922d-f92c4387140a",
   "metadata": {},
   "outputs": [],
   "source": [
    "x_data = [1,2,3] \n",
    "y_data = [1,2,3]\n",
    "x = tf.constant( x_data, dtype=tf.float32)\n",
    "y = tf.constant( y_data, dtype=tf.float32)"
   ]
  },
  {
   "cell_type": "code",
   "execution_count": 6,
   "id": "2794c244-65e4-400c-bef0-b363b47f0880",
   "metadata": {},
   "outputs": [],
   "source": [
    "def mse( x,y, w):\n",
    "    hx = w*x # [-1,-1,-1] *[1,2,3] = [-1,-2,-3]\n",
    "    # hx-y : [-1,-2,-3]- [1,2,3 ]  = [-2,-4,-6] = [4,16,36]\n",
    "    c = tf.reduce_sum( (hx-y)**2 )/len(x)\n",
    "    return c.numpy()"
   ]
  },
  {
   "cell_type": "code",
   "execution_count": 9,
   "id": "ed2f4ccc-c2e5-486e-8e5c-44dbcb45f72e",
   "metadata": {},
   "outputs": [],
   "source": [
    "def gradient( x,y, w):\n",
    "    # hx = w*x\n",
    "    c = tf.reduce_sum( (w*x-y)*x*2 )/len(x)\n",
    "    return c.numpy()"
   ]
  },
  {
   "cell_type": "code",
   "execution_count": 8,
   "id": "9e30c4c1-581f-4d2a-a544-e6f39c3afc2b",
   "metadata": {},
   "outputs": [
    {
     "name": "stdout",
     "output_type": "stream",
     "text": [
      "18.666666\n",
      "4.6666665\n",
      "0.0\n",
      "4.6666665\n"
     ]
    }
   ],
   "source": [
    "print( mse( x, y, -1))\n",
    "print( mse( x, y, 0))\n",
    "print( mse( x, y, 1))\n",
    "print( mse( x, y, 2))"
   ]
  },
  {
   "cell_type": "code",
   "execution_count": null,
   "id": "3628057f-794a-4201-9095-06820744d365",
   "metadata": {},
   "outputs": [],
   "source": []
  }
 ],
 "metadata": {
  "kernelspec": {
   "display_name": "Python 3 (ipykernel)",
   "language": "python",
   "name": "python3"
  },
  "language_info": {
   "codemirror_mode": {
    "name": "ipython",
    "version": 3
   },
   "file_extension": ".py",
   "mimetype": "text/x-python",
   "name": "python",
   "nbconvert_exporter": "python",
   "pygments_lexer": "ipython3",
   "version": "3.8.8"
  }
 },
 "nbformat": 4,
 "nbformat_minor": 5
}
 

